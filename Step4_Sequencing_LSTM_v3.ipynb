{
 "cells": [
  {
   "cell_type": "markdown",
   "id": "65c0ef24-f0fb-4cd4-a1f2-fe06bbb11ad7",
   "metadata": {},
   "source": [
    "# Step 1 | Platform Setup¶"
   ]
  },
  {
   "cell_type": "markdown",
   "id": "e8929564-6256-4660-9f31-922d3bae5223",
   "metadata": {},
   "source": [
    "## Step 1.1 | Check Environment"
   ]
  },
  {
   "cell_type": "markdown",
   "id": "c4c668d5-7051-4a22-a48a-e6e28ba04cd6",
   "metadata": {},
   "source": [
    "1. Open Anaconda Prompt\n",
    "2. conda activate tf-gpu\n",
    "3. cd \"C:\\Users\\FaithanTo\\Desktop\\MSBA 6421 (001) Predictive Analytics\\m5-forecasting-accuracy\"\n",
    "4. jupyter notebook\n"
   ]
  },
  {
   "cell_type": "code",
   "execution_count": 2,
   "id": "23f88bd9-d67e-4bc0-8368-3ce73758e93f",
   "metadata": {},
   "outputs": [
    {
     "name": "stdout",
     "output_type": "stream",
     "text": [
      "C:\\Anaconda\\envs\\tf-gpu\\python.exe\n",
      "C:\\Anaconda\\python.exe\n"
     ]
    }
   ],
   "source": [
    "!where python"
   ]
  },
  {
   "cell_type": "code",
   "execution_count": 3,
   "id": "7563f958-b98c-410e-ae03-d07ee0ca7d7c",
   "metadata": {},
   "outputs": [
    {
     "name": "stdout",
     "output_type": "stream",
     "text": [
      "C:\\Anaconda\\envs\\tf-gpu\\python.exe\n",
      "2.10.0\n",
      "[PhysicalDevice(name='/physical_device:GPU:0', device_type='GPU')]\n",
      "1.13.1+cu116\n",
      "True\n",
      "NVIDIA GeForce RTX 3050 4GB Laptop GPU\n"
     ]
    }
   ],
   "source": [
    "import sys\n",
    "import tensorflow as tf\n",
    "import torch\n",
    "\n",
    "print(sys.executable)\n",
    "print(tf.__version__)\n",
    "print(tf.config.list_physical_devices('GPU'))\n",
    "print(torch.__version__)\n",
    "print(torch.cuda.is_available())\n",
    "print(torch.cuda.get_device_name(0))"
   ]
  },
  {
   "cell_type": "markdown",
   "id": "54f809f3-9b4e-4a72-8969-d03aaa06613c",
   "metadata": {},
   "source": [
    "## Step 1.2 | Import Libraries"
   ]
  },
  {
   "cell_type": "code",
   "execution_count": 4,
   "id": "899ca49f-66b0-4d19-8196-cec9453c2c6d",
   "metadata": {},
   "outputs": [],
   "source": [
    "import polars as pl\n",
    "import pandas as pd\n",
    "import numpy as np\n",
    "import random\n",
    "import time\n",
    "import matplotlib.pyplot as plt\n",
    "import seaborn as sns\n",
    "from sklearn.preprocessing import StandardScaler, MinMaxScaler\n",
    "from sklearn.preprocessing import LabelEncoder\n",
    "from sklearn.model_selection import train_test_split\n",
    "import gc\n",
    "import warnings\n",
    "import os\n",
    "import torch\n",
    "from torch.utils.data import Dataset, DataLoader, TensorDataset\n",
    "import torch.nn as nn\n",
    "from torch.optim import Adam\n",
    "from tqdm import tqdm\n",
    "from multiprocess import Pool, cpu_count\n",
    "from concurrent.futures import ProcessPoolExecutor, as_completed\n",
    "import multiprocessing\n",
    "import pickle\n",
    "import joblib\n",
    "import glob\n",
    "import psutil\n",
    "import os\n",
    "from m5_wrmsse import wrmsse\n",
    "import csv"
   ]
  },
  {
   "cell_type": "code",
   "execution_count": 5,
   "id": "3e0338ef-c6b0-48cf-84ff-ebc796e24d68",
   "metadata": {},
   "outputs": [
    {
     "name": "stdout",
     "output_type": "stream",
     "text": [
      "NumPy version: 1.26.4\n"
     ]
    }
   ],
   "source": [
    "os.environ[\"CUDA_VISIBLE_DEVICES\"] = \"\"\n",
    "warnings.filterwarnings('ignore', category=FutureWarning)\n",
    "warnings.filterwarnings('ignore', category=RuntimeWarning)\n",
    "pd.set_option('display.max_columns', None)\n",
    "print(\"NumPy version:\", np.__version__)"
   ]
  },
  {
   "cell_type": "markdown",
   "id": "d5566d13-f688-4f08-9812-ef0f6dfd366c",
   "metadata": {},
   "source": [
    "# Step 2 | Load Data"
   ]
  },
  {
   "cell_type": "code",
   "execution_count": 6,
   "id": "2816f3cd-5e91-4840-982b-20375394f74e",
   "metadata": {},
   "outputs": [
    {
     "name": "stdout",
     "output_type": "stream",
     "text": [
      "✅ Loaded dataframe with shape: (59181090, 32)\n"
     ]
    },
    {
     "data": {
      "text/html": [
       "<div><style>\n",
       ".dataframe > thead > tr,\n",
       ".dataframe > tbody > tr {\n",
       "  text-align: right;\n",
       "  white-space: pre-wrap;\n",
       "}\n",
       "</style>\n",
       "<small>shape: (5, 32)</small><table border=\"1\" class=\"dataframe\"><thead><tr><th>id</th><th>item_id</th><th>dept_id</th><th>cat_id</th><th>store_id</th><th>state_id</th><th>sales</th><th>year</th><th>event_name_1</th><th>event_type_1</th><th>snap_CA</th><th>snap_TX</th><th>snap_WI</th><th>sell_price</th><th>d_num</th><th>store_item_rolling_mean_7d</th><th>store_item_rolling_std_30d</th><th>store_total_sales_7d</th><th>store_avg_item_sales_ratio</th><th>store_total_sales</th><th>store_cat_rolling_mean_14d</th><th>state_dept_rolling_mean_30d</th><th>state_cat_prev_week_sales</th><th>state_cat_weekly_growth</th><th>country_sales</th><th>sales_LY</th><th>is_new_id</th><th>d_num_scaled</th><th>weekday_sin</th><th>weekday_cos</th><th>month_sin</th><th>month_cos</th></tr><tr><td>cat</td><td>i32</td><td>i32</td><td>i32</td><td>i32</td><td>i32</td><td>i16</td><td>i64</td><td>i32</td><td>i32</td><td>i8</td><td>i8</td><td>i8</td><td>f64</td><td>i16</td><td>f64</td><td>f64</td><td>f64</td><td>f64</td><td>f64</td><td>f64</td><td>f64</td><td>f64</td><td>f64</td><td>f64</td><td>f64</td><td>i8</td><td>f64</td><td>f64</td><td>f64</td><td>f64</td><td>f64</td></tr></thead><tbody><tr><td>&quot;FOODS_1_001_CA_1_evaluation&quot;</td><td>0</td><td>0</td><td>0</td><td>0</td><td>0</td><td>3</td><td>0</td><td>19</td><td>2</td><td>0</td><td>0</td><td>0</td><td>-0.693997</td><td>1</td><td>0.551939</td><td>0.574769</td><td>-2.431641</td><td>0.304447</td><td>0.674762</td><td>1.696726</td><td>-0.545545</td><td>1.464391</td><td>-0.031893</td><td>-0.249161</td><td>0.458554</td><td>1</td><td>0.0</td><td>-0.974928</td><td>-0.222521</td><td>0.0</td><td>1.0</td></tr><tr><td>&quot;FOODS_1_001_CA_1_evaluation&quot;</td><td>0</td><td>0</td><td>0</td><td>0</td><td>0</td><td>0</td><td>0</td><td>19</td><td>2</td><td>0</td><td>0</td><td>0</td><td>-0.693997</td><td>2</td><td>0.10919</td><td>0.574769</td><td>-1.920052</td><td>-0.273864</td><td>0.53661</td><td>1.648795</td><td>-0.548824</td><td>1.464391</td><td>-0.031893</td><td>-0.367965</td><td>0.458554</td><td>1</td><td>0.000515</td><td>-0.781831</td><td>0.62349</td><td>0.0</td><td>1.0</td></tr><tr><td>&quot;FOODS_1_001_CA_1_evaluation&quot;</td><td>0</td><td>0</td><td>0</td><td>0</td><td>0</td><td>0</td><td>0</td><td>19</td><td>2</td><td>0</td><td>0</td><td>0</td><td>-0.693997</td><td>3</td><td>-0.038393</td><td>0.370301</td><td>-1.573328</td><td>-0.273864</td><td>-0.479796</td><td>1.279138</td><td>-0.601656</td><td>1.464391</td><td>-0.031893</td><td>-1.440972</td><td>0.458554</td><td>1</td><td>0.001031</td><td>0.0</td><td>1.0</td><td>0.0</td><td>1.0</td></tr><tr><td>&quot;FOODS_1_001_CA_1_evaluation&quot;</td><td>0</td><td>0</td><td>0</td><td>0</td><td>0</td><td>1</td><td>0</td><td>19</td><td>2</td><td>1</td><td>1</td><td>0</td><td>-0.693997</td><td>4</td><td>-0.038393</td><td>0.203353</td><td>-1.19767</td><td>0.000159</td><td>-0.301412</td><td>1.153047</td><td>-0.632881</td><td>1.464391</td><td>-0.031893</td><td>-1.221549</td><td>0.458554</td><td>1</td><td>0.001546</td><td>0.781831</td><td>0.62349</td><td>0.5</td><td>0.866025</td></tr><tr><td>&quot;FOODS_1_001_CA_1_evaluation&quot;</td><td>0</td><td>0</td><td>0</td><td>0</td><td>0</td><td>4</td><td>0</td><td>19</td><td>2</td><td>1</td><td>0</td><td>1</td><td>-0.693997</td><td>5</td><td>0.138707</td><td>0.414706</td><td>-0.873848</td><td>0.997689</td><td>-0.620984</td><td>1.034914</td><td>-0.652841</td><td>1.464391</td><td>-0.031893</td><td>-2.065569</td><td>0.458554</td><td>1</td><td>0.002062</td><td>0.974928</td><td>-0.222521</td><td>0.5</td><td>0.866025</td></tr></tbody></table></div>"
      ],
      "text/plain": [
       "shape: (5, 32)\n",
       "┌─────────────────────────────┬─────────┬─────────┬────────┬───┬─────────────┬─────────────┬───────────┬───────────┐\n",
       "│ id                          ┆ item_id ┆ dept_id ┆ cat_id ┆ … ┆ weekday_sin ┆ weekday_cos ┆ month_sin ┆ month_cos │\n",
       "│ ---                         ┆ ---     ┆ ---     ┆ ---    ┆   ┆ ---         ┆ ---         ┆ ---       ┆ ---       │\n",
       "│ cat                         ┆ i32     ┆ i32     ┆ i32    ┆   ┆ f64         ┆ f64         ┆ f64       ┆ f64       │\n",
       "╞═════════════════════════════╪═════════╪═════════╪════════╪═══╪═════════════╪═════════════╪═══════════╪═══════════╡\n",
       "│ FOODS_1_001_CA_1_evaluation ┆ 0       ┆ 0       ┆ 0      ┆ … ┆ -0.974928   ┆ -0.222521   ┆ 0.0       ┆ 1.0       │\n",
       "│ FOODS_1_001_CA_1_evaluation ┆ 0       ┆ 0       ┆ 0      ┆ … ┆ -0.781831   ┆ 0.62349     ┆ 0.0       ┆ 1.0       │\n",
       "│ FOODS_1_001_CA_1_evaluation ┆ 0       ┆ 0       ┆ 0      ┆ … ┆ 0.0         ┆ 1.0         ┆ 0.0       ┆ 1.0       │\n",
       "│ FOODS_1_001_CA_1_evaluation ┆ 0       ┆ 0       ┆ 0      ┆ … ┆ 0.781831    ┆ 0.62349     ┆ 0.5       ┆ 0.866025  │\n",
       "│ FOODS_1_001_CA_1_evaluation ┆ 0       ┆ 0       ┆ 0      ┆ … ┆ 0.974928    ┆ -0.222521   ┆ 0.5       ┆ 0.866025  │\n",
       "└─────────────────────────────┴─────────┴─────────┴────────┴───┴─────────────┴─────────────┴───────────┴───────────┘"
      ]
     },
     "execution_count": 6,
     "metadata": {},
     "output_type": "execute_result"
    }
   ],
   "source": [
    "# Load data as a Polars DataFrame\n",
    "\n",
    "# This tells Polars to cache categorical strings globally, so the encodings remain consistent across multiple DataFrames \n",
    "# - essential for clean joins or filters later in your pipeline.\n",
    "pl.enable_string_cache()\n",
    "\n",
    "df_pl = pl.read_parquet(\"C:/Users/FaithanTo/Desktop/MSBA 6421 (001) Predictive Analytics/m5-forecasting-accuracy/Step3_Encoding_LSTM_v3.parquet\")\n",
    "print(f\"✅ Loaded dataframe with shape: {df_pl.shape}\")\n",
    "df_pl.head()"
   ]
  },
  {
   "cell_type": "markdown",
   "id": "93b6b107-4c62-42c6-9f19-112e71b2af4e",
   "metadata": {},
   "source": [
    "# Step 3 | Per-ID Time Series Partitioning for Memory-Safe Sequencing"
   ]
  },
  {
   "cell_type": "code",
   "execution_count": 17,
   "id": "86b67188-f651-46f1-89ee-68183b50548a",
   "metadata": {},
   "outputs": [],
   "source": [
    "# === Directory ===\n",
    "SAVE_DIR = \"sequence_chunks_v3\"\n",
    "GROUP_SAVE_DIR = os.path.join(SAVE_DIR, \"grouped_v3\")\n",
    "os.makedirs(GROUP_SAVE_DIR, exist_ok=True)"
   ]
  },
  {
   "cell_type": "markdown",
   "id": "efdb0a33-2ee7-430e-af04-d79b8bdf8f60",
   "metadata": {},
   "source": [
    "## Step 3.1 | Create Partitions"
   ]
  },
  {
   "cell_type": "code",
   "execution_count": 8,
   "id": "705fc1ec-2dfa-440c-9845-8f1d2fd0fbda",
   "metadata": {},
   "outputs": [
    {
     "name": "stdout",
     "output_type": "stream",
     "text": [
      "🧾 Found 30,490 unique IDs\n"
     ]
    }
   ],
   "source": [
    "# === Get unique IDs ===\n",
    "all_ids = df_pl.select(\"id\").unique().to_series().to_list()\n",
    "print(f\"🧾 Found {len(all_ids):,} unique IDs\")"
   ]
  },
  {
   "cell_type": "code",
   "execution_count": 9,
   "id": "02746c20-f943-434f-b3b6-d4de0c5967dd",
   "metadata": {},
   "outputs": [],
   "source": [
    "# === Helper: Show memory usage ===\n",
    "def print_memory(label=\"\"):\n",
    "    mem = psutil.Process().memory_info().rss / 1024**3\n",
    "    print(f\"🧠 Memory [{label}]: {mem:.2f} GB\")"
   ]
  },
  {
   "cell_type": "code",
   "execution_count": 10,
   "id": "e102dcae-b6d1-430f-841f-1bc21feb6a5f",
   "metadata": {},
   "outputs": [
    {
     "name": "stdout",
     "output_type": "stream",
     "text": [
      "📦 Saving individual ID-level parquet files to disk...\n",
      "🧠 Memory [Start]: 2.91 GB\n"
     ]
    },
    {
     "name": "stderr",
     "output_type": "stream",
     "text": [
      "  3%|██▍                                                                        | 1003/30490 [01:38<1:48:50,  4.51it/s]"
     ]
    },
    {
     "name": "stdout",
     "output_type": "stream",
     "text": [
      "🧠 Memory [After 1000 IDs]: 3.26 GB\n"
     ]
    },
    {
     "name": "stderr",
     "output_type": "stream",
     "text": [
      "  7%|████▉                                                                      | 2002/30490 [03:21<1:04:03,  7.41it/s]"
     ]
    },
    {
     "name": "stdout",
     "output_type": "stream",
     "text": [
      "🧠 Memory [After 2000 IDs]: 3.61 GB\n"
     ]
    },
    {
     "name": "stderr",
     "output_type": "stream",
     "text": [
      " 10%|███████▍                                                                   | 3001/30490 [05:07<1:41:00,  4.54it/s]"
     ]
    },
    {
     "name": "stdout",
     "output_type": "stream",
     "text": [
      "🧠 Memory [After 3000 IDs]: 3.96 GB\n"
     ]
    },
    {
     "name": "stderr",
     "output_type": "stream",
     "text": [
      " 13%|█████████▊                                                                 | 4002/30490 [06:55<1:08:20,  6.46it/s]"
     ]
    },
    {
     "name": "stdout",
     "output_type": "stream",
     "text": [
      "🧠 Memory [After 4000 IDs]: 4.30 GB\n"
     ]
    },
    {
     "name": "stderr",
     "output_type": "stream",
     "text": [
      " 16%|████████████▎                                                              | 5001/30490 [08:41<1:21:18,  5.22it/s]"
     ]
    },
    {
     "name": "stdout",
     "output_type": "stream",
     "text": [
      "🧠 Memory [After 5000 IDs]: 4.65 GB\n"
     ]
    },
    {
     "name": "stderr",
     "output_type": "stream",
     "text": [
      " 20%|██████████████▊                                                            | 6002/30490 [10:34<1:16:18,  5.35it/s]"
     ]
    },
    {
     "name": "stdout",
     "output_type": "stream",
     "text": [
      "🧠 Memory [After 6000 IDs]: 5.00 GB\n"
     ]
    },
    {
     "name": "stderr",
     "output_type": "stream",
     "text": [
      " 23%|█████████████████▏                                                         | 7001/30490 [13:00<1:06:43,  5.87it/s]"
     ]
    },
    {
     "name": "stdout",
     "output_type": "stream",
     "text": [
      "🧠 Memory [After 7000 IDs]: 3.89 GB\n"
     ]
    },
    {
     "name": "stderr",
     "output_type": "stream",
     "text": [
      " 26%|███████████████████▋                                                       | 8001/30490 [15:38<1:31:47,  4.08it/s]"
     ]
    },
    {
     "name": "stdout",
     "output_type": "stream",
     "text": [
      "🧠 Memory [After 8000 IDs]: 4.33 GB\n"
     ]
    },
    {
     "name": "stderr",
     "output_type": "stream",
     "text": [
      " 30%|██████████████████████▏                                                    | 9002/30490 [18:07<1:01:26,  5.83it/s]"
     ]
    },
    {
     "name": "stdout",
     "output_type": "stream",
     "text": [
      "🧠 Memory [After 9000 IDs]: 4.76 GB\n"
     ]
    },
    {
     "name": "stderr",
     "output_type": "stream",
     "text": [
      " 33%|████████████████████████▎                                                 | 10001/30490 [20:21<1:13:42,  4.63it/s]"
     ]
    },
    {
     "name": "stdout",
     "output_type": "stream",
     "text": [
      "🧠 Memory [After 10000 IDs]: 5.17 GB\n"
     ]
    },
    {
     "name": "stderr",
     "output_type": "stream",
     "text": [
      " 36%|███████████████████████████▍                                                | 11002/30490 [22:26<55:07,  5.89it/s]"
     ]
    },
    {
     "name": "stdout",
     "output_type": "stream",
     "text": [
      "🧠 Memory [After 11000 IDs]: 5.55 GB\n"
     ]
    },
    {
     "name": "stderr",
     "output_type": "stream",
     "text": [
      " 39%|█████████████████████████████▉                                              | 12002/30490 [24:44<53:38,  5.75it/s]"
     ]
    },
    {
     "name": "stdout",
     "output_type": "stream",
     "text": [
      "🧠 Memory [After 12000 IDs]: 5.87 GB\n"
     ]
    },
    {
     "name": "stderr",
     "output_type": "stream",
     "text": [
      " 43%|███████████████████████████████▌                                          | 13002/30490 [27:04<1:02:26,  4.67it/s]"
     ]
    },
    {
     "name": "stdout",
     "output_type": "stream",
     "text": [
      "🧠 Memory [After 13000 IDs]: 6.18 GB\n"
     ]
    },
    {
     "name": "stderr",
     "output_type": "stream",
     "text": [
      " 46%|██████████████████████████████████▉                                         | 14002/30490 [28:58<43:13,  6.36it/s]"
     ]
    },
    {
     "name": "stdout",
     "output_type": "stream",
     "text": [
      "🧠 Memory [After 14000 IDs]: 6.45 GB\n"
     ]
    },
    {
     "name": "stderr",
     "output_type": "stream",
     "text": [
      " 49%|█████████████████████████████████████▍                                      | 15001/30490 [30:57<52:27,  4.92it/s]"
     ]
    },
    {
     "name": "stdout",
     "output_type": "stream",
     "text": [
      "🧠 Memory [After 15000 IDs]: 6.78 GB\n"
     ]
    },
    {
     "name": "stderr",
     "output_type": "stream",
     "text": [
      " 52%|███████████████████████████████████████▉                                    | 16003/30490 [32:55<40:09,  6.01it/s]"
     ]
    },
    {
     "name": "stdout",
     "output_type": "stream",
     "text": [
      "🧠 Memory [After 16000 IDs]: 7.06 GB\n"
     ]
    },
    {
     "name": "stderr",
     "output_type": "stream",
     "text": [
      " 56%|██████████████████████████████████████████▍                                 | 17003/30490 [34:44<32:56,  6.82it/s]"
     ]
    },
    {
     "name": "stdout",
     "output_type": "stream",
     "text": [
      "🧠 Memory [After 17000 IDs]: 7.37 GB\n"
     ]
    },
    {
     "name": "stderr",
     "output_type": "stream",
     "text": [
      " 59%|████████████████████████████████████████████▊                               | 18000/30490 [36:18<17:58, 11.58it/s]"
     ]
    },
    {
     "name": "stdout",
     "output_type": "stream",
     "text": [
      "🧠 Memory [After 18000 IDs]: 7.70 GB\n"
     ]
    },
    {
     "name": "stderr",
     "output_type": "stream",
     "text": [
      " 62%|███████████████████████████████████████████████▎                            | 19002/30490 [37:43<26:14,  7.30it/s]"
     ]
    },
    {
     "name": "stdout",
     "output_type": "stream",
     "text": [
      "🧠 Memory [After 19000 IDs]: 8.01 GB\n"
     ]
    },
    {
     "name": "stderr",
     "output_type": "stream",
     "text": [
      " 66%|█████████████████████████████████████████████████▊                          | 20003/30490 [39:09<18:42,  9.34it/s]"
     ]
    },
    {
     "name": "stdout",
     "output_type": "stream",
     "text": [
      "🧠 Memory [After 20000 IDs]: 8.32 GB\n"
     ]
    },
    {
     "name": "stderr",
     "output_type": "stream",
     "text": [
      " 69%|████████████████████████████████████████████████████▎                       | 21002/30490 [40:38<20:33,  7.69it/s]"
     ]
    },
    {
     "name": "stdout",
     "output_type": "stream",
     "text": [
      "🧠 Memory [After 21000 IDs]: 8.55 GB\n"
     ]
    },
    {
     "name": "stderr",
     "output_type": "stream",
     "text": [
      " 72%|██████████████████████████████████████████████████████▊                     | 22002/30490 [42:23<21:53,  6.46it/s]"
     ]
    },
    {
     "name": "stdout",
     "output_type": "stream",
     "text": [
      "🧠 Memory [After 22000 IDs]: 8.78 GB\n"
     ]
    },
    {
     "name": "stderr",
     "output_type": "stream",
     "text": [
      " 75%|█████████████████████████████████████████████████████████▎                  | 23001/30490 [44:09<17:20,  7.19it/s]"
     ]
    },
    {
     "name": "stdout",
     "output_type": "stream",
     "text": [
      "🧠 Memory [After 23000 IDs]: 8.38 GB\n"
     ]
    },
    {
     "name": "stderr",
     "output_type": "stream",
     "text": [
      " 79%|███████████████████████████████████████████████████████████▊                | 24003/30490 [45:57<15:16,  7.07it/s]"
     ]
    },
    {
     "name": "stdout",
     "output_type": "stream",
     "text": [
      "🧠 Memory [After 24000 IDs]: 8.61 GB\n"
     ]
    },
    {
     "name": "stderr",
     "output_type": "stream",
     "text": [
      " 82%|██████████████████████████████████████████████████████████████▎             | 25002/30490 [47:47<14:56,  6.12it/s]"
     ]
    },
    {
     "name": "stdout",
     "output_type": "stream",
     "text": [
      "🧠 Memory [After 25000 IDs]: 8.84 GB\n"
     ]
    },
    {
     "name": "stderr",
     "output_type": "stream",
     "text": [
      " 85%|████████████████████████████████████████████████████████████████▊           | 26003/30490 [49:37<09:53,  7.56it/s]"
     ]
    },
    {
     "name": "stdout",
     "output_type": "stream",
     "text": [
      "🧠 Memory [After 26000 IDs]: 8.42 GB\n"
     ]
    },
    {
     "name": "stderr",
     "output_type": "stream",
     "text": [
      " 89%|███████████████████████████████████████████████████████████████████▎        | 27001/30490 [51:25<09:31,  6.10it/s]"
     ]
    },
    {
     "name": "stdout",
     "output_type": "stream",
     "text": [
      "🧠 Memory [After 27000 IDs]: 8.64 GB\n"
     ]
    },
    {
     "name": "stderr",
     "output_type": "stream",
     "text": [
      " 92%|█████████████████████████████████████████████████████████████████████▊      | 28002/30490 [53:33<06:08,  6.75it/s]"
     ]
    },
    {
     "name": "stdout",
     "output_type": "stream",
     "text": [
      "🧠 Memory [After 28000 IDs]: 8.30 GB\n"
     ]
    },
    {
     "name": "stderr",
     "output_type": "stream",
     "text": [
      " 95%|████████████████████████████████████████████████████████████████████████▎   | 29001/30490 [55:30<04:53,  5.07it/s]"
     ]
    },
    {
     "name": "stdout",
     "output_type": "stream",
     "text": [
      "🧠 Memory [After 29000 IDs]: 8.55 GB\n"
     ]
    },
    {
     "name": "stderr",
     "output_type": "stream",
     "text": [
      " 98%|██████████████████████████████████████████████████████████████████████████▊ | 30003/30490 [57:17<01:04,  7.57it/s]"
     ]
    },
    {
     "name": "stdout",
     "output_type": "stream",
     "text": [
      "🧠 Memory [After 30000 IDs]: 8.76 GB\n"
     ]
    },
    {
     "name": "stderr",
     "output_type": "stream",
     "text": [
      "100%|████████████████████████████████████████████████████████████████████████████| 30490/30490 [58:12<00:00,  8.73it/s]\n"
     ]
    },
    {
     "name": "stdout",
     "output_type": "stream",
     "text": [
      "🧠 Memory [Final]: 8.01 GB\n",
      "✅ Done saving all group files.\n"
     ]
    }
   ],
   "source": [
    "# === Save each group (resume-safe) ===\n",
    "print(\"📦 Saving individual ID-level parquet files to disk...\")\n",
    "print_memory(\"Start\")\n",
    "\n",
    "for i, id_val in enumerate(tqdm(all_ids)):\n",
    "    save_path = os.path.join(GROUP_SAVE_DIR, f\"{id_val}.parquet\")\n",
    "\n",
    "    if not os.path.exists(save_path):\n",
    "        df_pl.filter(pl.col(\"id\") == id_val).write_parquet(save_path)\n",
    "\n",
    "    # Free memory and monitor usage every 1000 IDs\n",
    "    if i % 1000 == 0 and i > 0:\n",
    "        gc.collect()\n",
    "        print_memory(f\"After {i} IDs\")\n",
    "\n",
    "# Final cleanup\n",
    "gc.collect()\n",
    "print_memory(\"Final\")\n",
    "\n",
    "print(\"✅ Done saving all group files.\")"
   ]
  },
  {
   "cell_type": "markdown",
   "id": "595d8a6f-139a-4e20-bdc8-e7d0c88dadd5",
   "metadata": {},
   "source": [
    "## Step 3.2 | Verify Partitions"
   ]
  },
  {
   "cell_type": "markdown",
   "id": "500e274b-819d-4bf2-b738-9efe76ec78c6",
   "metadata": {},
   "source": [
    "### Step 3.2.1 | File Count Check"
   ]
  },
  {
   "cell_type": "code",
   "execution_count": 9,
   "id": "dfd7404a-b3f9-41dc-98a9-47de3c1d8591",
   "metadata": {},
   "outputs": [
    {
     "name": "stdout",
     "output_type": "stream",
     "text": [
      "Expected ID count: 30,490\n",
      "Saved parquet files: 30,490\n",
      "✅ All IDs are accounted for.\n"
     ]
    }
   ],
   "source": [
    "expected_ids = df_pl.select(\"id\").unique().to_series().to_list()\n",
    "\n",
    "# Check number of saved files\n",
    "saved_files = [f for f in os.listdir(GROUP_SAVE_DIR) if f.endswith(\".parquet\")]\n",
    "\n",
    "print(f\"Expected ID count: {len(expected_ids):,}\")\n",
    "print(f\"Saved parquet files: {len(saved_files):,}\")\n",
    "\n",
    "missing_files = set(expected_ids) - set(f.replace(\".parquet\", \"\") for f in saved_files)\n",
    "if missing_files:\n",
    "    print(f\"❌ {len(missing_files)} files are missing!\")\n",
    "else:\n",
    "    print(\"✅ All IDs are accounted for.\")"
   ]
  },
  {
   "cell_type": "markdown",
   "id": "0b5e51b0-8630-40d6-9450-4cd45b130f25",
   "metadata": {},
   "source": [
    "### Step 3.2.2 | Spot Check Contents"
   ]
  },
  {
   "cell_type": "code",
   "execution_count": 10,
   "id": "a19ba76b-4072-4fee-b081-987a8408bf42",
   "metadata": {},
   "outputs": [
    {
     "name": "stdout",
     "output_type": "stream",
     "text": [
      "🔍 HOBBIES_1_104_CA_4_evaluation.parquet: 1941 rows, ID = HOBBIES_1_104_CA_4_evaluation\n",
      "🔍 FOODS_3_519_CA_2_evaluation.parquet: 1941 rows, ID = FOODS_3_519_CA_2_evaluation\n",
      "🔍 HOBBIES_1_307_CA_1_evaluation.parquet: 1941 rows, ID = HOBBIES_1_307_CA_1_evaluation\n",
      "🔍 FOODS_3_232_CA_2_evaluation.parquet: 1941 rows, ID = FOODS_3_232_CA_2_evaluation\n",
      "🔍 FOODS_3_585_TX_1_evaluation.parquet: 1941 rows, ID = FOODS_3_585_TX_1_evaluation\n"
     ]
    }
   ],
   "source": [
    "sample_files = random.sample(saved_files, 5)\n",
    "\n",
    "for f in sample_files:\n",
    "    df = pl.read_parquet(os.path.join(GROUP_SAVE_DIR, f))\n",
    "    unique_ids = df.select(\"id\").unique().to_series().to_list()\n",
    "    dnum_sorted = df[\"d_num\"].is_sorted()\n",
    "\n",
    "    print(f\"🔍 {f}: {len(df)} rows, ID = {unique_ids[0]}\")\n",
    "    if len(unique_ids) != 1:\n",
    "        print(\"❌ Multiple IDs found!\")\n",
    "    if not dnum_sorted:\n",
    "        print(\"⚠️ d_num is not sorted!\")"
   ]
  },
  {
   "cell_type": "markdown",
   "id": "8c958362-ac7e-4296-ac13-4a792f0defc9",
   "metadata": {},
   "source": [
    "### Step 3.2.3 | Check Column Names Match"
   ]
  },
  {
   "cell_type": "code",
   "execution_count": 13,
   "id": "4a858831-6d94-419f-94a9-d1a5152157dc",
   "metadata": {},
   "outputs": [
    {
     "data": {
      "text/plain": [
       "[]"
      ]
     },
     "execution_count": 13,
     "metadata": {},
     "output_type": "execute_result"
    }
   ],
   "source": [
    "expected_cols = df_pl.columns\n",
    "bad_files = []\n",
    "\n",
    "for f in random.sample(saved_files, 20):\n",
    "    df = pl.read_parquet(os.path.join(GROUP_SAVE_DIR, f))\n",
    "    if df.columns != expected_cols:\n",
    "        print(f\"❌ Column mismatch in {f}\")\n",
    "        bad_files.append(f)\n",
    "\n",
    "bad_files"
   ]
  },
  {
   "cell_type": "markdown",
   "id": "d0fcacab-6953-41da-94e5-9bc902451bbe",
   "metadata": {},
   "source": [
    "### Step 3.2.4 | Recreate ID Summary Table"
   ]
  },
  {
   "cell_type": "code",
   "execution_count": 14,
   "id": "351bcd83-99f7-4ffc-b6d1-0c30bb173026",
   "metadata": {},
   "outputs": [
    {
     "data": {
      "text/html": [
       "<div>\n",
       "<style scoped>\n",
       "    .dataframe tbody tr th:only-of-type {\n",
       "        vertical-align: middle;\n",
       "    }\n",
       "\n",
       "    .dataframe tbody tr th {\n",
       "        vertical-align: top;\n",
       "    }\n",
       "\n",
       "    .dataframe thead th {\n",
       "        text-align: right;\n",
       "    }\n",
       "</style>\n",
       "<table border=\"1\" class=\"dataframe\">\n",
       "  <thead>\n",
       "    <tr style=\"text-align: right;\">\n",
       "      <th></th>\n",
       "      <th>id</th>\n",
       "      <th>num_rows</th>\n",
       "      <th>min_d</th>\n",
       "      <th>max_d</th>\n",
       "    </tr>\n",
       "  </thead>\n",
       "  <tbody>\n",
       "    <tr>\n",
       "      <th>0</th>\n",
       "      <td>FOODS_3_509_TX_1_evaluation</td>\n",
       "      <td>1941</td>\n",
       "      <td>1</td>\n",
       "      <td>1941</td>\n",
       "    </tr>\n",
       "    <tr>\n",
       "      <th>1</th>\n",
       "      <td>FOODS_3_459_TX_3_evaluation</td>\n",
       "      <td>1941</td>\n",
       "      <td>1</td>\n",
       "      <td>1941</td>\n",
       "    </tr>\n",
       "    <tr>\n",
       "      <th>2</th>\n",
       "      <td>HOUSEHOLD_1_231_CA_4_evaluation</td>\n",
       "      <td>1941</td>\n",
       "      <td>1</td>\n",
       "      <td>1941</td>\n",
       "    </tr>\n",
       "    <tr>\n",
       "      <th>3</th>\n",
       "      <td>HOUSEHOLD_1_195_CA_3_evaluation</td>\n",
       "      <td>1941</td>\n",
       "      <td>1</td>\n",
       "      <td>1941</td>\n",
       "    </tr>\n",
       "    <tr>\n",
       "      <th>4</th>\n",
       "      <td>FOODS_2_022_WI_3_evaluation</td>\n",
       "      <td>1941</td>\n",
       "      <td>1</td>\n",
       "      <td>1941</td>\n",
       "    </tr>\n",
       "    <tr>\n",
       "      <th>5</th>\n",
       "      <td>FOODS_3_420_WI_2_evaluation</td>\n",
       "      <td>1941</td>\n",
       "      <td>1</td>\n",
       "      <td>1941</td>\n",
       "    </tr>\n",
       "    <tr>\n",
       "      <th>6</th>\n",
       "      <td>HOBBIES_2_084_CA_1_evaluation</td>\n",
       "      <td>1941</td>\n",
       "      <td>1</td>\n",
       "      <td>1941</td>\n",
       "    </tr>\n",
       "    <tr>\n",
       "      <th>7</th>\n",
       "      <td>FOODS_3_136_WI_1_evaluation</td>\n",
       "      <td>1941</td>\n",
       "      <td>1</td>\n",
       "      <td>1941</td>\n",
       "    </tr>\n",
       "    <tr>\n",
       "      <th>8</th>\n",
       "      <td>FOODS_1_084_CA_4_evaluation</td>\n",
       "      <td>1941</td>\n",
       "      <td>1</td>\n",
       "      <td>1941</td>\n",
       "    </tr>\n",
       "    <tr>\n",
       "      <th>9</th>\n",
       "      <td>HOBBIES_1_362_CA_4_evaluation</td>\n",
       "      <td>1941</td>\n",
       "      <td>1</td>\n",
       "      <td>1941</td>\n",
       "    </tr>\n",
       "  </tbody>\n",
       "</table>\n",
       "</div>"
      ],
      "text/plain": [
       "                                id  num_rows  min_d  max_d\n",
       "0      FOODS_3_509_TX_1_evaluation      1941      1   1941\n",
       "1      FOODS_3_459_TX_3_evaluation      1941      1   1941\n",
       "2  HOUSEHOLD_1_231_CA_4_evaluation      1941      1   1941\n",
       "3  HOUSEHOLD_1_195_CA_3_evaluation      1941      1   1941\n",
       "4      FOODS_2_022_WI_3_evaluation      1941      1   1941\n",
       "5      FOODS_3_420_WI_2_evaluation      1941      1   1941\n",
       "6    HOBBIES_2_084_CA_1_evaluation      1941      1   1941\n",
       "7      FOODS_3_136_WI_1_evaluation      1941      1   1941\n",
       "8      FOODS_1_084_CA_4_evaluation      1941      1   1941\n",
       "9    HOBBIES_1_362_CA_4_evaluation      1941      1   1941"
      ]
     },
     "execution_count": 14,
     "metadata": {},
     "output_type": "execute_result"
    }
   ],
   "source": [
    "# Recreate a small summary like: ID, num_rows, d_min, d_max\n",
    "summary_rows = []\n",
    "\n",
    "for f in random.sample(saved_files, 10):\n",
    "    df = pl.read_parquet(os.path.join(GROUP_SAVE_DIR, f))\n",
    "    summary_rows.append({\n",
    "        \"id\": df[\"id\"][0],\n",
    "        \"num_rows\": df.shape[0],\n",
    "        \"min_d\": df[\"d_num\"].min(),\n",
    "        \"max_d\": df[\"d_num\"].max()\n",
    "    })\n",
    "\n",
    "pd.DataFrame(summary_rows)"
   ]
  },
  {
   "cell_type": "markdown",
   "id": "e7d508f7-e6f4-4ba1-b60c-414c9fbf6606",
   "metadata": {},
   "source": [
    "# Step 4 | Sequencing"
   ]
  },
  {
   "cell_type": "markdown",
   "id": "72d47bca-f422-4459-9122-ead2eee1c59d",
   "metadata": {},
   "source": [
    "## Step 4.1 | Input Columns"
   ]
  },
  {
   "cell_type": "code",
   "execution_count": 12,
   "id": "1e96f55f-881c-44ed-af48-9391bab3cc87",
   "metadata": {},
   "outputs": [],
   "source": [
    "embedding_cols = ['item_id', 'dept_id']\n",
    "\n",
    "categorical_cols = [\n",
    "    'cat_id',\n",
    "    'store_id', 'state_id',\n",
    "    'year', \n",
    "    'event_name_1', 'event_type_1'\n",
    "]\n",
    "\n",
    "cycle_cols = [\n",
    "    'weekday_sin', 'weekday_cos',\n",
    "    'month_sin', 'month_cos',\n",
    "]\n",
    "\n",
    "binary_cols = [\n",
    "    'snap_CA', 'snap_TX', 'snap_WI', \n",
    "    'is_new_id'\n",
    "]\n",
    "\n",
    "numerical_cols_ss = [\n",
    "    'sell_price', 'sales_LY',\n",
    "    'store_item_rolling_mean_7d', 'store_item_rolling_std_30d',\n",
    "    'store_total_sales_7d', 'store_avg_item_sales_ratio',\n",
    "    'store_total_sales', 'store_cat_rolling_mean_14d',\n",
    "    'state_dept_rolling_mean_30d', 'state_cat_prev_week_sales',\n",
    "    'state_cat_weekly_growth', 'country_sales'\n",
    "]\n",
    "\n",
    "numerical_cols_mm = ['d_num_scaled']\n",
    "\n",
    "input_cols = embedding_cols + categorical_cols + cycle_cols + binary_cols + numerical_cols_ss + numerical_cols_mm"
   ]
  },
  {
   "cell_type": "code",
   "execution_count": 13,
   "id": "43cfba31-7677-493b-867b-60678eaa16b8",
   "metadata": {},
   "outputs": [],
   "source": [
    "# === Parameters ===\n",
    "INPUT_SEQ_LEN = 56\n",
    "FORECAST_HORIZON = 28\n",
    "STRIDE = 7\n",
    "BATCH_SIZE = 100\n",
    "SEED = 42"
   ]
  },
  {
   "cell_type": "markdown",
   "id": "f05ba3ea-0360-466b-92b7-01a42a9b6022",
   "metadata": {},
   "source": [
    "## Step 4.2 | Create Training Sequences"
   ]
  },
  {
   "cell_type": "code",
   "execution_count": 26,
   "id": "e11cee4f-c2e9-4247-9a62-28e94ce8336b",
   "metadata": {},
   "outputs": [],
   "source": [
    "# === Sequence Generator ===\n",
    "def generate_sequences_for_id_polars(group_df, input_cols, input_len, output_len, stride=1):\n",
    "    X, y = [], []\n",
    "    group_df = group_df.sort(\"d_num\")\n",
    "    df_len = group_df.height\n",
    "\n",
    "    if df_len < input_len + output_len:\n",
    "        return X, y\n",
    "\n",
    "    input_array = group_df.select(input_cols).to_numpy()\n",
    "    sales_array = group_df.select(\"sales\").to_numpy().flatten()\n",
    "\n",
    "    for i in range(0, df_len - input_len - output_len + 1, stride):\n",
    "        target_window = group_df[i + input_len : i + input_len + output_len]\n",
    "\n",
    "        # ✅ Safely check the final d_num of the target window\n",
    "        if target_window[-1, \"d_num\"] < 1914:\n",
    "            X.append(input_array[i:i+input_len].astype(np.float32))\n",
    "            y.append(sales_array[i+input_len:i+input_len+output_len].astype(np.float32))\n",
    "\n",
    "    return X, y"
   ]
  },
  {
   "cell_type": "code",
   "execution_count": 27,
   "id": "f68e05ca-b5c1-43ec-87cf-f814d0086d36",
   "metadata": {},
   "outputs": [],
   "source": [
    "# === Randomized Batching ===\n",
    "def get_randomized_batches(group_dir, batch_size, seed=42):\n",
    "    all_ids = [f.replace(\".parquet\", \"\") for f in os.listdir(group_dir) if f.endswith(\".parquet\")]\n",
    "    random.seed(seed)\n",
    "    random.shuffle(all_ids)\n",
    "    return [all_ids[i:i+batch_size] for i in range(0, len(all_ids), batch_size)]"
   ]
  },
  {
   "cell_type": "code",
   "execution_count": 28,
   "id": "c8e3a6cf-45a9-44b6-bdd6-fa82ff3b19dc",
   "metadata": {},
   "outputs": [],
   "source": [
    "# === Dispatcher ===\n",
    "def serial_generate_from_disk(group_dir, save_dir, input_cols, input_len, output_len, stride, batch_size):\n",
    "    os.makedirs(save_dir, exist_ok=True)\n",
    "    batches = get_randomized_batches(group_dir, batch_size)\n",
    "\n",
    "    start = time.time()\n",
    "    for idx, batch in enumerate(tqdm(batches, desc=\"Saving shuffled batches\")):\n",
    "        X_all, y_all = [], []\n",
    "        for id_val in batch:\n",
    "            path = os.path.join(group_dir, f\"{id_val}.parquet\")\n",
    "            if os.path.exists(path):\n",
    "                group_df = pl.read_parquet(path)\n",
    "                X, y = generate_sequences_for_id_polars(group_df, input_cols, input_len, output_len, stride)\n",
    "                X_all.extend(X)\n",
    "                y_all.extend(y)\n",
    "\n",
    "        if X_all:\n",
    "            np.save(os.path.join(save_dir, f\"X_batch_{idx}.npy\"), np.array(X_all, dtype=np.float32))\n",
    "            np.save(os.path.join(save_dir, f\"y_batch_{idx}.npy\"), np.array(y_all, dtype=np.float32))\n",
    "\n",
    "        # 🧹 Memory cleanup\n",
    "        gc.collect()\n",
    "\n",
    "    print(f\"✅ Done saving all batches in {(time.time() - start) / 60:.2f} minutes\")"
   ]
  },
  {
   "cell_type": "code",
   "execution_count": 29,
   "id": "54038d7d-2fae-48e4-b20a-7553037629b7",
   "metadata": {},
   "outputs": [
    {
     "name": "stderr",
     "output_type": "stream",
     "text": [
      "Saving shuffled batches: 100%|███████████████████████████████████████████████████████| 305/305 [42:24<00:00,  8.34s/it]"
     ]
    },
    {
     "name": "stdout",
     "output_type": "stream",
     "text": [
      "✅ Done saving all batches in 42.40 minutes\n"
     ]
    },
    {
     "name": "stderr",
     "output_type": "stream",
     "text": [
      "\n"
     ]
    }
   ],
   "source": [
    "# === Final Run ===\n",
    "serial_generate_from_disk(\n",
    "    GROUP_SAVE_DIR, \n",
    "    SAVE_DIR, \n",
    "    input_cols, \n",
    "    INPUT_SEQ_LEN, \n",
    "    FORECAST_HORIZON, \n",
    "    STRIDE, \n",
    "    BATCH_SIZE)"
   ]
  },
  {
   "cell_type": "markdown",
   "id": "c05de13d-c0c3-4194-a6f4-5d165d803aa2",
   "metadata": {},
   "source": [
    "## Step 4.3 | Verify Training Sequences"
   ]
  },
  {
   "cell_type": "markdown",
   "id": "6af85bcc-11c9-4cc1-87ac-8e770520b8e3",
   "metadata": {},
   "source": [
    "### Step 4.2.1 | Load and Inspect File Shapes"
   ]
  },
  {
   "cell_type": "code",
   "execution_count": 15,
   "id": "517cda33-e626-493c-9e68-26323c475592",
   "metadata": {},
   "outputs": [
    {
     "name": "stdout",
     "output_type": "stream",
     "text": [
      "Seq #0 ➜ First input day d_num_scaled: 0.000 → First target day sales: 0.00\n",
      "Seq #1 ➜ First input day d_num_scaled: 0.004 → First target day sales: 0.00\n",
      "Seq #2 ➜ First input day d_num_scaled: 0.007 → First target day sales: 0.00\n",
      "Seq #3 ➜ First input day d_num_scaled: 0.011 → First target day sales: 0.00\n",
      "Seq #4 ➜ First input day d_num_scaled: 0.014 → First target day sales: 0.00\n",
      "✅ X shape: (26200, 56, 29)\n",
      "✅ y shape: (26200, 28)\n"
     ]
    }
   ],
   "source": [
    "# Example: Load the first batch\n",
    "X = np.load(\"sequence_chunks_v3/X_batch_0.npy\")\n",
    "y = np.load(\"sequence_chunks_v3/y_batch_0.npy\")\n",
    "\n",
    "for i in range(5):\n",
    "    print(f\"Seq #{i} ➜ First input day d_num_scaled: {X[i, 0, -1]:.3f} → First target day sales: {y[i, 0]:.2f}\")\n",
    "    \n",
    "print(\"✅ X shape:\", X.shape)  # Expect: (# sequences, 56, # input features)\n",
    "print(\"✅ y shape:\", y.shape)  # Expect: (# sequences, 28)"
   ]
  },
  {
   "cell_type": "markdown",
   "id": "c0aca897-0905-4526-9288-77b872ec42c4",
   "metadata": {},
   "source": [
    "### Step 4.2.2 | Check Dimensional Consistency"
   ]
  },
  {
   "cell_type": "code",
   "execution_count": 9,
   "id": "a463fdbe-4477-409a-b125-e23821eca5e8",
   "metadata": {},
   "outputs": [
    {
     "name": "stdout",
     "output_type": "stream",
     "text": [
      "✅ Sequence dimensions are consistent\n"
     ]
    }
   ],
   "source": [
    "assert X.shape[0] == y.shape[0], \"❌ Mismatch: X and y have different number of sequences\"\n",
    "assert X.shape[1] == 56, \"❌ Unexpected input sequence length\"\n",
    "assert y.shape[1] == 28, \"❌ Unexpected forecast horizon length\"\n",
    "print(\"✅ Sequence dimensions are consistent\")"
   ]
  },
  {
   "cell_type": "markdown",
   "id": "3b5aae75-8d7b-4d04-be91-82d280f2e029",
   "metadata": {},
   "source": [
    "### Step 4.2.3 | Sanity Check Input Ranges"
   ]
  },
  {
   "cell_type": "markdown",
   "id": "916bc293-3b3f-45a2-a55e-878301201606",
   "metadata": {},
   "source": [
    "Look for:\n",
    "- Reasonable input values (not all 0s or NaNs)\n",
    "- Normalized columns close to 0 mean / 1 std\n",
    "- Categorical/flag columns like snap_CA are 0/1"
   ]
  },
  {
   "cell_type": "code",
   "execution_count": 18,
   "id": "6298601f-5082-4a76-a619-c7f2faa45e1d",
   "metadata": {},
   "outputs": [
    {
     "name": "stdout",
     "output_type": "stream",
     "text": [
      "✅ Sample input window: [[ 7.3100000e+02  2.0000000e+00  0.0000000e+00  6.0000000e+00\n",
      "   1.0000000e+00  0.0000000e+00  1.9000000e+01  2.0000000e+00\n",
      "  -9.7492790e-01 -2.2252093e-01]\n",
      " [ 7.3100000e+02  2.0000000e+00  0.0000000e+00  6.0000000e+00\n",
      "   1.0000000e+00  0.0000000e+00  1.9000000e+01  2.0000000e+00\n",
      "  -7.8183150e-01  6.2348980e-01]\n",
      " [ 7.3100000e+02  2.0000000e+00  0.0000000e+00  6.0000000e+00\n",
      "   1.0000000e+00  0.0000000e+00  1.9000000e+01  2.0000000e+00\n",
      "   0.0000000e+00  1.0000000e+00]\n",
      " [ 7.3100000e+02  2.0000000e+00  0.0000000e+00  6.0000000e+00\n",
      "   1.0000000e+00  0.0000000e+00  1.9000000e+01  2.0000000e+00\n",
      "   7.8183150e-01  6.2348980e-01]\n",
      " [ 7.3100000e+02  2.0000000e+00  0.0000000e+00  6.0000000e+00\n",
      "   1.0000000e+00  0.0000000e+00  1.9000000e+01  2.0000000e+00\n",
      "   9.7492790e-01 -2.2252093e-01]\n",
      " [ 7.3100000e+02  2.0000000e+00  0.0000000e+00  6.0000000e+00\n",
      "   1.0000000e+00  0.0000000e+00  1.9000000e+01  2.0000000e+00\n",
      "   4.3388373e-01 -9.0096885e-01]\n",
      " [ 7.3100000e+02  2.0000000e+00  0.0000000e+00  6.0000000e+00\n",
      "   1.0000000e+00  0.0000000e+00  1.9000000e+01  2.0000000e+00\n",
      "  -4.3388373e-01 -9.0096885e-01]\n",
      " [ 7.3100000e+02  2.0000000e+00  0.0000000e+00  6.0000000e+00\n",
      "   1.0000000e+00  0.0000000e+00  1.9000000e+01  2.0000000e+00\n",
      "  -9.7492790e-01 -2.2252093e-01]\n",
      " [ 7.3100000e+02  2.0000000e+00  0.0000000e+00  6.0000000e+00\n",
      "   1.0000000e+00  0.0000000e+00  2.7000000e+01  4.0000000e+00\n",
      "  -7.8183150e-01  6.2348980e-01]\n",
      " [ 7.3100000e+02  2.0000000e+00  0.0000000e+00  6.0000000e+00\n",
      "   1.0000000e+00  0.0000000e+00  1.9000000e+01  2.0000000e+00\n",
      "   0.0000000e+00  1.0000000e+00]\n",
      " [ 7.3100000e+02  2.0000000e+00  0.0000000e+00  6.0000000e+00\n",
      "   1.0000000e+00  0.0000000e+00  1.9000000e+01  2.0000000e+00\n",
      "   7.8183150e-01  6.2348980e-01]\n",
      " [ 7.3100000e+02  2.0000000e+00  0.0000000e+00  6.0000000e+00\n",
      "   1.0000000e+00  0.0000000e+00  1.9000000e+01  2.0000000e+00\n",
      "   9.7492790e-01 -2.2252093e-01]\n",
      " [ 7.3100000e+02  2.0000000e+00  0.0000000e+00  6.0000000e+00\n",
      "   1.0000000e+00  0.0000000e+00  1.9000000e+01  2.0000000e+00\n",
      "   4.3388373e-01 -9.0096885e-01]\n",
      " [ 7.3100000e+02  2.0000000e+00  0.0000000e+00  6.0000000e+00\n",
      "   1.0000000e+00  0.0000000e+00  1.9000000e+01  2.0000000e+00\n",
      "  -4.3388373e-01 -9.0096885e-01]\n",
      " [ 7.3100000e+02  2.0000000e+00  0.0000000e+00  6.0000000e+00\n",
      "   1.0000000e+00  0.0000000e+00  1.9000000e+01  2.0000000e+00\n",
      "  -9.7492790e-01 -2.2252093e-01]\n",
      " [ 7.3100000e+02  2.0000000e+00  0.0000000e+00  6.0000000e+00\n",
      "   1.0000000e+00  0.0000000e+00  1.9000000e+01  2.0000000e+00\n",
      "  -7.8183150e-01  6.2348980e-01]\n",
      " [ 7.3100000e+02  2.0000000e+00  0.0000000e+00  6.0000000e+00\n",
      "   1.0000000e+00  0.0000000e+00  2.9000000e+01  0.0000000e+00\n",
      "   0.0000000e+00  1.0000000e+00]\n",
      " [ 7.3100000e+02  2.0000000e+00  0.0000000e+00  6.0000000e+00\n",
      "   1.0000000e+00  0.0000000e+00  1.9000000e+01  2.0000000e+00\n",
      "   7.8183150e-01  6.2348980e-01]\n",
      " [ 7.3100000e+02  2.0000000e+00  0.0000000e+00  6.0000000e+00\n",
      "   1.0000000e+00  0.0000000e+00  1.9000000e+01  2.0000000e+00\n",
      "   9.7492790e-01 -2.2252093e-01]\n",
      " [ 7.3100000e+02  2.0000000e+00  0.0000000e+00  6.0000000e+00\n",
      "   1.0000000e+00  0.0000000e+00  1.9000000e+01  2.0000000e+00\n",
      "   4.3388373e-01 -9.0096885e-01]\n",
      " [ 7.3100000e+02  2.0000000e+00  0.0000000e+00  6.0000000e+00\n",
      "   1.0000000e+00  0.0000000e+00  1.9000000e+01  2.0000000e+00\n",
      "  -4.3388373e-01 -9.0096885e-01]\n",
      " [ 7.3100000e+02  2.0000000e+00  0.0000000e+00  6.0000000e+00\n",
      "   1.0000000e+00  0.0000000e+00  1.9000000e+01  2.0000000e+00\n",
      "  -9.7492790e-01 -2.2252093e-01]\n",
      " [ 7.3100000e+02  2.0000000e+00  0.0000000e+00  6.0000000e+00\n",
      "   1.0000000e+00  0.0000000e+00  1.9000000e+01  2.0000000e+00\n",
      "  -7.8183150e-01  6.2348980e-01]\n",
      " [ 7.3100000e+02  2.0000000e+00  0.0000000e+00  6.0000000e+00\n",
      "   1.0000000e+00  0.0000000e+00  2.3000000e+01  1.0000000e+00\n",
      "   0.0000000e+00  1.0000000e+00]\n",
      " [ 7.3100000e+02  2.0000000e+00  0.0000000e+00  6.0000000e+00\n",
      "   1.0000000e+00  0.0000000e+00  1.9000000e+01  2.0000000e+00\n",
      "   7.8183150e-01  6.2348980e-01]\n",
      " [ 7.3100000e+02  2.0000000e+00  0.0000000e+00  6.0000000e+00\n",
      "   1.0000000e+00  0.0000000e+00  1.9000000e+01  2.0000000e+00\n",
      "   9.7492790e-01 -2.2252093e-01]\n",
      " [ 7.3100000e+02  2.0000000e+00  0.0000000e+00  6.0000000e+00\n",
      "   1.0000000e+00  0.0000000e+00  1.9000000e+01  2.0000000e+00\n",
      "   4.3388373e-01 -9.0096885e-01]\n",
      " [ 7.3100000e+02  2.0000000e+00  0.0000000e+00  6.0000000e+00\n",
      "   1.0000000e+00  0.0000000e+00  1.9000000e+01  2.0000000e+00\n",
      "  -4.3388373e-01 -9.0096885e-01]\n",
      " [ 7.3100000e+02  2.0000000e+00  0.0000000e+00  6.0000000e+00\n",
      "   1.0000000e+00  0.0000000e+00  1.9000000e+01  2.0000000e+00\n",
      "  -9.7492790e-01 -2.2252093e-01]\n",
      " [ 7.3100000e+02  2.0000000e+00  0.0000000e+00  6.0000000e+00\n",
      "   1.0000000e+00  0.0000000e+00  1.9000000e+01  2.0000000e+00\n",
      "  -7.8183150e-01  6.2348980e-01]\n",
      " [ 7.3100000e+02  2.0000000e+00  0.0000000e+00  6.0000000e+00\n",
      "   1.0000000e+00  0.0000000e+00  1.9000000e+01  2.0000000e+00\n",
      "   0.0000000e+00  1.0000000e+00]\n",
      " [ 7.3100000e+02  2.0000000e+00  0.0000000e+00  6.0000000e+00\n",
      "   1.0000000e+00  0.0000000e+00  1.9000000e+01  2.0000000e+00\n",
      "   7.8183150e-01  6.2348980e-01]\n",
      " [ 7.3100000e+02  2.0000000e+00  0.0000000e+00  6.0000000e+00\n",
      "   1.0000000e+00  0.0000000e+00  1.9000000e+01  2.0000000e+00\n",
      "   9.7492790e-01 -2.2252093e-01]\n",
      " [ 7.3100000e+02  2.0000000e+00  0.0000000e+00  6.0000000e+00\n",
      "   1.0000000e+00  0.0000000e+00  1.9000000e+01  2.0000000e+00\n",
      "   4.3388373e-01 -9.0096885e-01]\n",
      " [ 7.3100000e+02  2.0000000e+00  0.0000000e+00  6.0000000e+00\n",
      "   1.0000000e+00  0.0000000e+00  1.9000000e+01  2.0000000e+00\n",
      "  -4.3388373e-01 -9.0096885e-01]\n",
      " [ 7.3100000e+02  2.0000000e+00  0.0000000e+00  6.0000000e+00\n",
      "   1.0000000e+00  0.0000000e+00  1.9000000e+01  2.0000000e+00\n",
      "  -9.7492790e-01 -2.2252093e-01]\n",
      " [ 7.3100000e+02  2.0000000e+00  0.0000000e+00  6.0000000e+00\n",
      "   1.0000000e+00  0.0000000e+00  1.9000000e+01  2.0000000e+00\n",
      "  -7.8183150e-01  6.2348980e-01]\n",
      " [ 7.3100000e+02  2.0000000e+00  0.0000000e+00  6.0000000e+00\n",
      "   1.0000000e+00  0.0000000e+00  1.9000000e+01  2.0000000e+00\n",
      "   0.0000000e+00  1.0000000e+00]\n",
      " [ 7.3100000e+02  2.0000000e+00  0.0000000e+00  6.0000000e+00\n",
      "   1.0000000e+00  0.0000000e+00  1.9000000e+01  2.0000000e+00\n",
      "   7.8183150e-01  6.2348980e-01]\n",
      " [ 7.3100000e+02  2.0000000e+00  0.0000000e+00  6.0000000e+00\n",
      "   1.0000000e+00  0.0000000e+00  1.1000000e+01  3.0000000e+00\n",
      "   9.7492790e-01 -2.2252093e-01]\n",
      " [ 7.3100000e+02  2.0000000e+00  0.0000000e+00  6.0000000e+00\n",
      "   1.0000000e+00  0.0000000e+00  1.9000000e+01  2.0000000e+00\n",
      "   4.3388373e-01 -9.0096885e-01]\n",
      " [ 7.3100000e+02  2.0000000e+00  0.0000000e+00  6.0000000e+00\n",
      "   1.0000000e+00  0.0000000e+00  1.9000000e+01  2.0000000e+00\n",
      "  -4.3388373e-01 -9.0096885e-01]\n",
      " [ 7.3100000e+02  2.0000000e+00  0.0000000e+00  6.0000000e+00\n",
      "   1.0000000e+00  0.0000000e+00  1.9000000e+01  2.0000000e+00\n",
      "  -9.7492790e-01 -2.2252093e-01]\n",
      " [ 7.3100000e+02  2.0000000e+00  0.0000000e+00  6.0000000e+00\n",
      "   1.0000000e+00  0.0000000e+00  1.9000000e+01  2.0000000e+00\n",
      "  -7.8183150e-01  6.2348980e-01]\n",
      " [ 7.3100000e+02  2.0000000e+00  0.0000000e+00  6.0000000e+00\n",
      "   1.0000000e+00  0.0000000e+00  1.9000000e+01  2.0000000e+00\n",
      "   0.0000000e+00  1.0000000e+00]\n",
      " [ 7.3100000e+02  2.0000000e+00  0.0000000e+00  6.0000000e+00\n",
      "   1.0000000e+00  0.0000000e+00  1.9000000e+01  2.0000000e+00\n",
      "   7.8183150e-01  6.2348980e-01]\n",
      " [ 7.3100000e+02  2.0000000e+00  0.0000000e+00  6.0000000e+00\n",
      "   1.0000000e+00  0.0000000e+00  1.2000000e+01  3.0000000e+00\n",
      "   9.7492790e-01 -2.2252093e-01]\n",
      " [ 7.3100000e+02  2.0000000e+00  0.0000000e+00  6.0000000e+00\n",
      "   1.0000000e+00  0.0000000e+00  2.6000000e+01  0.0000000e+00\n",
      "   4.3388373e-01 -9.0096885e-01]\n",
      " [ 7.3100000e+02  2.0000000e+00  0.0000000e+00  6.0000000e+00\n",
      "   1.0000000e+00  0.0000000e+00  1.9000000e+01  2.0000000e+00\n",
      "  -4.3388373e-01 -9.0096885e-01]\n",
      " [ 7.3100000e+02  2.0000000e+00  0.0000000e+00  6.0000000e+00\n",
      "   1.0000000e+00  0.0000000e+00  1.9000000e+01  2.0000000e+00\n",
      "  -9.7492790e-01 -2.2252093e-01]\n",
      " [ 7.3100000e+02  2.0000000e+00  0.0000000e+00  6.0000000e+00\n",
      "   1.0000000e+00  0.0000000e+00  2.4000000e+01  3.0000000e+00\n",
      "  -7.8183150e-01  6.2348980e-01]\n",
      " [ 7.3100000e+02  2.0000000e+00  0.0000000e+00  6.0000000e+00\n",
      "   1.0000000e+00  0.0000000e+00  1.9000000e+01  2.0000000e+00\n",
      "   0.0000000e+00  1.0000000e+00]\n",
      " [ 7.3100000e+02  2.0000000e+00  0.0000000e+00  6.0000000e+00\n",
      "   1.0000000e+00  0.0000000e+00  1.9000000e+01  2.0000000e+00\n",
      "   7.8183150e-01  6.2348980e-01]\n",
      " [ 7.3100000e+02  2.0000000e+00  0.0000000e+00  6.0000000e+00\n",
      "   1.0000000e+00  0.0000000e+00  1.9000000e+01  2.0000000e+00\n",
      "   9.7492790e-01 -2.2252093e-01]\n",
      " [ 7.3100000e+02  2.0000000e+00  0.0000000e+00  6.0000000e+00\n",
      "   1.0000000e+00  0.0000000e+00  1.9000000e+01  2.0000000e+00\n",
      "   4.3388373e-01 -9.0096885e-01]\n",
      " [ 7.3100000e+02  2.0000000e+00  0.0000000e+00  6.0000000e+00\n",
      "   1.0000000e+00  0.0000000e+00  1.9000000e+01  2.0000000e+00\n",
      "  -4.3388373e-01 -9.0096885e-01]]\n",
      "✅ Sample target: [0. 0. 0. 0. 0. 0. 0. 0. 0. 0. 0. 0. 0. 0. 0. 0. 0. 0. 0. 0. 0. 0. 0. 0.\n",
      " 0. 0. 0. 0.]\n"
     ]
    }
   ],
   "source": [
    "print(\"✅ Sample input window:\", X[0, :, :10])  # First 10 features of first sequence\n",
    "print(\"✅ Sample target:\", y[0])"
   ]
  },
  {
   "cell_type": "markdown",
   "id": "824a7729-9abf-4823-ba12-8523501260bf",
   "metadata": {},
   "source": [
    "### Step 4.2.4 | Check Batch Distribution"
   ]
  },
  {
   "cell_type": "code",
   "execution_count": 11,
   "id": "5ac219a2-7e5b-4df9-b9f6-5b15cdf6a6f6",
   "metadata": {},
   "outputs": [
    {
     "name": "stdout",
     "output_type": "stream",
     "text": [
      "✅ Sequences per batch (mean): 26191.41\n",
      "ℹ️ Distribution: min=23580, max=26200\n"
     ]
    }
   ],
   "source": [
    "sequence_counts = []\n",
    "for i in range(305):\n",
    "    X_batch = np.load(f\"sequence_chunks_v3/X_batch_{i}.npy\")\n",
    "    sequence_counts.append(len(X_batch))\n",
    "\n",
    "print(f\"✅ Sequences per batch (mean): {np.mean(sequence_counts):.2f}\")\n",
    "print(f\"ℹ️ Distribution: min={min(sequence_counts)}, max={max(sequence_counts)}\")"
   ]
  },
  {
   "cell_type": "markdown",
   "id": "9faea1f1-52e7-48c3-812b-f583342f3aca",
   "metadata": {},
   "source": [
    "### Step 4.2.5 | Sequence Summary CSV"
   ]
  },
  {
   "cell_type": "code",
   "execution_count": 25,
   "id": "bcb87a85-dfa3-43ed-971b-a0ac5ecd992d",
   "metadata": {},
   "outputs": [],
   "source": [
    "# === Configuration ===\n",
    "SEQ_DIR = SAVE_DIR\n",
    "GROUP_DIR = os.path.join(SEQ_DIR, \"grouped_v3\")\n",
    "NUM_BATCHES = 305"
   ]
  },
  {
   "cell_type": "code",
   "execution_count": 26,
   "id": "6df1a837-b0b1-4c15-9b73-f640a1be29d7",
   "metadata": {},
   "outputs": [],
   "source": [
    "# === Helper: Count sequences for each ID ===\n",
    "def count_sequences_for_id(path, input_cols, input_len, output_len, stride):\n",
    "    try:\n",
    "        df = pl.read_parquet(path).sort(\"d_num\")\n",
    "        if df.height < input_len + output_len:\n",
    "            return 0\n",
    "        return (df.height - input_len - output_len) // stride + 1\n",
    "    except Exception:\n",
    "        return 0"
   ]
  },
  {
   "cell_type": "code",
   "execution_count": 28,
   "id": "9457d81d-5e63-4238-ac80-90dd5e9e4c93",
   "metadata": {},
   "outputs": [],
   "source": [
    "# === Step 1: ID-level Summary ===\n",
    "id_summary = []\n",
    "parquet_files = sorted([f for f in os.listdir(GROUP_DIR) if f.endswith(\".parquet\")])\n",
    "\n",
    "for f in parquet_files:\n",
    "    id_val = f.replace(\".parquet\", \"\")\n",
    "    path = os.path.join(GROUP_DIR, f)\n",
    "    num_sequences = count_sequences_for_id(path, input_cols, INPUT_SEQ_LEN, FORECAST_HORIZON, STRIDE)\n",
    "    id_summary.append({\"id\": id_val, \"num_sequences\": num_sequences})\n",
    "\n",
    "df_id = pd.DataFrame(id_summary)\n",
    "df_id.to_csv(os.path.join(SEQ_DIR, \"id_sequence_summary.csv\"), index=False)"
   ]
  },
  {
   "cell_type": "code",
   "execution_count": 29,
   "id": "0d217a09-c327-4639-8caa-4759ee11ef29",
   "metadata": {},
   "outputs": [
    {
     "name": "stdout",
     "output_type": "stream",
     "text": [
      "✅ CSV summaries saved!\n"
     ]
    }
   ],
   "source": [
    "# === Step 2: Batch-level Summary ===\n",
    "batch_summary = []\n",
    "for i in range(NUM_BATCHES):\n",
    "    x_path = os.path.join(SEQ_DIR, f\"X_batch_{i}.npy\")\n",
    "    y_path = os.path.join(SEQ_DIR, f\"y_batch_{i}.npy\")\n",
    "\n",
    "    if os.path.exists(x_path) and os.path.exists(y_path):\n",
    "        X = np.load(x_path)\n",
    "        Y = np.load(y_path)\n",
    "        batch_summary.append({\n",
    "            \"batch_index\": i,\n",
    "            \"file_X\": f\"X_batch_{i}.npy\",\n",
    "            \"file_Y\": f\"y_batch_{i}.npy\",\n",
    "            \"num_sequences\": len(X),\n",
    "            \"input_seq_len\": X.shape[1] if X.ndim == 3 else \"❌\",\n",
    "            \"num_features\": X.shape[2] if X.ndim == 3 else \"❌\",\n",
    "            \"forecast_horizon\": Y.shape[1] if Y.ndim == 2 else \"❌\",\n",
    "        })\n",
    "    else:\n",
    "        batch_summary.append({\n",
    "            \"batch_index\": i,\n",
    "            \"file_X\": f\"X_batch_{i}.npy\",\n",
    "            \"file_Y\": f\"y_batch_{i}.npy\",\n",
    "            \"num_sequences\": \"Missing\",\n",
    "            \"input_seq_len\": \"Missing\",\n",
    "            \"num_features\": \"Missing\",\n",
    "            \"forecast_horizon\": \"Missing\",\n",
    "        })\n",
    "\n",
    "df_batch = pd.DataFrame(batch_summary)\n",
    "df_batch.to_csv(os.path.join(SEQ_DIR, \"batch_sequence_summary.csv\"), index=False)\n",
    "\n",
    "print(\"✅ CSV summaries saved!\")"
   ]
  },
  {
   "cell_type": "markdown",
   "id": "20d41a0d-f3a9-4ee8-9149-e0bb6303d980",
   "metadata": {},
   "source": [
    "## Step 4.4 | Create Validation Sequences"
   ]
  },
  {
   "cell_type": "code",
   "execution_count": 31,
   "id": "be8bd371-21c8-457b-a209-c5637d818a9f",
   "metadata": {},
   "outputs": [],
   "source": [
    "def generate_final_val_sequence_for_id_polars(group_df, input_cols, input_len=56, output_len=28):\n",
    "    \"\"\"\n",
    "    Generates exactly one final validation sequence for a given id:\n",
    "    Input: d_1858–1913 (56 days)\n",
    "    Output: d_1914–1941 (28 days)\n",
    "    \"\"\"\n",
    "    group_df = group_df.sort(\"d_num\")\n",
    "    \n",
    "    # Find the window that ends input at d_1913\n",
    "    last_input_end = 1913\n",
    "    input_start = last_input_end - input_len + 1\n",
    "    output_start = last_input_end + 1\n",
    "    output_end = output_start + output_len - 1\n",
    "\n",
    "    # Ensure the group has all required days\n",
    "    if group_df.filter((pl.col(\"d_num\") >= input_start) & (pl.col(\"d_num\") <= output_end)).height < input_len + output_len:\n",
    "        return [], []\n",
    "\n",
    "    df_slice = group_df.filter((pl.col(\"d_num\") >= input_start) & (pl.col(\"d_num\") <= output_end))\n",
    "    input_array = df_slice.filter(pl.col(\"d_num\") <= last_input_end).select(input_cols).to_numpy().astype(np.float32)\n",
    "    output_array = df_slice.filter(pl.col(\"d_num\") >= output_start).select(\"sales\").to_numpy().flatten().astype(np.float32)\n",
    "\n",
    "    return [input_array], [output_array]  # wrap in list for consistent formatting"
   ]
  },
  {
   "cell_type": "code",
   "execution_count": 32,
   "id": "6d182285-c267-4e9d-a575-f0ac504f5353",
   "metadata": {},
   "outputs": [],
   "source": [
    "def serial_generate_val_sequences_from_disk(group_dir, save_dir, input_cols, input_len=56, output_len=28):\n",
    "    \"\"\"\n",
    "    Loads each id’s parquet file from group_dir and saves the final val sequence\n",
    "    for that id to save_dir as a single batch (all ids together).\n",
    "    \"\"\"\n",
    "    os.makedirs(save_dir, exist_ok=True)\n",
    "\n",
    "    X_all, y_all = [], []\n",
    "    all_ids = [f.replace(\".parquet\", \"\") for f in os.listdir(group_dir) if f.endswith(\".parquet\")]\n",
    "\n",
    "    start = time.time()\n",
    "    for id_val in tqdm(all_ids, desc=\"Saving final val sequences\"):\n",
    "        path = os.path.join(group_dir, f\"{id_val}.parquet\")\n",
    "        if os.path.exists(path):\n",
    "            group_df = pl.read_parquet(path)\n",
    "            X, y = generate_final_val_sequence_for_id_polars(group_df, input_cols, input_len, output_len)\n",
    "            X_all.extend(X)\n",
    "            y_all.extend(y)\n",
    "\n",
    "    if X_all:\n",
    "        np.save(os.path.join(save_dir, \"X_val_final.npy\"), np.array(X_all, dtype=np.float32))\n",
    "        np.save(os.path.join(save_dir, \"y_val_final.npy\"), np.array(y_all, dtype=np.float32))\n",
    "\n",
    "    print(f\"✅ Done saving final validation sequences in {(time.time() - start) / 60:.2f} minutes\")"
   ]
  },
  {
   "cell_type": "code",
   "execution_count": null,
   "id": "e9ac8975-5f72-4e62-b493-b30581f573e6",
   "metadata": {},
   "outputs": [],
   "source": [
    "VAL_SAVE_DIR = \"val_sequences_polars\"\n",
    "\n",
    "serial_generate_val_sequences_from_disk(\n",
    "    GROUP_SAVE_DIR, \n",
    "    VAL_SAVE_DIR, \n",
    "    input_cols, \n",
    "    input_len=INPUT_SEQ_LEN, \n",
    "    output_len=FORECAST_HORIZON\n",
    ")"
   ]
  },
  {
   "cell_type": "markdown",
   "id": "3a268fb1-6742-4649-a5a5-20e373a7750c",
   "metadata": {},
   "source": [
    "## Step 4.5 | Verify Validation Sequences"
   ]
  },
  {
   "cell_type": "code",
   "execution_count": 33,
   "id": "509831b7-b06a-4380-99eb-b6274db41331",
   "metadata": {},
   "outputs": [
    {
     "name": "stdout",
     "output_type": "stream",
     "text": [
      "✅ Loaded X shape: (30490, 56, 29) — Expected: (num_ids, 56, num_features)\n",
      "✅ Loaded y shape: (30490, 28) — Expected: (num_ids, 28)\n"
     ]
    }
   ],
   "source": [
    "# === Load the files ===\n",
    "X_val = np.load(\"val_sequences_polars/X_val_final.npy\")\n",
    "y_val = np.load(\"val_sequences_polars/y_val_final.npy\")\n",
    "\n",
    "print(f\"✅ Loaded X shape: {X_val.shape} — Expected: (num_ids, 56, num_features)\")\n",
    "print(f\"✅ Loaded y shape: {y_val.shape} — Expected: (num_ids, 28)\")"
   ]
  },
  {
   "cell_type": "code",
   "execution_count": 34,
   "id": "ba763f97-7836-4657-b96e-83b5fb5c0c9e",
   "metadata": {},
   "outputs": [],
   "source": [
    "# === Sanity Check 1: Number of days ===\n",
    "assert X_val.shape[1] == 56, \"Input window should be 56 days\"\n",
    "assert y_val.shape[1] == 28, \"Output window should be 28 days\""
   ]
  },
  {
   "cell_type": "code",
   "execution_count": 35,
   "id": "ac86ec04-b041-4173-8b16-8375239cfe6e",
   "metadata": {},
   "outputs": [
    {
     "name": "stdout",
     "output_type": "stream",
     "text": [
      "\n",
      "📊 Sample input features for one id (shape): (56, 29)\n",
      "🧾 Sample output values: [2. 0. 0. 0. 0. 1. 1. 0. 6. 1. 0. 3. 0. 0. 0. 2. 0. 0. 2. 3. 1. 0. 0. 0.\n",
      " 1. 0. 0. 0.]\n"
     ]
    }
   ],
   "source": [
    "# === Sanity Check 2: Examine one id’s sequence ===\n",
    "idx = 0  # you can loop through more\n",
    "x_sample = X_val[idx]\n",
    "y_sample = y_val[idx]\n",
    "\n",
    "print(\"\\n📊 Sample input features for one id (shape):\", x_sample.shape)\n",
    "print(\"🧾 Sample output values:\", y_sample)"
   ]
  },
  {
   "cell_type": "code",
   "execution_count": 36,
   "id": "739d6d0e-e460-48c4-bc95-e92a05810df3",
   "metadata": {},
   "outputs": [],
   "source": [
    "# === Optional: match against original parquet file ===\n",
    "parquet_dir = \"sequence_chunks_v3/grouped_v3\"\n",
    "sample_id = os.listdir(parquet_dir)[idx].replace(\".parquet\", \"\")\n",
    "df = pl.read_parquet(os.path.join(parquet_dir, f\"{sample_id}.parquet\"))\n",
    "df = df.sort(\"d_num\")"
   ]
  },
  {
   "cell_type": "code",
   "execution_count": 37,
   "id": "a7c5fd01-dfd5-4aa5-bc56-10225b6b7d21",
   "metadata": {},
   "outputs": [],
   "source": [
    "# Filter the window that should match this X/Y\n",
    "input_df = df.filter((pl.col(\"d_num\") >= 1858) & (pl.col(\"d_num\") <= 1913))\n",
    "output_df = df.filter((pl.col(\"d_num\") >= 1914) & (pl.col(\"d_num\") <= 1941))\n",
    "\n",
    "# === Extract raw arrays from .parquet\n",
    "input_features_raw = input_df.select(input_cols).to_numpy().astype(np.float32)\n",
    "output_sales_raw = output_df.select(\"sales\").to_numpy().flatten().astype(np.float32)"
   ]
  },
  {
   "cell_type": "code",
   "execution_count": 38,
   "id": "5e0d9164-0465-4b73-bb53-d5ed0fce7445",
   "metadata": {},
   "outputs": [
    {
     "name": "stdout",
     "output_type": "stream",
     "text": [
      "\n",
      "✅ Comparing sample_id: FOODS_1_001_CA_1_evaluation\n",
      "🔍 X_val match: True\n",
      "🔍 y_val match: True\n"
     ]
    }
   ],
   "source": [
    "# === Compare and validate\n",
    "print(f\"\\n✅ Comparing sample_id: {sample_id}\")\n",
    "print(\"🔍 X_val match:\", np.allclose(x_sample, input_features_raw, atol=1e-5))\n",
    "print(\"🔍 y_val match:\", np.allclose(y_sample, output_sales_raw, atol=1e-5))\n",
    "\n",
    "# Optional: show diffs if mismatch\n",
    "if not np.allclose(x_sample, input_features_raw, atol=1e-5):\n",
    "    print(\"\\n❌ Feature mismatch! Sample differences (X):\")\n",
    "    print(np.abs(x_sample - input_features_raw).max())\n",
    "\n",
    "if not np.allclose(y_sample, output_sales_raw, atol=1e-5):\n",
    "    print(\"\\n❌ Sales mismatch! Sample differences (y):\")\n",
    "    print(np.abs(y_sample - output_sales_raw).max())"
   ]
  },
  {
   "cell_type": "markdown",
   "id": "e3bf947e-dfe7-4b44-9fb3-cbf38ac78412",
   "metadata": {},
   "source": [
    "## Step 4.6 | Create Evaluation Sequences"
   ]
  },
  {
   "cell_type": "code",
   "execution_count": 14,
   "id": "e5bc75ce-b3bc-419b-b620-750f99ff62ba",
   "metadata": {},
   "outputs": [],
   "source": [
    "def generate_eval_input_sequence_for_id_polars(group_df, input_cols, input_start=1886, input_end=1941):\n",
    "    \"\"\"\n",
    "    Extracts the final 56-day input window (d_1886–1941) for evaluation.\n",
    "    Output is not generated — this is used for Kaggle submission prediction (d_1942–1969).\n",
    "    \"\"\"\n",
    "    group_df = group_df.sort(\"d_num\")\n",
    "\n",
    "    df_slice = group_df.filter((pl.col(\"d_num\") >= input_start) & (pl.col(\"d_num\") <= input_end))\n",
    "    \n",
    "    if df_slice.height < (input_end - input_start + 1):\n",
    "        return []\n",
    "\n",
    "    input_array = df_slice.select(input_cols).to_numpy().astype(np.float32)\n",
    "    return [input_array]  # wrapped in list for batch-style output"
   ]
  },
  {
   "cell_type": "code",
   "execution_count": 15,
   "id": "e57a4522-0f16-4592-a399-df3bbc6668d8",
   "metadata": {},
   "outputs": [],
   "source": [
    "def serial_generate_eval_sequences_from_disk(group_dir, save_dir, input_cols, input_start=1886, input_end=1941):\n",
    "    \"\"\"\n",
    "    Loads each id’s parquet file, extracts d_1886–1941 inputs,\n",
    "    and saves:\n",
    "        - X_eval_final.npy: 3D array of inputs\n",
    "        - ids_eval_final.npy: list of id strings in matching order\n",
    "    \"\"\"\n",
    "    os.makedirs(save_dir, exist_ok=True)\n",
    "\n",
    "    X_all = []\n",
    "    id_list = []\n",
    "    all_ids = [f.replace(\".parquet\", \"\") for f in os.listdir(group_dir) if f.endswith(\".parquet\")]\n",
    "\n",
    "    start = time.time()\n",
    "    for id_val in tqdm(all_ids, desc=\"Saving evaluation input sequences\"):\n",
    "        path = os.path.join(group_dir, f\"{id_val}.parquet\")\n",
    "        if os.path.exists(path):\n",
    "            group_df = pl.read_parquet(path)\n",
    "            X = generate_eval_input_sequence_for_id_polars(group_df, input_cols, input_start, input_end)\n",
    "            if X:\n",
    "                X_all.extend(X)\n",
    "                id_list.append(id_val)\n",
    "\n",
    "    if X_all:\n",
    "        np.save(os.path.join(save_dir, \"X_eval_final.npy\"), np.array(X_all, dtype=np.float32))\n",
    "        np.save(os.path.join(save_dir, \"ids_eval_final.npy\"), np.array(id_list))\n",
    "\n",
    "    print(f\"✅ Done saving evaluation inputs and ids in {(time.time() - start) / 60:.2f} minutes\")"
   ]
  },
  {
   "cell_type": "code",
   "execution_count": 19,
   "id": "09d4959b-7926-418a-a2ff-9796f697ef24",
   "metadata": {},
   "outputs": [
    {
     "name": "stderr",
     "output_type": "stream",
     "text": [
      "Saving evaluation input sequences: 100%|█████████████████████████████████████████| 30490/30490 [23:08<00:00, 21.95it/s]\n"
     ]
    },
    {
     "name": "stdout",
     "output_type": "stream",
     "text": [
      "✅ Done saving evaluation inputs and ids in 23.16 minutes\n"
     ]
    }
   ],
   "source": [
    "EVAL_SAVE_DIR = \"eval_sequences_polars\"\n",
    "\n",
    "serial_generate_eval_sequences_from_disk(\n",
    "    group_dir=GROUP_SAVE_DIR,\n",
    "    save_dir=EVAL_SAVE_DIR,\n",
    "    input_cols=input_cols,\n",
    "    input_start=1886,\n",
    "    input_end=1941\n",
    ")"
   ]
  },
  {
   "cell_type": "markdown",
   "id": "41b809cc-e890-4d03-a823-1b8696af6893",
   "metadata": {},
   "source": [
    "## Step 4.7 | Verify Evaluation Sequences"
   ]
  },
  {
   "cell_type": "code",
   "execution_count": 39,
   "id": "ba1f1a91-bb1c-41f2-8958-e7ffb453e1f3",
   "metadata": {},
   "outputs": [
    {
     "name": "stdout",
     "output_type": "stream",
     "text": [
      "✅ Loaded X shape: (30490, 56, 29) — Expected: (num_ids, 56, num_features)\n"
     ]
    }
   ],
   "source": [
    "# === Load the files ===\n",
    "X_eval = np.load(\"eval_sequences_polars/X_eval_final.npy\")\n",
    "\n",
    "print(f\"✅ Loaded X shape: {X_eval.shape} — Expected: (num_ids, 56, num_features)\")"
   ]
  },
  {
   "cell_type": "code",
   "execution_count": 40,
   "id": "e057bf31-8b6c-4afc-bcd6-0d08a1326d7d",
   "metadata": {},
   "outputs": [],
   "source": [
    "# === Sanity Check 1: Number of days ===\n",
    "assert X_eval.shape[1] == 56, \"Input window should be 56 days\""
   ]
  },
  {
   "cell_type": "code",
   "execution_count": 41,
   "id": "8fe63655-04ce-4ad2-b429-6a4af5790cbd",
   "metadata": {},
   "outputs": [
    {
     "name": "stdout",
     "output_type": "stream",
     "text": [
      "\n",
      "📊 Sample input features for one id (shape): (56, 29)\n"
     ]
    }
   ],
   "source": [
    "# === Sanity Check 2: Examine one id’s sequence ===\n",
    "idx = 0  # you can loop through more\n",
    "x_sample = X_eval[idx]\n",
    "\n",
    "print(\"\\n📊 Sample input features for one id (shape):\", x_sample.shape)"
   ]
  },
  {
   "cell_type": "code",
   "execution_count": 42,
   "id": "86877814-ea2e-4ca6-9825-9f0bf97a7fac",
   "metadata": {},
   "outputs": [],
   "source": [
    "# === Optional: match against original parquet file ===\n",
    "parquet_dir = \"sequence_chunks_v3/grouped_v3\"\n",
    "sample_id = os.listdir(parquet_dir)[idx].replace(\".parquet\", \"\")\n",
    "df = pl.read_parquet(os.path.join(parquet_dir, f\"{sample_id}.parquet\"))\n",
    "df = df.sort(\"d_num\")"
   ]
  },
  {
   "cell_type": "code",
   "execution_count": 43,
   "id": "43311e46-7d11-4f6f-b150-02c663038de6",
   "metadata": {},
   "outputs": [],
   "source": [
    "# Filter the window that should match this X/Y\n",
    "input_df = df.filter((pl.col(\"d_num\") >= 1886) & (pl.col(\"d_num\") <= 1941))\n",
    "\n",
    "# === Extract raw arrays from .parquet\n",
    "input_features_raw = input_df.select(input_cols).to_numpy().astype(np.float32)"
   ]
  },
  {
   "cell_type": "code",
   "execution_count": 44,
   "id": "ca842b69-d5e3-4fb4-a7c1-3594c7e6dc9b",
   "metadata": {},
   "outputs": [
    {
     "name": "stdout",
     "output_type": "stream",
     "text": [
      "\n",
      "✅ Comparing sample_id: FOODS_1_001_CA_1_evaluation\n",
      "🔍 X_eval match: True\n"
     ]
    }
   ],
   "source": [
    "# === Compare and validate\n",
    "print(f\"\\n✅ Comparing sample_id: {sample_id}\")\n",
    "print(\"🔍 X_eval match:\", np.allclose(x_sample, input_features_raw, atol=1e-5))\n",
    "\n",
    "# Optional: show diffs if mismatch\n",
    "if not np.allclose(x_sample, input_features_raw, atol=1e-5):\n",
    "    print(\"\\n❌ Feature mismatch! Sample differences (X):\")\n",
    "    print(np.abs(x_sample - input_features_raw).max())"
   ]
  },
  {
   "cell_type": "markdown",
   "id": "28271711-dfaf-4e02-8eac-36cfb81478ed",
   "metadata": {},
   "source": [
    "## Step 4.8 | Create Tail Training Sequences "
   ]
  },
  {
   "cell_type": "markdown",
   "id": "453a5c1b-022f-4508-b0a8-ab56645214a2",
   "metadata": {},
   "source": [
    "### Step 4.8.1 | Map IDs with Batch Numbers"
   ]
  },
  {
   "cell_type": "code",
   "execution_count": 48,
   "id": "73b6206c-ecf5-4a07-b83d-db40635d80e2",
   "metadata": {},
   "outputs": [],
   "source": [
    "def regenerate_and_save_batch_mapping(group_dir, batch_size=100, seed=42, output_csv=\"id_batch_map.csv\"):\n",
    "    all_ids = [f.replace(\".parquet\", \"\") for f in os.listdir(group_dir) if f.endswith(\".parquet\")]\n",
    "    random.seed(seed)\n",
    "    random.shuffle(all_ids)\n",
    "\n",
    "    batch_map = []\n",
    "    for batch_num, i in enumerate(range(0, len(all_ids), batch_size)):\n",
    "        batch_ids = all_ids[i:i + batch_size]\n",
    "        for id_val in batch_ids:\n",
    "            batch_map.append({\"id\": id_val, \"batch_num\": batch_num})\n",
    "\n",
    "    df = pd.DataFrame(batch_map)\n",
    "    df.to_csv(output_csv, index=False)\n",
    "    print(f\"✅ Saved id–batch mapping to {output_csv}\")"
   ]
  },
  {
   "cell_type": "code",
   "execution_count": 50,
   "id": "bb67055e-8f16-4612-bba3-f71a3c548c11",
   "metadata": {},
   "outputs": [
    {
     "name": "stdout",
     "output_type": "stream",
     "text": [
      "✅ Saved id–batch mapping to id_batch_mapping.csv\n"
     ]
    }
   ],
   "source": [
    "regenerate_and_save_batch_mapping(\n",
    "    group_dir=\"sequence_chunks_v3/grouped_v3\",\n",
    "    batch_size=100,\n",
    "    seed=42,\n",
    "    output_csv=\"id_batch_mapping.csv\"\n",
    ")"
   ]
  },
  {
   "cell_type": "markdown",
   "id": "6aabf14f-5e60-43b0-9b7f-287e864b3e7a",
   "metadata": {},
   "source": [
    "### Step 4.8.2 | Generate Tail Training Sequences"
   ]
  },
  {
   "cell_type": "code",
   "execution_count": 51,
   "id": "0e0b56fd-eae0-4308-852f-bfdaa42a9d58",
   "metadata": {},
   "outputs": [],
   "source": [
    "def generate_tail_sequences_by_batch(group_dir, save_dir, input_cols, input_len=56, output_len=28, stride=7, seed=42, batch_size=100):\n",
    "    \"\"\"\n",
    "    For each original training batch, generate final tail sequences (d_1914–1941)\n",
    "    and save them per batch to maintain id alignment.\n",
    "    \"\"\"\n",
    "    os.makedirs(save_dir, exist_ok=True)\n",
    "\n",
    "    batch_id_groups = regenerate_batch_id_groups(group_dir, batch_size, seed)\n",
    "\n",
    "    for idx, id_list in enumerate(tqdm(batch_id_groups, desc=\"Saving tail sequences by batch\")):\n",
    "        X_all, y_all = [], []\n",
    "        for id_val in id_list:\n",
    "            path = os.path.join(group_dir, f\"{id_val}.parquet\")\n",
    "            if os.path.exists(path):\n",
    "                group_df = pl.read_parquet(path).sort(\"d_num\")\n",
    "                df_len = group_df.height\n",
    "                if df_len < input_len + output_len:\n",
    "                    continue\n",
    "\n",
    "                input_array = group_df.select(input_cols).to_numpy()\n",
    "                sales_array = group_df.select(\"sales\").to_numpy().flatten()\n",
    "\n",
    "                for i in range(0, df_len - input_len - output_len + 1, stride):\n",
    "                    target_window = group_df[i + input_len : i + input_len + output_len]\n",
    "                    target_last_day = target_window[-1, \"d_num\"]\n",
    "                    \n",
    "                    # Only include sequences where prediction reaches d_1914+\n",
    "                    if 1914 <= target_last_day <= 1941:\n",
    "                        X_all.append(input_array[i:i + input_len].astype(np.float32))\n",
    "                        y_all.append(sales_array[i + input_len:i + input_len + output_len].astype(np.float32))\n",
    "\n",
    "        if X_all:\n",
    "            np.save(os.path.join(save_dir, f\"X_batch_{idx}_tail.npy\"), np.array(X_all, dtype=np.float32))\n",
    "            np.save(os.path.join(save_dir, f\"y_batch_{idx}_tail.npy\"), np.array(y_all, dtype=np.float32))\n",
    "\n",
    "    print(\"✅ Tail sequence generation complete.\")"
   ]
  },
  {
   "cell_type": "code",
   "execution_count": 52,
   "id": "bd93a0b9-8575-4e80-ad74-08769be589e3",
   "metadata": {},
   "outputs": [
    {
     "name": "stderr",
     "output_type": "stream",
     "text": [
      "Saving tail sequences by batch: 100%|████████████████████████████████████████████████| 305/305 [21:16<00:00,  4.18s/it]"
     ]
    },
    {
     "name": "stdout",
     "output_type": "stream",
     "text": [
      "✅ Tail sequence generation complete.\n"
     ]
    },
    {
     "name": "stderr",
     "output_type": "stream",
     "text": [
      "\n"
     ]
    }
   ],
   "source": [
    "FINAL_TAIL_SAVE_DIR = \"final_train_tail_sequences\"\n",
    "\n",
    "generate_tail_sequences_by_batch(\n",
    "    group_dir=GROUP_SAVE_DIR,\n",
    "    save_dir=FINAL_TAIL_SAVE_DIR,\n",
    "    input_cols=input_cols,\n",
    "    input_len=56,\n",
    "    output_len=28,\n",
    "    stride=7,\n",
    "    seed=42,\n",
    "    batch_size=100\n",
    ")"
   ]
  },
  {
   "cell_type": "code",
   "execution_count": 53,
   "id": "58316321-2697-4c19-be17-74e99c784037",
   "metadata": {},
   "outputs": [
    {
     "name": "stdout",
     "output_type": "stream",
     "text": [
      "Shape: (400, 56, 29)\n"
     ]
    }
   ],
   "source": [
    "X = np.load(\"final_train_tail_sequences/X_batch_0_tail.npy\")\n",
    "print(\"Shape:\", X.shape)  # Should be (# sequences for batch 0 tail, 56, num_features)"
   ]
  },
  {
   "cell_type": "markdown",
   "id": "4e8f0811-3aa3-43b9-87d8-ffbaa6e5a8c9",
   "metadata": {},
   "source": [
    "# Step 5 | Create Final Training Sequences"
   ]
  },
  {
   "cell_type": "markdown",
   "id": "91429de1-7563-488b-a71e-19aab8f0b4a5",
   "metadata": {},
   "source": [
    "## Step 5.1 | Setup"
   ]
  },
  {
   "cell_type": "code",
   "execution_count": 61,
   "id": "0f4f58aa-a747-4bf8-ab9c-4edb3d617486",
   "metadata": {},
   "outputs": [],
   "source": [
    "MAIN_DIR = \"sequence_chunks_v3\"\n",
    "TAIL_DIR = \"final_train_tail_sequences\"\n",
    "OUTPUT_DIR = \"final_train_data\"\n",
    "\n",
    "os.makedirs(OUTPUT_DIR, exist_ok=True)\n",
    "\n",
    "X_merged = []\n",
    "y_merged = []"
   ]
  },
  {
   "cell_type": "markdown",
   "id": "3e52bb73-8d54-4a6e-a312-2a4ee39a61e9",
   "metadata": {},
   "source": [
    "## Step 5.2 | Identify All Batch Indices in Main Dir"
   ]
  },
  {
   "cell_type": "code",
   "execution_count": 62,
   "id": "1a4647b8-1647-433c-aaf3-525b6554f9b2",
   "metadata": {},
   "outputs": [
    {
     "name": "stdout",
     "output_type": "stream",
     "text": [
      "🔢 Total batch indices found: 305\n",
      "Preview: [0, 1, 2, 3, 4]\n"
     ]
    }
   ],
   "source": [
    "batch_numbers = sorted(set(\n",
    "    int(f.split(\"_\")[2].replace(\".npy\", \"\"))\n",
    "    for f in os.listdir(MAIN_DIR)\n",
    "    if f.startswith(\"X_batch_\") and not \"_tail\" in f\n",
    "))\n",
    "\n",
    "print(f\"🔢 Total batch indices found: {len(batch_numbers)}\")\n",
    "print(\"Preview:\", batch_numbers[:5])"
   ]
  },
  {
   "cell_type": "markdown",
   "id": "5aeacd55-5286-4310-92c6-c6b9b70814d4",
   "metadata": {},
   "source": [
    "## Step 5.3 | Load and Merge Main + Tail per Batch"
   ]
  },
  {
   "cell_type": "code",
   "execution_count": 63,
   "id": "c24de45b-bc6d-4c35-8569-33df93a76fb4",
   "metadata": {},
   "outputs": [
    {
     "data": {
      "text/plain": [
       "1700"
      ]
     },
     "execution_count": 63,
     "metadata": {},
     "output_type": "execute_result"
    }
   ],
   "source": [
    "gc.collect()"
   ]
  },
  {
   "cell_type": "code",
   "execution_count": 64,
   "id": "7db70194-d83b-4e6a-89e4-a1e8a11f9051",
   "metadata": {},
   "outputs": [
    {
     "name": "stderr",
     "output_type": "stream",
     "text": [
      "📦 Merging main + tail batches:   0%|                                                          | 0/305 [00:00<?, ?it/s]"
     ]
    },
    {
     "name": "stdout",
     "output_type": "stream",
     "text": [
      "🧩 Batch   0: Main=26200 | Tail= 400 | Total=26600\n"
     ]
    },
    {
     "name": "stderr",
     "output_type": "stream",
     "text": [
      "📦 Merging main + tail batches:   0%|▏                                                 | 1/305 [00:00<02:40,  1.89it/s]"
     ]
    },
    {
     "name": "stdout",
     "output_type": "stream",
     "text": [
      "🧩 Batch   1: Main=26200 | Tail= 400 | Total=26600\n"
     ]
    },
    {
     "name": "stderr",
     "output_type": "stream",
     "text": [
      "📦 Merging main + tail batches:   1%|▎                                                 | 2/305 [00:01<02:59,  1.69it/s]"
     ]
    },
    {
     "name": "stdout",
     "output_type": "stream",
     "text": [
      "🧩 Batch   2: Main=26200 | Tail= 400 | Total=26600\n"
     ]
    },
    {
     "name": "stderr",
     "output_type": "stream",
     "text": [
      "📦 Merging main + tail batches:   1%|▍                                                 | 3/305 [00:01<02:54,  1.73it/s]"
     ]
    },
    {
     "name": "stdout",
     "output_type": "stream",
     "text": [
      "🧩 Batch   3: Main=26200 | Tail= 400 | Total=26600\n"
     ]
    },
    {
     "name": "stderr",
     "output_type": "stream",
     "text": [
      "📦 Merging main + tail batches:   1%|▋                                                 | 4/305 [00:02<02:58,  1.68it/s]"
     ]
    },
    {
     "name": "stdout",
     "output_type": "stream",
     "text": [
      "🧩 Batch   4: Main=26200 | Tail= 400 | Total=26600\n"
     ]
    },
    {
     "name": "stderr",
     "output_type": "stream",
     "text": [
      "📦 Merging main + tail batches:   2%|▉                                                 | 6/305 [00:03<03:13,  1.54it/s]"
     ]
    },
    {
     "name": "stdout",
     "output_type": "stream",
     "text": [
      "🧩 Batch   5: Main=26200 | Tail= 400 | Total=26600\n",
      "🧩 Batch   6: Main=26200 | Tail= 400 | Total=26600\n"
     ]
    },
    {
     "name": "stderr",
     "output_type": "stream",
     "text": [
      "📦 Merging main + tail batches:   2%|█▏                                                | 7/305 [00:04<03:25,  1.45it/s]"
     ]
    },
    {
     "name": "stdout",
     "output_type": "stream",
     "text": [
      "🧩 Batch   7: Main=26200 | Tail= 400 | Total=26600\n"
     ]
    },
    {
     "name": "stderr",
     "output_type": "stream",
     "text": [
      "📦 Merging main + tail batches:   3%|█▎                                                | 8/305 [00:05<03:13,  1.54it/s]"
     ]
    },
    {
     "name": "stdout",
     "output_type": "stream",
     "text": [
      "🧩 Batch   8: Main=26200 | Tail= 400 | Total=26600\n"
     ]
    },
    {
     "name": "stderr",
     "output_type": "stream",
     "text": [
      "📦 Merging main + tail batches:   3%|█▍                                                | 9/305 [00:06<03:42,  1.33it/s]"
     ]
    },
    {
     "name": "stdout",
     "output_type": "stream",
     "text": [
      "🧩 Batch   9: Main=26200 | Tail= 400 | Total=26600\n"
     ]
    },
    {
     "name": "stderr",
     "output_type": "stream",
     "text": [
      "📦 Merging main + tail batches:   3%|█▌                                               | 10/305 [00:07<04:08,  1.19it/s]"
     ]
    },
    {
     "name": "stdout",
     "output_type": "stream",
     "text": [
      "🧩 Batch  10: Main=26200 | Tail= 400 | Total=26600\n"
     ]
    },
    {
     "name": "stderr",
     "output_type": "stream",
     "text": [
      "📦 Merging main + tail batches:   4%|█▊                                               | 11/305 [00:07<03:52,  1.26it/s]"
     ]
    },
    {
     "name": "stdout",
     "output_type": "stream",
     "text": [
      "🧩 Batch  11: Main=26200 | Tail= 400 | Total=26600\n"
     ]
    },
    {
     "name": "stderr",
     "output_type": "stream",
     "text": [
      "📦 Merging main + tail batches:   4%|█▉                                               | 12/305 [00:08<03:40,  1.33it/s]"
     ]
    },
    {
     "name": "stdout",
     "output_type": "stream",
     "text": [
      "🧩 Batch  12: Main=26200 | Tail= 400 | Total=26600\n"
     ]
    },
    {
     "name": "stderr",
     "output_type": "stream",
     "text": [
      "📦 Merging main + tail batches:   4%|██                                               | 13/305 [00:09<03:30,  1.39it/s]"
     ]
    },
    {
     "name": "stdout",
     "output_type": "stream",
     "text": [
      "🧩 Batch  13: Main=26200 | Tail= 400 | Total=26600\n"
     ]
    },
    {
     "name": "stderr",
     "output_type": "stream",
     "text": [
      "📦 Merging main + tail batches:   5%|██▏                                              | 14/305 [00:09<03:22,  1.44it/s]"
     ]
    },
    {
     "name": "stdout",
     "output_type": "stream",
     "text": [
      "🧩 Batch  14: Main=26200 | Tail= 400 | Total=26600\n"
     ]
    },
    {
     "name": "stderr",
     "output_type": "stream",
     "text": [
      "📦 Merging main + tail batches:   5%|██▍                                              | 15/305 [00:10<03:18,  1.46it/s]"
     ]
    },
    {
     "name": "stdout",
     "output_type": "stream",
     "text": [
      "🧩 Batch  15: Main=26200 | Tail= 400 | Total=26600\n"
     ]
    },
    {
     "name": "stderr",
     "output_type": "stream",
     "text": [
      "📦 Merging main + tail batches:   5%|██▌                                              | 16/305 [00:10<03:08,  1.53it/s]"
     ]
    },
    {
     "name": "stdout",
     "output_type": "stream",
     "text": [
      "🧩 Batch  16: Main=26200 | Tail= 400 | Total=26600\n"
     ]
    },
    {
     "name": "stderr",
     "output_type": "stream",
     "text": [
      "📦 Merging main + tail batches:   6%|██▋                                              | 17/305 [00:11<03:06,  1.55it/s]"
     ]
    },
    {
     "name": "stdout",
     "output_type": "stream",
     "text": [
      "🧩 Batch  17: Main=26200 | Tail= 400 | Total=26600\n"
     ]
    },
    {
     "name": "stderr",
     "output_type": "stream",
     "text": [
      "📦 Merging main + tail batches:   6%|██▉                                              | 18/305 [00:12<03:10,  1.50it/s]"
     ]
    },
    {
     "name": "stdout",
     "output_type": "stream",
     "text": [
      "🧩 Batch  18: Main=26200 | Tail= 400 | Total=26600\n"
     ]
    },
    {
     "name": "stderr",
     "output_type": "stream",
     "text": [
      "📦 Merging main + tail batches:   6%|███                                              | 19/305 [00:12<03:10,  1.50it/s]"
     ]
    },
    {
     "name": "stdout",
     "output_type": "stream",
     "text": [
      "🧩 Batch  19: Main=26200 | Tail= 400 | Total=26600\n"
     ]
    },
    {
     "name": "stderr",
     "output_type": "stream",
     "text": [
      "📦 Merging main + tail batches:   7%|███▏                                             | 20/305 [00:13<03:06,  1.53it/s]"
     ]
    },
    {
     "name": "stdout",
     "output_type": "stream",
     "text": [
      "🧩 Batch  20: Main=26200 | Tail= 400 | Total=26600\n"
     ]
    },
    {
     "name": "stderr",
     "output_type": "stream",
     "text": [
      "📦 Merging main + tail batches:   7%|███▎                                             | 21/305 [00:14<03:02,  1.56it/s]"
     ]
    },
    {
     "name": "stdout",
     "output_type": "stream",
     "text": [
      "🧩 Batch  21: Main=26200 | Tail= 400 | Total=26600\n"
     ]
    },
    {
     "name": "stderr",
     "output_type": "stream",
     "text": [
      "📦 Merging main + tail batches:   8%|███▋                                             | 23/305 [00:15<03:03,  1.53it/s]"
     ]
    },
    {
     "name": "stdout",
     "output_type": "stream",
     "text": [
      "🧩 Batch  22: Main=26200 | Tail= 400 | Total=26600\n",
      "🧩 Batch  23: Main=26200 | Tail= 400 | Total=26600\n"
     ]
    },
    {
     "name": "stderr",
     "output_type": "stream",
     "text": [
      "📦 Merging main + tail batches:   8%|███▊                                             | 24/305 [00:16<03:10,  1.47it/s]"
     ]
    },
    {
     "name": "stdout",
     "output_type": "stream",
     "text": [
      "🧩 Batch  24: Main=26200 | Tail= 400 | Total=26600\n"
     ]
    },
    {
     "name": "stderr",
     "output_type": "stream",
     "text": [
      "📦 Merging main + tail batches:   8%|████                                             | 25/305 [00:16<03:07,  1.49it/s]"
     ]
    },
    {
     "name": "stdout",
     "output_type": "stream",
     "text": [
      "🧩 Batch  25: Main=26200 | Tail= 400 | Total=26600\n"
     ]
    },
    {
     "name": "stderr",
     "output_type": "stream",
     "text": [
      "📦 Merging main + tail batches:   9%|████▏                                            | 26/305 [00:17<03:02,  1.53it/s]"
     ]
    },
    {
     "name": "stdout",
     "output_type": "stream",
     "text": [
      "🧩 Batch  26: Main=26200 | Tail= 400 | Total=26600\n"
     ]
    },
    {
     "name": "stderr",
     "output_type": "stream",
     "text": [
      "📦 Merging main + tail batches:   9%|████▎                                            | 27/305 [00:18<03:05,  1.50it/s]"
     ]
    },
    {
     "name": "stdout",
     "output_type": "stream",
     "text": [
      "🧩 Batch  27: Main=26200 | Tail= 400 | Total=26600\n"
     ]
    },
    {
     "name": "stderr",
     "output_type": "stream",
     "text": [
      "📦 Merging main + tail batches:   9%|████▍                                            | 28/305 [00:18<03:08,  1.47it/s]"
     ]
    },
    {
     "name": "stdout",
     "output_type": "stream",
     "text": [
      "🧩 Batch  28: Main=26200 | Tail= 400 | Total=26600\n"
     ]
    },
    {
     "name": "stderr",
     "output_type": "stream",
     "text": [
      "📦 Merging main + tail batches:  10%|████▋                                            | 29/305 [00:19<03:05,  1.49it/s]"
     ]
    },
    {
     "name": "stdout",
     "output_type": "stream",
     "text": [
      "🧩 Batch  29: Main=26200 | Tail= 400 | Total=26600\n"
     ]
    },
    {
     "name": "stderr",
     "output_type": "stream",
     "text": [
      "📦 Merging main + tail batches:  10%|████▊                                            | 30/305 [00:20<03:00,  1.53it/s]"
     ]
    },
    {
     "name": "stdout",
     "output_type": "stream",
     "text": [
      "🧩 Batch  30: Main=26200 | Tail= 400 | Total=26600\n"
     ]
    },
    {
     "name": "stderr",
     "output_type": "stream",
     "text": [
      "📦 Merging main + tail batches:  10%|████▉                                            | 31/305 [00:21<03:39,  1.25it/s]"
     ]
    },
    {
     "name": "stdout",
     "output_type": "stream",
     "text": [
      "🧩 Batch  31: Main=26200 | Tail= 400 | Total=26600\n"
     ]
    },
    {
     "name": "stderr",
     "output_type": "stream",
     "text": [
      "📦 Merging main + tail batches:  10%|█████▏                                           | 32/305 [00:22<03:29,  1.30it/s]"
     ]
    },
    {
     "name": "stdout",
     "output_type": "stream",
     "text": [
      "🧩 Batch  32: Main=26200 | Tail= 400 | Total=26600\n"
     ]
    },
    {
     "name": "stderr",
     "output_type": "stream",
     "text": [
      "📦 Merging main + tail batches:  11%|█████▎                                           | 33/305 [00:22<03:16,  1.38it/s]"
     ]
    },
    {
     "name": "stdout",
     "output_type": "stream",
     "text": [
      "🧩 Batch  33: Main=26200 | Tail= 400 | Total=26600\n"
     ]
    },
    {
     "name": "stderr",
     "output_type": "stream",
     "text": [
      "📦 Merging main + tail batches:  11%|█████▍                                           | 34/305 [00:23<03:12,  1.40it/s]"
     ]
    },
    {
     "name": "stdout",
     "output_type": "stream",
     "text": [
      "🧩 Batch  34: Main=26200 | Tail= 400 | Total=26600\n"
     ]
    },
    {
     "name": "stderr",
     "output_type": "stream",
     "text": [
      "📦 Merging main + tail batches:  11%|█████▌                                           | 35/305 [00:23<03:07,  1.44it/s]"
     ]
    },
    {
     "name": "stdout",
     "output_type": "stream",
     "text": [
      "🧩 Batch  35: Main=26200 | Tail= 400 | Total=26600\n"
     ]
    },
    {
     "name": "stderr",
     "output_type": "stream",
     "text": [
      "📦 Merging main + tail batches:  12%|█████▊                                           | 36/305 [00:24<03:02,  1.47it/s]"
     ]
    },
    {
     "name": "stdout",
     "output_type": "stream",
     "text": [
      "🧩 Batch  36: Main=26200 | Tail= 400 | Total=26600\n"
     ]
    },
    {
     "name": "stderr",
     "output_type": "stream",
     "text": [
      "📦 Merging main + tail batches:  12%|█████▉                                           | 37/305 [00:25<02:57,  1.51it/s]"
     ]
    },
    {
     "name": "stdout",
     "output_type": "stream",
     "text": [
      "🧩 Batch  37: Main=26200 | Tail= 400 | Total=26600\n"
     ]
    },
    {
     "name": "stderr",
     "output_type": "stream",
     "text": [
      "📦 Merging main + tail batches:  12%|██████                                           | 38/305 [00:25<02:58,  1.50it/s]"
     ]
    },
    {
     "name": "stdout",
     "output_type": "stream",
     "text": [
      "🧩 Batch  38: Main=26200 | Tail= 400 | Total=26600\n"
     ]
    },
    {
     "name": "stderr",
     "output_type": "stream",
     "text": [
      "📦 Merging main + tail batches:  13%|██████▎                                          | 39/305 [00:26<02:56,  1.51it/s]"
     ]
    },
    {
     "name": "stdout",
     "output_type": "stream",
     "text": [
      "🧩 Batch  39: Main=26200 | Tail= 400 | Total=26600\n"
     ]
    },
    {
     "name": "stderr",
     "output_type": "stream",
     "text": [
      "📦 Merging main + tail batches:  13%|██████▍                                          | 40/305 [00:27<02:48,  1.57it/s]"
     ]
    },
    {
     "name": "stdout",
     "output_type": "stream",
     "text": [
      "🧩 Batch  40: Main=26200 | Tail= 400 | Total=26600\n"
     ]
    },
    {
     "name": "stderr",
     "output_type": "stream",
     "text": [
      "📦 Merging main + tail batches:  13%|██████▌                                          | 41/305 [00:27<02:55,  1.51it/s]"
     ]
    },
    {
     "name": "stdout",
     "output_type": "stream",
     "text": [
      "🧩 Batch  41: Main=26200 | Tail= 400 | Total=26600\n"
     ]
    },
    {
     "name": "stderr",
     "output_type": "stream",
     "text": [
      "📦 Merging main + tail batches:  14%|██████▉                                          | 43/305 [00:29<02:44,  1.59it/s]"
     ]
    },
    {
     "name": "stdout",
     "output_type": "stream",
     "text": [
      "🧩 Batch  42: Main=26200 | Tail= 400 | Total=26600\n"
     ]
    },
    {
     "name": "stderr",
     "output_type": "stream",
     "text": [
      "📦 Merging main + tail batches:  14%|███████                                          | 44/305 [00:29<02:41,  1.62it/s]"
     ]
    },
    {
     "name": "stdout",
     "output_type": "stream",
     "text": [
      "🧩 Batch  43: Main=26200 | Tail= 400 | Total=26600\n",
      "🧩 Batch  44: Main=26200 | Tail= 400 | Total=26600\n"
     ]
    },
    {
     "name": "stderr",
     "output_type": "stream",
     "text": [
      "📦 Merging main + tail batches:  15%|███████▏                                         | 45/305 [00:30<02:41,  1.61it/s]"
     ]
    },
    {
     "name": "stdout",
     "output_type": "stream",
     "text": [
      "🧩 Batch  45: Main=26200 | Tail= 400 | Total=26600\n"
     ]
    },
    {
     "name": "stderr",
     "output_type": "stream",
     "text": [
      "📦 Merging main + tail batches:  15%|███████▍                                         | 46/305 [00:30<02:44,  1.57it/s]"
     ]
    },
    {
     "name": "stdout",
     "output_type": "stream",
     "text": [
      "🧩 Batch  46: Main=26200 | Tail= 400 | Total=26600\n"
     ]
    },
    {
     "name": "stderr",
     "output_type": "stream",
     "text": [
      "📦 Merging main + tail batches:  15%|███████▌                                         | 47/305 [00:31<02:43,  1.58it/s]"
     ]
    },
    {
     "name": "stdout",
     "output_type": "stream",
     "text": [
      "🧩 Batch  47: Main=26200 | Tail= 400 | Total=26600\n"
     ]
    },
    {
     "name": "stderr",
     "output_type": "stream",
     "text": [
      "📦 Merging main + tail batches:  16%|███████▋                                         | 48/305 [00:32<02:44,  1.56it/s]"
     ]
    },
    {
     "name": "stdout",
     "output_type": "stream",
     "text": [
      "🧩 Batch  48: Main=26200 | Tail= 400 | Total=26600\n"
     ]
    },
    {
     "name": "stderr",
     "output_type": "stream",
     "text": [
      "📦 Merging main + tail batches:  16%|███████▊                                         | 49/305 [00:32<02:38,  1.62it/s]"
     ]
    },
    {
     "name": "stdout",
     "output_type": "stream",
     "text": [
      "🧩 Batch  49: Main=26200 | Tail= 400 | Total=26600\n"
     ]
    },
    {
     "name": "stderr",
     "output_type": "stream",
     "text": [
      "📦 Merging main + tail batches:  16%|████████                                         | 50/305 [00:33<02:37,  1.62it/s]"
     ]
    },
    {
     "name": "stdout",
     "output_type": "stream",
     "text": [
      "🧩 Batch  50: Main=26200 | Tail= 400 | Total=26600\n"
     ]
    },
    {
     "name": "stderr",
     "output_type": "stream",
     "text": [
      "📦 Merging main + tail batches:  17%|████████▏                                        | 51/305 [00:34<02:47,  1.52it/s]"
     ]
    },
    {
     "name": "stdout",
     "output_type": "stream",
     "text": [
      "🧩 Batch  51: Main=26200 | Tail= 400 | Total=26600\n"
     ]
    },
    {
     "name": "stderr",
     "output_type": "stream",
     "text": [
      "📦 Merging main + tail batches:  17%|████████▎                                        | 52/305 [00:34<02:44,  1.54it/s]"
     ]
    },
    {
     "name": "stdout",
     "output_type": "stream",
     "text": [
      "🧩 Batch  52: Main=26200 | Tail= 400 | Total=26600\n"
     ]
    },
    {
     "name": "stderr",
     "output_type": "stream",
     "text": [
      "📦 Merging main + tail batches:  17%|████████▌                                        | 53/305 [00:35<02:39,  1.58it/s]"
     ]
    },
    {
     "name": "stdout",
     "output_type": "stream",
     "text": [
      "🧩 Batch  53: Main=26200 | Tail= 400 | Total=26600\n"
     ]
    },
    {
     "name": "stderr",
     "output_type": "stream",
     "text": [
      "📦 Merging main + tail batches:  18%|████████▊                                        | 55/305 [00:36<02:40,  1.56it/s]"
     ]
    },
    {
     "name": "stdout",
     "output_type": "stream",
     "text": [
      "🧩 Batch  54: Main=26200 | Tail= 400 | Total=26600\n",
      "🧩 Batch  55: Main=26200 | Tail= 400 | Total=26600\n"
     ]
    },
    {
     "name": "stderr",
     "output_type": "stream",
     "text": [
      "📦 Merging main + tail batches:  18%|████████▉                                        | 56/305 [00:37<02:40,  1.55it/s]"
     ]
    },
    {
     "name": "stdout",
     "output_type": "stream",
     "text": [
      "🧩 Batch  56: Main=26200 | Tail= 400 | Total=26600\n"
     ]
    },
    {
     "name": "stderr",
     "output_type": "stream",
     "text": [
      "📦 Merging main + tail batches:  19%|█████████▎                                       | 58/305 [00:38<02:41,  1.53it/s]"
     ]
    },
    {
     "name": "stdout",
     "output_type": "stream",
     "text": [
      "🧩 Batch  57: Main=26200 | Tail= 400 | Total=26600\n",
      "🧩 Batch  58: Main=26200 | Tail= 400 | Total=26600\n"
     ]
    },
    {
     "name": "stderr",
     "output_type": "stream",
     "text": [
      "📦 Merging main + tail batches:  19%|█████████▍                                       | 59/305 [00:39<02:36,  1.57it/s]"
     ]
    },
    {
     "name": "stdout",
     "output_type": "stream",
     "text": [
      "🧩 Batch  59: Main=26200 | Tail= 400 | Total=26600\n"
     ]
    },
    {
     "name": "stderr",
     "output_type": "stream",
     "text": [
      "📦 Merging main + tail batches:  20%|█████████▋                                       | 60/305 [00:39<02:36,  1.56it/s]"
     ]
    },
    {
     "name": "stdout",
     "output_type": "stream",
     "text": [
      "🧩 Batch  60: Main=26200 | Tail= 400 | Total=26600\n"
     ]
    },
    {
     "name": "stderr",
     "output_type": "stream",
     "text": [
      "📦 Merging main + tail batches:  20%|█████████▊                                       | 61/305 [00:40<02:43,  1.49it/s]"
     ]
    },
    {
     "name": "stdout",
     "output_type": "stream",
     "text": [
      "🧩 Batch  61: Main=26200 | Tail= 400 | Total=26600\n"
     ]
    },
    {
     "name": "stderr",
     "output_type": "stream",
     "text": [
      "📦 Merging main + tail batches:  20%|█████████▉                                       | 62/305 [00:41<02:55,  1.39it/s]"
     ]
    },
    {
     "name": "stdout",
     "output_type": "stream",
     "text": [
      "🧩 Batch  62: Main=26200 | Tail= 400 | Total=26600\n"
     ]
    },
    {
     "name": "stderr",
     "output_type": "stream",
     "text": [
      "📦 Merging main + tail batches:  21%|██████████                                       | 63/305 [00:42<03:01,  1.33it/s]"
     ]
    },
    {
     "name": "stdout",
     "output_type": "stream",
     "text": [
      "🧩 Batch  63: Main=26200 | Tail= 400 | Total=26600\n"
     ]
    },
    {
     "name": "stderr",
     "output_type": "stream",
     "text": [
      "📦 Merging main + tail batches:  21%|██████████▎                                      | 64/305 [00:43<03:01,  1.33it/s]"
     ]
    },
    {
     "name": "stdout",
     "output_type": "stream",
     "text": [
      "🧩 Batch  64: Main=26200 | Tail= 400 | Total=26600\n"
     ]
    },
    {
     "name": "stderr",
     "output_type": "stream",
     "text": [
      "📦 Merging main + tail batches:  21%|██████████▍                                      | 65/305 [00:43<03:05,  1.29it/s]"
     ]
    },
    {
     "name": "stdout",
     "output_type": "stream",
     "text": [
      "🧩 Batch  65: Main=26200 | Tail= 400 | Total=26600\n"
     ]
    },
    {
     "name": "stderr",
     "output_type": "stream",
     "text": [
      "📦 Merging main + tail batches:  22%|██████████▌                                      | 66/305 [00:44<03:12,  1.24it/s]"
     ]
    },
    {
     "name": "stdout",
     "output_type": "stream",
     "text": [
      "🧩 Batch  66: Main=26200 | Tail= 400 | Total=26600\n"
     ]
    },
    {
     "name": "stderr",
     "output_type": "stream",
     "text": [
      "📦 Merging main + tail batches:  22%|██████████▊                                      | 67/305 [00:45<03:12,  1.24it/s]"
     ]
    },
    {
     "name": "stdout",
     "output_type": "stream",
     "text": [
      "🧩 Batch  67: Main=26200 | Tail= 400 | Total=26600\n"
     ]
    },
    {
     "name": "stderr",
     "output_type": "stream",
     "text": [
      "📦 Merging main + tail batches:  22%|██████████▉                                      | 68/305 [00:46<03:14,  1.22it/s]"
     ]
    },
    {
     "name": "stdout",
     "output_type": "stream",
     "text": [
      "🧩 Batch  68: Main=26200 | Tail= 400 | Total=26600\n"
     ]
    },
    {
     "name": "stderr",
     "output_type": "stream",
     "text": [
      "📦 Merging main + tail batches:  23%|███████████                                      | 69/305 [00:47<03:19,  1.19it/s]"
     ]
    },
    {
     "name": "stdout",
     "output_type": "stream",
     "text": [
      "🧩 Batch  69: Main=26200 | Tail= 400 | Total=26600\n"
     ]
    },
    {
     "name": "stderr",
     "output_type": "stream",
     "text": [
      "📦 Merging main + tail batches:  23%|███████████▏                                     | 70/305 [00:48<03:11,  1.22it/s]"
     ]
    },
    {
     "name": "stdout",
     "output_type": "stream",
     "text": [
      "🧩 Batch  70: Main=26200 | Tail= 400 | Total=26600\n"
     ]
    },
    {
     "name": "stderr",
     "output_type": "stream",
     "text": [
      "📦 Merging main + tail batches:  23%|███████████▍                                     | 71/305 [00:48<03:02,  1.28it/s]"
     ]
    },
    {
     "name": "stdout",
     "output_type": "stream",
     "text": [
      "🧩 Batch  71: Main=26200 | Tail= 400 | Total=26600\n"
     ]
    },
    {
     "name": "stderr",
     "output_type": "stream",
     "text": [
      "📦 Merging main + tail batches:  24%|███████████▌                                     | 72/305 [00:49<02:59,  1.30it/s]"
     ]
    },
    {
     "name": "stdout",
     "output_type": "stream",
     "text": [
      "🧩 Batch  72: Main=26200 | Tail= 400 | Total=26600\n"
     ]
    },
    {
     "name": "stderr",
     "output_type": "stream",
     "text": [
      "📦 Merging main + tail batches:  24%|███████████▋                                     | 73/305 [00:50<02:56,  1.32it/s]"
     ]
    },
    {
     "name": "stdout",
     "output_type": "stream",
     "text": [
      "🧩 Batch  73: Main=26200 | Tail= 400 | Total=26600\n"
     ]
    },
    {
     "name": "stderr",
     "output_type": "stream",
     "text": [
      "📦 Merging main + tail batches:  24%|███████████▉                                     | 74/305 [00:51<02:52,  1.34it/s]"
     ]
    },
    {
     "name": "stdout",
     "output_type": "stream",
     "text": [
      "🧩 Batch  74: Main=26200 | Tail= 400 | Total=26600\n"
     ]
    },
    {
     "name": "stderr",
     "output_type": "stream",
     "text": [
      "📦 Merging main + tail batches:  25%|████████████                                     | 75/305 [00:51<02:58,  1.29it/s]"
     ]
    },
    {
     "name": "stdout",
     "output_type": "stream",
     "text": [
      "🧩 Batch  75: Main=26200 | Tail= 400 | Total=26600\n"
     ]
    },
    {
     "name": "stderr",
     "output_type": "stream",
     "text": [
      "📦 Merging main + tail batches:  25%|████████████▏                                    | 76/305 [00:52<02:52,  1.33it/s]"
     ]
    },
    {
     "name": "stdout",
     "output_type": "stream",
     "text": [
      "🧩 Batch  76: Main=26200 | Tail= 400 | Total=26600\n"
     ]
    },
    {
     "name": "stderr",
     "output_type": "stream",
     "text": [
      "📦 Merging main + tail batches:  25%|████████████▎                                    | 77/305 [00:53<02:52,  1.32it/s]"
     ]
    },
    {
     "name": "stdout",
     "output_type": "stream",
     "text": [
      "🧩 Batch  77: Main=26200 | Tail= 400 | Total=26600\n"
     ]
    },
    {
     "name": "stderr",
     "output_type": "stream",
     "text": [
      "📦 Merging main + tail batches:  26%|████████████▋                                    | 79/305 [00:54<02:46,  1.35it/s]"
     ]
    },
    {
     "name": "stdout",
     "output_type": "stream",
     "text": [
      "🧩 Batch  78: Main=26200 | Tail= 400 | Total=26600\n"
     ]
    },
    {
     "name": "stderr",
     "output_type": "stream",
     "text": [
      "📦 Merging main + tail batches:  26%|████████████▊                                    | 80/305 [00:55<02:45,  1.36it/s]"
     ]
    },
    {
     "name": "stdout",
     "output_type": "stream",
     "text": [
      "🧩 Batch  79: Main=26200 | Tail= 400 | Total=26600\n",
      "🧩 Batch  80: Main=26200 | Tail= 400 | Total=26600\n"
     ]
    },
    {
     "name": "stderr",
     "output_type": "stream",
     "text": [
      "📦 Merging main + tail batches:  27%|█████████████                                    | 81/305 [00:56<02:44,  1.36it/s]"
     ]
    },
    {
     "name": "stdout",
     "output_type": "stream",
     "text": [
      "🧩 Batch  81: Main=26200 | Tail= 400 | Total=26600\n"
     ]
    },
    {
     "name": "stderr",
     "output_type": "stream",
     "text": [
      "📦 Merging main + tail batches:  27%|█████████████▏                                   | 82/305 [00:56<02:40,  1.39it/s]"
     ]
    },
    {
     "name": "stdout",
     "output_type": "stream",
     "text": [
      "🧩 Batch  82: Main=26200 | Tail= 400 | Total=26600\n"
     ]
    },
    {
     "name": "stderr",
     "output_type": "stream",
     "text": [
      "📦 Merging main + tail batches:  27%|█████████████▎                                   | 83/305 [00:57<02:37,  1.41it/s]"
     ]
    },
    {
     "name": "stdout",
     "output_type": "stream",
     "text": [
      "🧩 Batch  83: Main=26200 | Tail= 400 | Total=26600\n"
     ]
    },
    {
     "name": "stderr",
     "output_type": "stream",
     "text": [
      "📦 Merging main + tail batches:  28%|█████████████▍                                   | 84/305 [00:58<02:50,  1.30it/s]"
     ]
    },
    {
     "name": "stdout",
     "output_type": "stream",
     "text": [
      "🧩 Batch  84: Main=26200 | Tail= 400 | Total=26600\n"
     ]
    },
    {
     "name": "stderr",
     "output_type": "stream",
     "text": [
      "📦 Merging main + tail batches:  28%|█████████████▋                                   | 85/305 [00:59<02:53,  1.27it/s]"
     ]
    },
    {
     "name": "stdout",
     "output_type": "stream",
     "text": [
      "🧩 Batch  85: Main=26200 | Tail= 400 | Total=26600\n"
     ]
    },
    {
     "name": "stderr",
     "output_type": "stream",
     "text": [
      "📦 Merging main + tail batches:  28%|█████████████▊                                   | 86/305 [01:00<02:49,  1.29it/s]"
     ]
    },
    {
     "name": "stdout",
     "output_type": "stream",
     "text": [
      "🧩 Batch  86: Main=26200 | Tail= 400 | Total=26600\n"
     ]
    },
    {
     "name": "stderr",
     "output_type": "stream",
     "text": [
      "📦 Merging main + tail batches:  29%|██████████████▏                                  | 88/305 [01:01<02:41,  1.34it/s]"
     ]
    },
    {
     "name": "stdout",
     "output_type": "stream",
     "text": [
      "🧩 Batch  87: Main=26200 | Tail= 400 | Total=26600\n"
     ]
    },
    {
     "name": "stderr",
     "output_type": "stream",
     "text": [
      "📦 Merging main + tail batches:  29%|██████████████▎                                  | 89/305 [01:02<02:42,  1.33it/s]"
     ]
    },
    {
     "name": "stdout",
     "output_type": "stream",
     "text": [
      "🧩 Batch  88: Main=26200 | Tail= 400 | Total=26600\n",
      "🧩 Batch  89: Main=26200 | Tail= 400 | Total=26600\n"
     ]
    },
    {
     "name": "stderr",
     "output_type": "stream",
     "text": [
      "📦 Merging main + tail batches:  30%|██████████████▍                                  | 90/305 [01:03<02:44,  1.31it/s]"
     ]
    },
    {
     "name": "stdout",
     "output_type": "stream",
     "text": [
      "🧩 Batch  90: Main=26200 | Tail= 400 | Total=26600\n"
     ]
    },
    {
     "name": "stderr",
     "output_type": "stream",
     "text": [
      "📦 Merging main + tail batches:  30%|██████████████▌                                  | 91/305 [01:03<02:44,  1.30it/s]"
     ]
    },
    {
     "name": "stdout",
     "output_type": "stream",
     "text": [
      "🧩 Batch  91: Main=26200 | Tail= 400 | Total=26600\n"
     ]
    },
    {
     "name": "stderr",
     "output_type": "stream",
     "text": [
      "📦 Merging main + tail batches:  30%|██████████████▊                                  | 92/305 [01:04<02:45,  1.29it/s]"
     ]
    },
    {
     "name": "stdout",
     "output_type": "stream",
     "text": [
      "🧩 Batch  92: Main=26200 | Tail= 400 | Total=26600\n"
     ]
    },
    {
     "name": "stderr",
     "output_type": "stream",
     "text": [
      "📦 Merging main + tail batches:  30%|██████████████▉                                  | 93/305 [01:05<02:49,  1.25it/s]"
     ]
    },
    {
     "name": "stdout",
     "output_type": "stream",
     "text": [
      "🧩 Batch  93: Main=26200 | Tail= 400 | Total=26600\n"
     ]
    },
    {
     "name": "stderr",
     "output_type": "stream",
     "text": [
      "📦 Merging main + tail batches:  31%|███████████████                                  | 94/305 [01:06<02:41,  1.30it/s]"
     ]
    },
    {
     "name": "stdout",
     "output_type": "stream",
     "text": [
      "🧩 Batch  94: Main=26200 | Tail= 400 | Total=26600\n"
     ]
    },
    {
     "name": "stderr",
     "output_type": "stream",
     "text": [
      "📦 Merging main + tail batches:  31%|███████████████▎                                 | 95/305 [01:07<02:53,  1.21it/s]"
     ]
    },
    {
     "name": "stdout",
     "output_type": "stream",
     "text": [
      "🧩 Batch  95: Main=26200 | Tail= 400 | Total=26600\n"
     ]
    },
    {
     "name": "stderr",
     "output_type": "stream",
     "text": [
      "📦 Merging main + tail batches:  31%|███████████████▍                                 | 96/305 [01:08<02:48,  1.24it/s]"
     ]
    },
    {
     "name": "stdout",
     "output_type": "stream",
     "text": [
      "🧩 Batch  96: Main=26200 | Tail= 400 | Total=26600\n"
     ]
    },
    {
     "name": "stderr",
     "output_type": "stream",
     "text": [
      "📦 Merging main + tail batches:  32%|███████████████▌                                 | 97/305 [01:08<02:45,  1.25it/s]"
     ]
    },
    {
     "name": "stdout",
     "output_type": "stream",
     "text": [
      "🧩 Batch  97: Main=26200 | Tail= 400 | Total=26600\n"
     ]
    },
    {
     "name": "stderr",
     "output_type": "stream",
     "text": [
      "📦 Merging main + tail batches:  32%|███████████████▋                                 | 98/305 [01:09<02:37,  1.32it/s]"
     ]
    },
    {
     "name": "stdout",
     "output_type": "stream",
     "text": [
      "🧩 Batch  98: Main=26200 | Tail= 400 | Total=26600\n"
     ]
    },
    {
     "name": "stderr",
     "output_type": "stream",
     "text": [
      "📦 Merging main + tail batches:  32%|███████████████▉                                 | 99/305 [01:10<02:37,  1.31it/s]"
     ]
    },
    {
     "name": "stdout",
     "output_type": "stream",
     "text": [
      "🧩 Batch  99: Main=26200 | Tail= 400 | Total=26600\n"
     ]
    },
    {
     "name": "stderr",
     "output_type": "stream",
     "text": [
      "📦 Merging main + tail batches:  33%|███████████████▉                                | 101/305 [01:11<02:35,  1.31it/s]"
     ]
    },
    {
     "name": "stdout",
     "output_type": "stream",
     "text": [
      "🧩 Batch 100: Main=26200 | Tail= 400 | Total=26600\n"
     ]
    },
    {
     "name": "stderr",
     "output_type": "stream",
     "text": [
      "📦 Merging main + tail batches:  33%|████████████████                                | 102/305 [01:12<02:33,  1.32it/s]"
     ]
    },
    {
     "name": "stdout",
     "output_type": "stream",
     "text": [
      "🧩 Batch 101: Main=26200 | Tail= 400 | Total=26600\n",
      "🧩 Batch 102: Main=26200 | Tail= 400 | Total=26600\n"
     ]
    },
    {
     "name": "stderr",
     "output_type": "stream",
     "text": [
      "📦 Merging main + tail batches:  34%|████████████████▏                               | 103/305 [01:13<02:32,  1.32it/s]"
     ]
    },
    {
     "name": "stdout",
     "output_type": "stream",
     "text": [
      "🧩 Batch 103: Main=26200 | Tail= 400 | Total=26600\n"
     ]
    },
    {
     "name": "stderr",
     "output_type": "stream",
     "text": [
      "📦 Merging main + tail batches:  34%|████████████████▌                               | 105/305 [01:14<02:32,  1.31it/s]"
     ]
    },
    {
     "name": "stdout",
     "output_type": "stream",
     "text": [
      "🧩 Batch 104: Main=26200 | Tail= 400 | Total=26600\n",
      "🧩 Batch 105: Main=26200 | Tail= 400 | Total=26600\n"
     ]
    },
    {
     "name": "stderr",
     "output_type": "stream",
     "text": [
      "📦 Merging main + tail batches:  35%|████████████████▋                               | 106/305 [01:15<02:34,  1.29it/s]"
     ]
    },
    {
     "name": "stdout",
     "output_type": "stream",
     "text": [
      "🧩 Batch 106: Main=26200 | Tail= 400 | Total=26600\n"
     ]
    },
    {
     "name": "stderr",
     "output_type": "stream",
     "text": [
      "📦 Merging main + tail batches:  35%|████████████████▊                               | 107/305 [01:16<02:36,  1.27it/s]"
     ]
    },
    {
     "name": "stdout",
     "output_type": "stream",
     "text": [
      "🧩 Batch 107: Main=26200 | Tail= 400 | Total=26600\n"
     ]
    },
    {
     "name": "stderr",
     "output_type": "stream",
     "text": [
      "📦 Merging main + tail batches:  36%|█████████████████▏                              | 109/305 [01:17<02:28,  1.32it/s]"
     ]
    },
    {
     "name": "stdout",
     "output_type": "stream",
     "text": [
      "🧩 Batch 108: Main=26200 | Tail= 400 | Total=26600\n",
      "🧩 Batch 109: Main=26200 | Tail= 400 | Total=26600\n"
     ]
    },
    {
     "name": "stderr",
     "output_type": "stream",
     "text": [
      "📦 Merging main + tail batches:  36%|█████████████████▎                              | 110/305 [01:18<02:31,  1.28it/s]"
     ]
    },
    {
     "name": "stdout",
     "output_type": "stream",
     "text": [
      "🧩 Batch 110: Main=26200 | Tail= 400 | Total=26600\n"
     ]
    },
    {
     "name": "stderr",
     "output_type": "stream",
     "text": [
      "📦 Merging main + tail batches:  36%|█████████████████▍                              | 111/305 [01:19<02:37,  1.23it/s]"
     ]
    },
    {
     "name": "stdout",
     "output_type": "stream",
     "text": [
      "🧩 Batch 111: Main=26200 | Tail= 400 | Total=26600\n"
     ]
    },
    {
     "name": "stderr",
     "output_type": "stream",
     "text": [
      "📦 Merging main + tail batches:  37%|█████████████████▋                              | 112/305 [01:20<02:37,  1.23it/s]"
     ]
    },
    {
     "name": "stdout",
     "output_type": "stream",
     "text": [
      "🧩 Batch 112: Main=26200 | Tail= 400 | Total=26600\n"
     ]
    },
    {
     "name": "stderr",
     "output_type": "stream",
     "text": [
      "📦 Merging main + tail batches:  37%|█████████████████▊                              | 113/305 [01:21<02:35,  1.23it/s]"
     ]
    },
    {
     "name": "stdout",
     "output_type": "stream",
     "text": [
      "🧩 Batch 113: Main=26200 | Tail= 400 | Total=26600\n"
     ]
    },
    {
     "name": "stderr",
     "output_type": "stream",
     "text": [
      "📦 Merging main + tail batches:  38%|██████████████████                              | 115/305 [01:22<02:24,  1.32it/s]"
     ]
    },
    {
     "name": "stdout",
     "output_type": "stream",
     "text": [
      "🧩 Batch 114: Main=26200 | Tail= 400 | Total=26600\n",
      "🧩 Batch 115: Main=26200 | Tail= 400 | Total=26600\n"
     ]
    },
    {
     "name": "stderr",
     "output_type": "stream",
     "text": [
      "📦 Merging main + tail batches:  38%|██████████████████▍                             | 117/305 [01:23<02:12,  1.42it/s]"
     ]
    },
    {
     "name": "stdout",
     "output_type": "stream",
     "text": [
      "🧩 Batch 116: Main=26200 | Tail= 400 | Total=26600\n",
      "🧩 Batch 117: Main=26200 | Tail= 400 | Total=26600\n"
     ]
    },
    {
     "name": "stderr",
     "output_type": "stream",
     "text": [
      "📦 Merging main + tail batches:  39%|██████████████████▌                             | 118/305 [01:24<02:19,  1.34it/s]"
     ]
    },
    {
     "name": "stdout",
     "output_type": "stream",
     "text": [
      "🧩 Batch 118: Main=26200 | Tail= 400 | Total=26600\n"
     ]
    },
    {
     "name": "stderr",
     "output_type": "stream",
     "text": [
      "📦 Merging main + tail batches:  39%|██████████████████▋                             | 119/305 [01:25<02:18,  1.34it/s]"
     ]
    },
    {
     "name": "stdout",
     "output_type": "stream",
     "text": [
      "🧩 Batch 119: Main=26200 | Tail= 400 | Total=26600\n"
     ]
    },
    {
     "name": "stderr",
     "output_type": "stream",
     "text": [
      "📦 Merging main + tail batches:  39%|██████████████████▉                             | 120/305 [01:26<02:19,  1.33it/s]"
     ]
    },
    {
     "name": "stdout",
     "output_type": "stream",
     "text": [
      "🧩 Batch 120: Main=26200 | Tail= 400 | Total=26600\n"
     ]
    },
    {
     "name": "stderr",
     "output_type": "stream",
     "text": [
      "📦 Merging main + tail batches:  40%|███████████████████                             | 121/305 [01:27<02:30,  1.22it/s]"
     ]
    },
    {
     "name": "stdout",
     "output_type": "stream",
     "text": [
      "🧩 Batch 121: Main=26200 | Tail= 400 | Total=26600\n"
     ]
    },
    {
     "name": "stderr",
     "output_type": "stream",
     "text": [
      "📦 Merging main + tail batches:  40%|███████████████████▏                            | 122/305 [01:28<02:27,  1.24it/s]"
     ]
    },
    {
     "name": "stdout",
     "output_type": "stream",
     "text": [
      "🧩 Batch 122: Main=26200 | Tail= 400 | Total=26600\n"
     ]
    },
    {
     "name": "stderr",
     "output_type": "stream",
     "text": [
      "📦 Merging main + tail batches:  40%|███████████████████▎                            | 123/305 [01:28<02:29,  1.22it/s]"
     ]
    },
    {
     "name": "stdout",
     "output_type": "stream",
     "text": [
      "🧩 Batch 123: Main=26200 | Tail= 400 | Total=26600\n"
     ]
    },
    {
     "name": "stderr",
     "output_type": "stream",
     "text": [
      "📦 Merging main + tail batches:  41%|███████████████████▌                            | 124/305 [01:29<02:23,  1.26it/s]"
     ]
    },
    {
     "name": "stdout",
     "output_type": "stream",
     "text": [
      "🧩 Batch 124: Main=26200 | Tail= 400 | Total=26600\n"
     ]
    },
    {
     "name": "stderr",
     "output_type": "stream",
     "text": [
      "📦 Merging main + tail batches:  41%|███████████████████▋                            | 125/305 [01:30<02:21,  1.27it/s]"
     ]
    },
    {
     "name": "stdout",
     "output_type": "stream",
     "text": [
      "🧩 Batch 125: Main=26200 | Tail= 400 | Total=26600\n"
     ]
    },
    {
     "name": "stderr",
     "output_type": "stream",
     "text": [
      "📦 Merging main + tail batches:  41%|███████████████████▊                            | 126/305 [01:31<02:21,  1.27it/s]"
     ]
    },
    {
     "name": "stdout",
     "output_type": "stream",
     "text": [
      "🧩 Batch 126: Main=26200 | Tail= 400 | Total=26600\n"
     ]
    },
    {
     "name": "stderr",
     "output_type": "stream",
     "text": [
      "📦 Merging main + tail batches:  42%|███████████████████▉                            | 127/305 [01:31<02:17,  1.29it/s]"
     ]
    },
    {
     "name": "stdout",
     "output_type": "stream",
     "text": [
      "🧩 Batch 127: Main=26200 | Tail= 400 | Total=26600\n"
     ]
    },
    {
     "name": "stderr",
     "output_type": "stream",
     "text": [
      "📦 Merging main + tail batches:  42%|████████████████████▏                           | 128/305 [01:32<02:22,  1.24it/s]"
     ]
    },
    {
     "name": "stdout",
     "output_type": "stream",
     "text": [
      "🧩 Batch 128: Main=26200 | Tail= 400 | Total=26600\n"
     ]
    },
    {
     "name": "stderr",
     "output_type": "stream",
     "text": [
      "📦 Merging main + tail batches:  42%|████████████████████▎                           | 129/305 [01:33<02:16,  1.29it/s]"
     ]
    },
    {
     "name": "stdout",
     "output_type": "stream",
     "text": [
      "🧩 Batch 129: Main=26200 | Tail= 400 | Total=26600\n"
     ]
    },
    {
     "name": "stderr",
     "output_type": "stream",
     "text": [
      "📦 Merging main + tail batches:  43%|████████████████████▍                           | 130/305 [01:34<02:16,  1.28it/s]"
     ]
    },
    {
     "name": "stdout",
     "output_type": "stream",
     "text": [
      "🧩 Batch 130: Main=26200 | Tail= 400 | Total=26600\n"
     ]
    },
    {
     "name": "stderr",
     "output_type": "stream",
     "text": [
      "📦 Merging main + tail batches:  43%|████████████████████▌                           | 131/305 [01:35<02:18,  1.26it/s]"
     ]
    },
    {
     "name": "stdout",
     "output_type": "stream",
     "text": [
      "🧩 Batch 131: Main=26200 | Tail= 400 | Total=26600\n"
     ]
    },
    {
     "name": "stderr",
     "output_type": "stream",
     "text": [
      "📦 Merging main + tail batches:  43%|████████████████████▊                           | 132/305 [01:35<02:16,  1.27it/s]"
     ]
    },
    {
     "name": "stdout",
     "output_type": "stream",
     "text": [
      "🧩 Batch 132: Main=26200 | Tail= 400 | Total=26600\n"
     ]
    },
    {
     "name": "stderr",
     "output_type": "stream",
     "text": [
      "📦 Merging main + tail batches:  44%|█████████████████████                           | 134/305 [01:37<02:17,  1.25it/s]"
     ]
    },
    {
     "name": "stdout",
     "output_type": "stream",
     "text": [
      "🧩 Batch 133: Main=26200 | Tail= 400 | Total=26600\n",
      "🧩 Batch 134: Main=26200 | Tail= 400 | Total=26600\n"
     ]
    },
    {
     "name": "stderr",
     "output_type": "stream",
     "text": [
      "📦 Merging main + tail batches:  44%|█████████████████████▏                          | 135/305 [01:38<02:15,  1.25it/s]"
     ]
    },
    {
     "name": "stdout",
     "output_type": "stream",
     "text": [
      "🧩 Batch 135: Main=26200 | Tail= 400 | Total=26600\n"
     ]
    },
    {
     "name": "stderr",
     "output_type": "stream",
     "text": [
      "📦 Merging main + tail batches:  45%|█████████████████████▍                          | 136/305 [01:39<02:12,  1.27it/s]"
     ]
    },
    {
     "name": "stdout",
     "output_type": "stream",
     "text": [
      "🧩 Batch 136: Main=26200 | Tail= 400 | Total=26600\n"
     ]
    },
    {
     "name": "stderr",
     "output_type": "stream",
     "text": [
      "📦 Merging main + tail batches:  45%|█████████████████████▌                          | 137/305 [01:39<02:08,  1.31it/s]"
     ]
    },
    {
     "name": "stdout",
     "output_type": "stream",
     "text": [
      "🧩 Batch 137: Main=26200 | Tail= 400 | Total=26600\n"
     ]
    },
    {
     "name": "stderr",
     "output_type": "stream",
     "text": [
      "📦 Merging main + tail batches:  45%|█████████████████████▋                          | 138/305 [01:40<02:07,  1.31it/s]"
     ]
    },
    {
     "name": "stdout",
     "output_type": "stream",
     "text": [
      "🧩 Batch 138: Main=26200 | Tail= 400 | Total=26600\n"
     ]
    },
    {
     "name": "stderr",
     "output_type": "stream",
     "text": [
      "📦 Merging main + tail batches:  46%|█████████████████████▉                          | 139/305 [01:41<02:10,  1.27it/s]"
     ]
    },
    {
     "name": "stdout",
     "output_type": "stream",
     "text": [
      "🧩 Batch 139: Main=26200 | Tail= 400 | Total=26600\n"
     ]
    },
    {
     "name": "stderr",
     "output_type": "stream",
     "text": [
      "📦 Merging main + tail batches:  46%|██████████████████████                          | 140/305 [01:42<02:06,  1.30it/s]"
     ]
    },
    {
     "name": "stdout",
     "output_type": "stream",
     "text": [
      "🧩 Batch 140: Main=26200 | Tail= 400 | Total=26600\n"
     ]
    },
    {
     "name": "stderr",
     "output_type": "stream",
     "text": [
      "📦 Merging main + tail batches:  46%|██████████████████████▏                         | 141/305 [01:42<02:03,  1.33it/s]"
     ]
    },
    {
     "name": "stdout",
     "output_type": "stream",
     "text": [
      "🧩 Batch 141: Main=26200 | Tail= 400 | Total=26600\n"
     ]
    },
    {
     "name": "stderr",
     "output_type": "stream",
     "text": [
      "📦 Merging main + tail batches:  47%|██████████████████████▎                         | 142/305 [01:43<02:00,  1.35it/s]"
     ]
    },
    {
     "name": "stdout",
     "output_type": "stream",
     "text": [
      "🧩 Batch 142: Main=26200 | Tail= 400 | Total=26600\n"
     ]
    },
    {
     "name": "stderr",
     "output_type": "stream",
     "text": [
      "📦 Merging main + tail batches:  47%|██████████████████████▌                         | 143/305 [01:44<01:59,  1.35it/s]"
     ]
    },
    {
     "name": "stdout",
     "output_type": "stream",
     "text": [
      "🧩 Batch 143: Main=26200 | Tail= 400 | Total=26600\n"
     ]
    },
    {
     "name": "stderr",
     "output_type": "stream",
     "text": [
      "📦 Merging main + tail batches:  48%|██████████████████████▊                         | 145/305 [01:45<01:57,  1.36it/s]"
     ]
    },
    {
     "name": "stdout",
     "output_type": "stream",
     "text": [
      "🧩 Batch 144: Main=26200 | Tail= 400 | Total=26600\n",
      "🧩 Batch 145: Main=26200 | Tail= 400 | Total=26600\n"
     ]
    },
    {
     "name": "stderr",
     "output_type": "stream",
     "text": [
      "📦 Merging main + tail batches:  48%|██████████████████████▉                         | 146/305 [01:46<01:53,  1.40it/s]"
     ]
    },
    {
     "name": "stdout",
     "output_type": "stream",
     "text": [
      "🧩 Batch 146: Main=26200 | Tail= 400 | Total=26600\n"
     ]
    },
    {
     "name": "stderr",
     "output_type": "stream",
     "text": [
      "📦 Merging main + tail batches:  48%|███████████████████████▏                        | 147/305 [01:47<01:51,  1.41it/s]"
     ]
    },
    {
     "name": "stdout",
     "output_type": "stream",
     "text": [
      "🧩 Batch 147: Main=26200 | Tail= 400 | Total=26600\n"
     ]
    },
    {
     "name": "stderr",
     "output_type": "stream",
     "text": [
      "📦 Merging main + tail batches:  49%|███████████████████████▎                        | 148/305 [01:47<01:50,  1.42it/s]"
     ]
    },
    {
     "name": "stdout",
     "output_type": "stream",
     "text": [
      "🧩 Batch 148: Main=26200 | Tail= 400 | Total=26600\n"
     ]
    },
    {
     "name": "stderr",
     "output_type": "stream",
     "text": [
      "📦 Merging main + tail batches:  49%|███████████████████████▍                        | 149/305 [01:48<01:58,  1.32it/s]"
     ]
    },
    {
     "name": "stdout",
     "output_type": "stream",
     "text": [
      "🧩 Batch 149: Main=26200 | Tail= 400 | Total=26600\n"
     ]
    },
    {
     "name": "stderr",
     "output_type": "stream",
     "text": [
      "📦 Merging main + tail batches:  49%|███████████████████████▌                        | 150/305 [01:49<01:55,  1.34it/s]"
     ]
    },
    {
     "name": "stdout",
     "output_type": "stream",
     "text": [
      "🧩 Batch 150: Main=26200 | Tail= 400 | Total=26600\n"
     ]
    },
    {
     "name": "stderr",
     "output_type": "stream",
     "text": [
      "📦 Merging main + tail batches:  50%|███████████████████████▊                        | 151/305 [01:50<01:56,  1.32it/s]"
     ]
    },
    {
     "name": "stdout",
     "output_type": "stream",
     "text": [
      "🧩 Batch 151: Main=26200 | Tail= 400 | Total=26600\n"
     ]
    },
    {
     "name": "stderr",
     "output_type": "stream",
     "text": [
      "📦 Merging main + tail batches:  50%|███████████████████████▉                        | 152/305 [01:51<01:56,  1.31it/s]"
     ]
    },
    {
     "name": "stdout",
     "output_type": "stream",
     "text": [
      "🧩 Batch 152: Main=26200 | Tail= 400 | Total=26600\n"
     ]
    },
    {
     "name": "stderr",
     "output_type": "stream",
     "text": [
      "📦 Merging main + tail batches:  50%|████████████████████████                        | 153/305 [01:51<01:55,  1.31it/s]"
     ]
    },
    {
     "name": "stdout",
     "output_type": "stream",
     "text": [
      "🧩 Batch 153: Main=26200 | Tail= 400 | Total=26600\n"
     ]
    },
    {
     "name": "stderr",
     "output_type": "stream",
     "text": [
      "📦 Merging main + tail batches:  50%|████████████████████████▏                       | 154/305 [01:52<01:53,  1.33it/s]"
     ]
    },
    {
     "name": "stdout",
     "output_type": "stream",
     "text": [
      "🧩 Batch 154: Main=26200 | Tail= 400 | Total=26600\n"
     ]
    },
    {
     "name": "stderr",
     "output_type": "stream",
     "text": [
      "📦 Merging main + tail batches:  51%|████████████████████████▍                       | 155/305 [01:53<01:53,  1.32it/s]"
     ]
    },
    {
     "name": "stdout",
     "output_type": "stream",
     "text": [
      "🧩 Batch 155: Main=26200 | Tail= 400 | Total=26600\n"
     ]
    },
    {
     "name": "stderr",
     "output_type": "stream",
     "text": [
      "📦 Merging main + tail batches:  51%|████████████████████████▋                       | 157/305 [01:54<01:44,  1.42it/s]"
     ]
    },
    {
     "name": "stdout",
     "output_type": "stream",
     "text": [
      "🧩 Batch 156: Main=26200 | Tail= 400 | Total=26600\n",
      "🧩 Batch 157: Main=26200 | Tail= 400 | Total=26600\n"
     ]
    },
    {
     "name": "stderr",
     "output_type": "stream",
     "text": [
      "📦 Merging main + tail batches:  52%|████████████████████████▊                       | 158/305 [01:55<01:40,  1.47it/s]"
     ]
    },
    {
     "name": "stdout",
     "output_type": "stream",
     "text": [
      "🧩 Batch 158: Main=26200 | Tail= 400 | Total=26600\n"
     ]
    },
    {
     "name": "stderr",
     "output_type": "stream",
     "text": [
      "📦 Merging main + tail batches:  52%|█████████████████████████▏                      | 160/305 [01:56<01:43,  1.40it/s]"
     ]
    },
    {
     "name": "stdout",
     "output_type": "stream",
     "text": [
      "🧩 Batch 159: Main=26200 | Tail= 400 | Total=26600\n",
      "🧩 Batch 160: Main=26200 | Tail= 400 | Total=26600\n"
     ]
    },
    {
     "name": "stderr",
     "output_type": "stream",
     "text": [
      "📦 Merging main + tail batches:  53%|█████████████████████████▎                      | 161/305 [01:57<01:43,  1.39it/s]"
     ]
    },
    {
     "name": "stdout",
     "output_type": "stream",
     "text": [
      "🧩 Batch 161: Main=26200 | Tail= 400 | Total=26600\n"
     ]
    },
    {
     "name": "stderr",
     "output_type": "stream",
     "text": [
      "📦 Merging main + tail batches:  53%|█████████████████████████▋                      | 163/305 [01:59<01:45,  1.35it/s]"
     ]
    },
    {
     "name": "stdout",
     "output_type": "stream",
     "text": [
      "🧩 Batch 162: Main=26200 | Tail= 400 | Total=26600\n",
      "🧩 Batch 163: Main=26200 | Tail= 400 | Total=26600\n"
     ]
    },
    {
     "name": "stderr",
     "output_type": "stream",
     "text": [
      "📦 Merging main + tail batches:  54%|█████████████████████████▉                      | 165/305 [02:00<01:44,  1.33it/s]"
     ]
    },
    {
     "name": "stdout",
     "output_type": "stream",
     "text": [
      "🧩 Batch 164: Main=26200 | Tail= 400 | Total=26600\n",
      "🧩 Batch 165: Main=26200 | Tail= 400 | Total=26600\n"
     ]
    },
    {
     "name": "stderr",
     "output_type": "stream",
     "text": [
      "📦 Merging main + tail batches:  55%|██████████████████████████▎                     | 167/305 [02:02<01:42,  1.35it/s]"
     ]
    },
    {
     "name": "stdout",
     "output_type": "stream",
     "text": [
      "🧩 Batch 166: Main=26200 | Tail= 400 | Total=26600\n"
     ]
    },
    {
     "name": "stderr",
     "output_type": "stream",
     "text": [
      "📦 Merging main + tail batches:  55%|██████████████████████████▍                     | 168/305 [02:02<01:39,  1.38it/s]"
     ]
    },
    {
     "name": "stdout",
     "output_type": "stream",
     "text": [
      "🧩 Batch 167: Main=26200 | Tail= 400 | Total=26600\n",
      "🧩 Batch 168: Main=26200 | Tail= 400 | Total=26600\n"
     ]
    },
    {
     "name": "stderr",
     "output_type": "stream",
     "text": [
      "📦 Merging main + tail batches:  55%|██████████████████████████▌                     | 169/305 [02:03<01:35,  1.42it/s]"
     ]
    },
    {
     "name": "stdout",
     "output_type": "stream",
     "text": [
      "🧩 Batch 169: Main=26200 | Tail= 400 | Total=26600\n"
     ]
    },
    {
     "name": "stderr",
     "output_type": "stream",
     "text": [
      "📦 Merging main + tail batches:  56%|██████████████████████████▊                     | 170/305 [02:04<01:39,  1.36it/s]"
     ]
    },
    {
     "name": "stdout",
     "output_type": "stream",
     "text": [
      "🧩 Batch 170: Main=26200 | Tail= 400 | Total=26600\n"
     ]
    },
    {
     "name": "stderr",
     "output_type": "stream",
     "text": [
      "📦 Merging main + tail batches:  56%|██████████████████████████▉                     | 171/305 [02:05<01:42,  1.30it/s]"
     ]
    },
    {
     "name": "stdout",
     "output_type": "stream",
     "text": [
      "🧩 Batch 171: Main=26200 | Tail= 400 | Total=26600\n"
     ]
    },
    {
     "name": "stderr",
     "output_type": "stream",
     "text": [
      "📦 Merging main + tail batches:  56%|███████████████████████████                     | 172/305 [02:05<01:43,  1.28it/s]"
     ]
    },
    {
     "name": "stdout",
     "output_type": "stream",
     "text": [
      "🧩 Batch 172: Main=26200 | Tail= 400 | Total=26600\n"
     ]
    },
    {
     "name": "stderr",
     "output_type": "stream",
     "text": [
      "📦 Merging main + tail batches:  57%|███████████████████████████▏                    | 173/305 [02:06<01:44,  1.26it/s]"
     ]
    },
    {
     "name": "stdout",
     "output_type": "stream",
     "text": [
      "🧩 Batch 173: Main=26200 | Tail= 400 | Total=26600\n"
     ]
    },
    {
     "name": "stderr",
     "output_type": "stream",
     "text": [
      "📦 Merging main + tail batches:  57%|███████████████████████████▍                    | 174/305 [02:07<01:41,  1.29it/s]"
     ]
    },
    {
     "name": "stdout",
     "output_type": "stream",
     "text": [
      "🧩 Batch 174: Main=26200 | Tail= 400 | Total=26600\n"
     ]
    },
    {
     "name": "stderr",
     "output_type": "stream",
     "text": [
      "📦 Merging main + tail batches:  57%|███████████████████████████▌                    | 175/305 [02:08<01:36,  1.34it/s]"
     ]
    },
    {
     "name": "stdout",
     "output_type": "stream",
     "text": [
      "🧩 Batch 175: Main=26200 | Tail= 400 | Total=26600\n"
     ]
    },
    {
     "name": "stderr",
     "output_type": "stream",
     "text": [
      "📦 Merging main + tail batches:  58%|███████████████████████████▋                    | 176/305 [02:08<01:40,  1.29it/s]"
     ]
    },
    {
     "name": "stdout",
     "output_type": "stream",
     "text": [
      "🧩 Batch 176: Main=26200 | Tail= 400 | Total=26600\n"
     ]
    },
    {
     "name": "stderr",
     "output_type": "stream",
     "text": [
      "📦 Merging main + tail batches:  58%|███████████████████████████▊                    | 177/305 [02:09<01:39,  1.29it/s]"
     ]
    },
    {
     "name": "stdout",
     "output_type": "stream",
     "text": [
      "🧩 Batch 177: Main=26200 | Tail= 400 | Total=26600\n"
     ]
    },
    {
     "name": "stderr",
     "output_type": "stream",
     "text": [
      "📦 Merging main + tail batches:  59%|████████████████████████████▏                   | 179/305 [02:11<01:32,  1.37it/s]"
     ]
    },
    {
     "name": "stdout",
     "output_type": "stream",
     "text": [
      "🧩 Batch 178: Main=26200 | Tail= 400 | Total=26600\n"
     ]
    },
    {
     "name": "stderr",
     "output_type": "stream",
     "text": [
      "📦 Merging main + tail batches:  59%|████████████████████████████▎                   | 180/305 [02:11<01:29,  1.40it/s]"
     ]
    },
    {
     "name": "stdout",
     "output_type": "stream",
     "text": [
      "🧩 Batch 179: Main=26200 | Tail= 400 | Total=26600\n",
      "🧩 Batch 180: Main=26200 | Tail= 400 | Total=26600\n"
     ]
    },
    {
     "name": "stderr",
     "output_type": "stream",
     "text": [
      "📦 Merging main + tail batches:  59%|████████████████████████████▍                   | 181/305 [02:12<01:34,  1.32it/s]"
     ]
    },
    {
     "name": "stdout",
     "output_type": "stream",
     "text": [
      "🧩 Batch 181: Main=26200 | Tail= 400 | Total=26600\n"
     ]
    },
    {
     "name": "stderr",
     "output_type": "stream",
     "text": [
      "📦 Merging main + tail batches:  60%|████████████████████████████▋                   | 182/305 [02:13<01:51,  1.11it/s]"
     ]
    },
    {
     "name": "stdout",
     "output_type": "stream",
     "text": [
      "🧩 Batch 182: Main=26200 | Tail= 400 | Total=26600\n"
     ]
    },
    {
     "name": "stderr",
     "output_type": "stream",
     "text": [
      "📦 Merging main + tail batches:  60%|████████████████████████████▊                   | 183/305 [02:14<01:45,  1.16it/s]"
     ]
    },
    {
     "name": "stdout",
     "output_type": "stream",
     "text": [
      "🧩 Batch 183: Main=26200 | Tail= 400 | Total=26600\n"
     ]
    },
    {
     "name": "stderr",
     "output_type": "stream",
     "text": [
      "📦 Merging main + tail batches:  60%|████████████████████████████▉                   | 184/305 [02:15<01:43,  1.17it/s]"
     ]
    },
    {
     "name": "stdout",
     "output_type": "stream",
     "text": [
      "🧩 Batch 184: Main=26200 | Tail= 400 | Total=26600\n"
     ]
    },
    {
     "name": "stderr",
     "output_type": "stream",
     "text": [
      "📦 Merging main + tail batches:  61%|█████████████████████████████                   | 185/305 [02:16<01:36,  1.25it/s]"
     ]
    },
    {
     "name": "stdout",
     "output_type": "stream",
     "text": [
      "🧩 Batch 185: Main=26200 | Tail= 400 | Total=26600\n"
     ]
    },
    {
     "name": "stderr",
     "output_type": "stream",
     "text": [
      "📦 Merging main + tail batches:  61%|█████████████████████████████▎                  | 186/305 [02:17<01:38,  1.21it/s]"
     ]
    },
    {
     "name": "stdout",
     "output_type": "stream",
     "text": [
      "🧩 Batch 186: Main=26200 | Tail= 400 | Total=26600\n"
     ]
    },
    {
     "name": "stderr",
     "output_type": "stream",
     "text": [
      "📦 Merging main + tail batches:  61%|█████████████████████████████▍                  | 187/305 [02:17<01:36,  1.22it/s]"
     ]
    },
    {
     "name": "stdout",
     "output_type": "stream",
     "text": [
      "🧩 Batch 187: Main=26200 | Tail= 400 | Total=26600\n"
     ]
    },
    {
     "name": "stderr",
     "output_type": "stream",
     "text": [
      "📦 Merging main + tail batches:  62%|█████████████████████████████▌                  | 188/305 [02:18<01:31,  1.28it/s]"
     ]
    },
    {
     "name": "stdout",
     "output_type": "stream",
     "text": [
      "🧩 Batch 188: Main=26200 | Tail= 400 | Total=26600\n"
     ]
    },
    {
     "name": "stderr",
     "output_type": "stream",
     "text": [
      "📦 Merging main + tail batches:  62%|█████████████████████████████▋                  | 189/305 [02:19<01:30,  1.28it/s]"
     ]
    },
    {
     "name": "stdout",
     "output_type": "stream",
     "text": [
      "🧩 Batch 189: Main=26200 | Tail= 400 | Total=26600\n"
     ]
    },
    {
     "name": "stderr",
     "output_type": "stream",
     "text": [
      "📦 Merging main + tail batches:  62%|█████████████████████████████▉                  | 190/305 [02:20<01:29,  1.29it/s]"
     ]
    },
    {
     "name": "stdout",
     "output_type": "stream",
     "text": [
      "🧩 Batch 190: Main=26200 | Tail= 400 | Total=26600\n"
     ]
    },
    {
     "name": "stderr",
     "output_type": "stream",
     "text": [
      "📦 Merging main + tail batches:  63%|██████████████████████████████                  | 191/305 [02:20<01:27,  1.30it/s]"
     ]
    },
    {
     "name": "stdout",
     "output_type": "stream",
     "text": [
      "🧩 Batch 191: Main=26200 | Tail= 400 | Total=26600\n"
     ]
    },
    {
     "name": "stderr",
     "output_type": "stream",
     "text": [
      "📦 Merging main + tail batches:  63%|██████████████████████████████▏                 | 192/305 [02:21<01:32,  1.23it/s]"
     ]
    },
    {
     "name": "stdout",
     "output_type": "stream",
     "text": [
      "🧩 Batch 192: Main=26200 | Tail= 400 | Total=26600\n"
     ]
    },
    {
     "name": "stderr",
     "output_type": "stream",
     "text": [
      "📦 Merging main + tail batches:  63%|██████████████████████████████▎                 | 193/305 [02:22<01:26,  1.30it/s]"
     ]
    },
    {
     "name": "stdout",
     "output_type": "stream",
     "text": [
      "🧩 Batch 193: Main=26200 | Tail= 400 | Total=26600\n"
     ]
    },
    {
     "name": "stderr",
     "output_type": "stream",
     "text": [
      "📦 Merging main + tail batches:  64%|██████████████████████████████▌                 | 194/305 [02:23<01:22,  1.35it/s]"
     ]
    },
    {
     "name": "stdout",
     "output_type": "stream",
     "text": [
      "🧩 Batch 194: Main=26200 | Tail= 400 | Total=26600\n"
     ]
    },
    {
     "name": "stderr",
     "output_type": "stream",
     "text": [
      "📦 Merging main + tail batches:  64%|██████████████████████████████▋                 | 195/305 [02:23<01:21,  1.34it/s]"
     ]
    },
    {
     "name": "stdout",
     "output_type": "stream",
     "text": [
      "🧩 Batch 195: Main=26200 | Tail= 400 | Total=26600\n"
     ]
    },
    {
     "name": "stderr",
     "output_type": "stream",
     "text": [
      "📦 Merging main + tail batches:  64%|██████████████████████████████▊                 | 196/305 [02:24<01:22,  1.32it/s]"
     ]
    },
    {
     "name": "stdout",
     "output_type": "stream",
     "text": [
      "🧩 Batch 196: Main=26200 | Tail= 400 | Total=26600\n"
     ]
    },
    {
     "name": "stderr",
     "output_type": "stream",
     "text": [
      "📦 Merging main + tail batches:  65%|███████████████████████████████▏                | 198/305 [02:26<01:20,  1.32it/s]"
     ]
    },
    {
     "name": "stdout",
     "output_type": "stream",
     "text": [
      "🧩 Batch 197: Main=26200 | Tail= 400 | Total=26600\n",
      "🧩 Batch 198: Main=26200 | Tail= 400 | Total=26600\n"
     ]
    },
    {
     "name": "stderr",
     "output_type": "stream",
     "text": [
      "📦 Merging main + tail batches:  65%|███████████████████████████████▎                | 199/305 [02:27<01:26,  1.23it/s]"
     ]
    },
    {
     "name": "stdout",
     "output_type": "stream",
     "text": [
      "🧩 Batch 199: Main=26200 | Tail= 400 | Total=26600\n"
     ]
    },
    {
     "name": "stderr",
     "output_type": "stream",
     "text": [
      "📦 Merging main + tail batches:  66%|███████████████████████████████▍                | 200/305 [02:27<01:25,  1.23it/s]"
     ]
    },
    {
     "name": "stdout",
     "output_type": "stream",
     "text": [
      "🧩 Batch 200: Main=26200 | Tail= 400 | Total=26600\n"
     ]
    },
    {
     "name": "stderr",
     "output_type": "stream",
     "text": [
      "📦 Merging main + tail batches:  66%|███████████████████████████████▋                | 201/305 [02:28<01:23,  1.25it/s]"
     ]
    },
    {
     "name": "stdout",
     "output_type": "stream",
     "text": [
      "🧩 Batch 201: Main=26200 | Tail= 400 | Total=26600\n"
     ]
    },
    {
     "name": "stderr",
     "output_type": "stream",
     "text": [
      "📦 Merging main + tail batches:  66%|███████████████████████████████▊                | 202/305 [02:29<01:22,  1.25it/s]"
     ]
    },
    {
     "name": "stdout",
     "output_type": "stream",
     "text": [
      "🧩 Batch 202: Main=26200 | Tail= 400 | Total=26600\n"
     ]
    },
    {
     "name": "stderr",
     "output_type": "stream",
     "text": [
      "📦 Merging main + tail batches:  67%|███████████████████████████████▉                | 203/305 [02:30<01:24,  1.21it/s]"
     ]
    },
    {
     "name": "stdout",
     "output_type": "stream",
     "text": [
      "🧩 Batch 203: Main=26200 | Tail= 400 | Total=26600\n"
     ]
    },
    {
     "name": "stderr",
     "output_type": "stream",
     "text": [
      "📦 Merging main + tail batches:  67%|████████████████████████████████                | 204/305 [02:31<01:21,  1.24it/s]"
     ]
    },
    {
     "name": "stdout",
     "output_type": "stream",
     "text": [
      "🧩 Batch 204: Main=26200 | Tail= 400 | Total=26600\n"
     ]
    },
    {
     "name": "stderr",
     "output_type": "stream",
     "text": [
      "📦 Merging main + tail batches:  67%|████████████████████████████████▎               | 205/305 [02:32<01:24,  1.18it/s]"
     ]
    },
    {
     "name": "stdout",
     "output_type": "stream",
     "text": [
      "🧩 Batch 205: Main=26200 | Tail= 400 | Total=26600\n"
     ]
    },
    {
     "name": "stderr",
     "output_type": "stream",
     "text": [
      "📦 Merging main + tail batches:  68%|████████████████████████████████▍               | 206/305 [02:32<01:21,  1.21it/s]"
     ]
    },
    {
     "name": "stdout",
     "output_type": "stream",
     "text": [
      "🧩 Batch 206: Main=26200 | Tail= 400 | Total=26600\n"
     ]
    },
    {
     "name": "stderr",
     "output_type": "stream",
     "text": [
      "📦 Merging main + tail batches:  68%|████████████████████████████████▌               | 207/305 [02:33<01:17,  1.26it/s]"
     ]
    },
    {
     "name": "stdout",
     "output_type": "stream",
     "text": [
      "🧩 Batch 207: Main=26200 | Tail= 400 | Total=26600\n"
     ]
    },
    {
     "name": "stderr",
     "output_type": "stream",
     "text": [
      "📦 Merging main + tail batches:  68%|████████████████████████████████▋               | 208/305 [02:34<01:12,  1.33it/s]"
     ]
    },
    {
     "name": "stdout",
     "output_type": "stream",
     "text": [
      "🧩 Batch 208: Main=26200 | Tail= 400 | Total=26600\n"
     ]
    },
    {
     "name": "stderr",
     "output_type": "stream",
     "text": [
      "📦 Merging main + tail batches:  69%|█████████████████████████████████               | 210/305 [02:35<01:07,  1.41it/s]"
     ]
    },
    {
     "name": "stdout",
     "output_type": "stream",
     "text": [
      "🧩 Batch 209: Main=26200 | Tail= 400 | Total=26600\n",
      "🧩 Batch 210: Main=26200 | Tail= 400 | Total=26600\n"
     ]
    },
    {
     "name": "stderr",
     "output_type": "stream",
     "text": [
      "📦 Merging main + tail batches:  69%|█████████████████████████████████▏              | 211/305 [02:36<01:08,  1.38it/s]"
     ]
    },
    {
     "name": "stdout",
     "output_type": "stream",
     "text": [
      "🧩 Batch 211: Main=26200 | Tail= 400 | Total=26600\n"
     ]
    },
    {
     "name": "stderr",
     "output_type": "stream",
     "text": [
      "📦 Merging main + tail batches:  70%|█████████████████████████████████▎              | 212/305 [02:36<01:05,  1.41it/s]"
     ]
    },
    {
     "name": "stdout",
     "output_type": "stream",
     "text": [
      "🧩 Batch 212: Main=26200 | Tail= 400 | Total=26600\n"
     ]
    },
    {
     "name": "stderr",
     "output_type": "stream",
     "text": [
      "📦 Merging main + tail batches:  70%|█████████████████████████████████▌              | 213/305 [02:37<01:07,  1.36it/s]"
     ]
    },
    {
     "name": "stdout",
     "output_type": "stream",
     "text": [
      "🧩 Batch 213: Main=26200 | Tail= 400 | Total=26600\n"
     ]
    },
    {
     "name": "stderr",
     "output_type": "stream",
     "text": [
      "📦 Merging main + tail batches:  70%|█████████████████████████████████▋              | 214/305 [02:38<01:10,  1.29it/s]"
     ]
    },
    {
     "name": "stdout",
     "output_type": "stream",
     "text": [
      "🧩 Batch 214: Main=26200 | Tail= 400 | Total=26600\n"
     ]
    },
    {
     "name": "stderr",
     "output_type": "stream",
     "text": [
      "📦 Merging main + tail batches:  71%|█████████████████████████████████▉              | 216/305 [02:40<01:05,  1.35it/s]"
     ]
    },
    {
     "name": "stdout",
     "output_type": "stream",
     "text": [
      "🧩 Batch 215: Main=26200 | Tail= 400 | Total=26600\n",
      "🧩 Batch 216: Main=26200 | Tail= 400 | Total=26600\n"
     ]
    },
    {
     "name": "stderr",
     "output_type": "stream",
     "text": [
      "📦 Merging main + tail batches:  71%|██████████████████████████████████▏             | 217/305 [02:40<01:09,  1.27it/s]"
     ]
    },
    {
     "name": "stdout",
     "output_type": "stream",
     "text": [
      "🧩 Batch 217: Main=26200 | Tail= 400 | Total=26600\n"
     ]
    },
    {
     "name": "stderr",
     "output_type": "stream",
     "text": [
      "📦 Merging main + tail batches:  71%|██████████████████████████████████▎             | 218/305 [02:41<01:05,  1.32it/s]"
     ]
    },
    {
     "name": "stdout",
     "output_type": "stream",
     "text": [
      "🧩 Batch 218: Main=26200 | Tail= 400 | Total=26600\n"
     ]
    },
    {
     "name": "stderr",
     "output_type": "stream",
     "text": [
      "📦 Merging main + tail batches:  72%|██████████████████████████████████▍             | 219/305 [02:42<01:05,  1.31it/s]"
     ]
    },
    {
     "name": "stdout",
     "output_type": "stream",
     "text": [
      "🧩 Batch 219: Main=26200 | Tail= 400 | Total=26600\n"
     ]
    },
    {
     "name": "stderr",
     "output_type": "stream",
     "text": [
      "📦 Merging main + tail batches:  72%|██████████████████████████████████▌             | 220/305 [02:43<01:02,  1.35it/s]"
     ]
    },
    {
     "name": "stdout",
     "output_type": "stream",
     "text": [
      "🧩 Batch 220: Main=26200 | Tail= 400 | Total=26600\n"
     ]
    },
    {
     "name": "stderr",
     "output_type": "stream",
     "text": [
      "📦 Merging main + tail batches:  73%|██████████████████████████████████▉             | 222/305 [02:44<01:00,  1.38it/s]"
     ]
    },
    {
     "name": "stdout",
     "output_type": "stream",
     "text": [
      "🧩 Batch 221: Main=26200 | Tail= 400 | Total=26600\n",
      "🧩 Batch 222: Main=26200 | Tail= 400 | Total=26600\n"
     ]
    },
    {
     "name": "stderr",
     "output_type": "stream",
     "text": [
      "📦 Merging main + tail batches:  73%|███████████████████████████████████             | 223/305 [02:45<00:59,  1.38it/s]"
     ]
    },
    {
     "name": "stdout",
     "output_type": "stream",
     "text": [
      "🧩 Batch 223: Main=26200 | Tail= 400 | Total=26600\n"
     ]
    },
    {
     "name": "stderr",
     "output_type": "stream",
     "text": [
      "📦 Merging main + tail batches:  73%|███████████████████████████████████▎            | 224/305 [02:45<00:57,  1.40it/s]"
     ]
    },
    {
     "name": "stdout",
     "output_type": "stream",
     "text": [
      "🧩 Batch 224: Main=26200 | Tail= 400 | Total=26600\n"
     ]
    },
    {
     "name": "stderr",
     "output_type": "stream",
     "text": [
      "📦 Merging main + tail batches:  74%|███████████████████████████████████▍            | 225/305 [02:46<00:58,  1.37it/s]"
     ]
    },
    {
     "name": "stdout",
     "output_type": "stream",
     "text": [
      "🧩 Batch 225: Main=26200 | Tail= 400 | Total=26600\n"
     ]
    },
    {
     "name": "stderr",
     "output_type": "stream",
     "text": [
      "📦 Merging main + tail batches:  74%|███████████████████████████████████▌            | 226/305 [02:47<00:58,  1.36it/s]"
     ]
    },
    {
     "name": "stdout",
     "output_type": "stream",
     "text": [
      "🧩 Batch 226: Main=26200 | Tail= 400 | Total=26600\n"
     ]
    },
    {
     "name": "stderr",
     "output_type": "stream",
     "text": [
      "📦 Merging main + tail batches:  74%|███████████████████████████████████▋            | 227/305 [02:48<00:59,  1.31it/s]"
     ]
    },
    {
     "name": "stdout",
     "output_type": "stream",
     "text": [
      "🧩 Batch 227: Main=26200 | Tail= 400 | Total=26600\n"
     ]
    },
    {
     "name": "stderr",
     "output_type": "stream",
     "text": [
      "📦 Merging main + tail batches:  75%|███████████████████████████████████▉            | 228/305 [02:49<00:57,  1.34it/s]"
     ]
    },
    {
     "name": "stdout",
     "output_type": "stream",
     "text": [
      "🧩 Batch 228: Main=26200 | Tail= 400 | Total=26600\n"
     ]
    },
    {
     "name": "stderr",
     "output_type": "stream",
     "text": [
      "📦 Merging main + tail batches:  75%|████████████████████████████████████            | 229/305 [02:49<00:55,  1.36it/s]"
     ]
    },
    {
     "name": "stdout",
     "output_type": "stream",
     "text": [
      "🧩 Batch 229: Main=26200 | Tail= 400 | Total=26600\n"
     ]
    },
    {
     "name": "stderr",
     "output_type": "stream",
     "text": [
      "📦 Merging main + tail batches:  75%|████████████████████████████████████▏           | 230/305 [02:50<00:55,  1.35it/s]"
     ]
    },
    {
     "name": "stdout",
     "output_type": "stream",
     "text": [
      "🧩 Batch 230: Main=26200 | Tail= 400 | Total=26600\n"
     ]
    },
    {
     "name": "stderr",
     "output_type": "stream",
     "text": [
      "📦 Merging main + tail batches:  76%|████████████████████████████████████▎           | 231/305 [02:51<00:54,  1.36it/s]"
     ]
    },
    {
     "name": "stdout",
     "output_type": "stream",
     "text": [
      "🧩 Batch 231: Main=26200 | Tail= 400 | Total=26600\n"
     ]
    },
    {
     "name": "stderr",
     "output_type": "stream",
     "text": [
      "📦 Merging main + tail batches:  76%|████████████████████████████████████▌           | 232/305 [02:51<00:53,  1.35it/s]"
     ]
    },
    {
     "name": "stdout",
     "output_type": "stream",
     "text": [
      "🧩 Batch 232: Main=26200 | Tail= 400 | Total=26600\n"
     ]
    },
    {
     "name": "stderr",
     "output_type": "stream",
     "text": [
      "📦 Merging main + tail batches:  76%|████████████████████████████████████▋           | 233/305 [02:52<00:52,  1.36it/s]"
     ]
    },
    {
     "name": "stdout",
     "output_type": "stream",
     "text": [
      "🧩 Batch 233: Main=26200 | Tail= 400 | Total=26600\n"
     ]
    },
    {
     "name": "stderr",
     "output_type": "stream",
     "text": [
      "📦 Merging main + tail batches:  77%|████████████████████████████████████▊           | 234/305 [02:53<00:51,  1.37it/s]"
     ]
    },
    {
     "name": "stdout",
     "output_type": "stream",
     "text": [
      "🧩 Batch 234: Main=26200 | Tail= 400 | Total=26600\n"
     ]
    },
    {
     "name": "stderr",
     "output_type": "stream",
     "text": [
      "📦 Merging main + tail batches:  77%|█████████████████████████████████████▏          | 236/305 [02:54<00:48,  1.41it/s]"
     ]
    },
    {
     "name": "stdout",
     "output_type": "stream",
     "text": [
      "🧩 Batch 235: Main=26200 | Tail= 400 | Total=26600\n",
      "🧩 Batch 236: Main=26200 | Tail= 400 | Total=26600\n"
     ]
    },
    {
     "name": "stderr",
     "output_type": "stream",
     "text": [
      "📦 Merging main + tail batches:  78%|█████████████████████████████████████▎          | 237/305 [02:55<00:48,  1.40it/s]"
     ]
    },
    {
     "name": "stdout",
     "output_type": "stream",
     "text": [
      "🧩 Batch 237: Main=26200 | Tail= 400 | Total=26600\n"
     ]
    },
    {
     "name": "stderr",
     "output_type": "stream",
     "text": [
      "📦 Merging main + tail batches:  78%|█████████████████████████████████████▍          | 238/305 [02:56<00:47,  1.40it/s]"
     ]
    },
    {
     "name": "stdout",
     "output_type": "stream",
     "text": [
      "🧩 Batch 238: Main=26200 | Tail= 400 | Total=26600\n"
     ]
    },
    {
     "name": "stderr",
     "output_type": "stream",
     "text": [
      "📦 Merging main + tail batches:  78%|█████████████████████████████████████▌          | 239/305 [02:57<00:48,  1.35it/s]"
     ]
    },
    {
     "name": "stdout",
     "output_type": "stream",
     "text": [
      "🧩 Batch 239: Main=26200 | Tail= 400 | Total=26600\n"
     ]
    },
    {
     "name": "stderr",
     "output_type": "stream",
     "text": [
      "📦 Merging main + tail batches:  79%|█████████████████████████████████████▊          | 240/305 [02:57<00:49,  1.31it/s]"
     ]
    },
    {
     "name": "stdout",
     "output_type": "stream",
     "text": [
      "🧩 Batch 240: Main=26200 | Tail= 400 | Total=26600\n"
     ]
    },
    {
     "name": "stderr",
     "output_type": "stream",
     "text": [
      "📦 Merging main + tail batches:  79%|█████████████████████████████████████▉          | 241/305 [02:58<00:49,  1.29it/s]"
     ]
    },
    {
     "name": "stdout",
     "output_type": "stream",
     "text": [
      "🧩 Batch 241: Main=26200 | Tail= 400 | Total=26600\n"
     ]
    },
    {
     "name": "stderr",
     "output_type": "stream",
     "text": [
      "📦 Merging main + tail batches:  79%|██████████████████████████████████████          | 242/305 [02:59<00:46,  1.36it/s]"
     ]
    },
    {
     "name": "stdout",
     "output_type": "stream",
     "text": [
      "🧩 Batch 242: Main=26200 | Tail= 400 | Total=26600\n"
     ]
    },
    {
     "name": "stderr",
     "output_type": "stream",
     "text": [
      "📦 Merging main + tail batches:  80%|██████████████████████████████████████▍         | 244/305 [03:00<00:44,  1.38it/s]"
     ]
    },
    {
     "name": "stdout",
     "output_type": "stream",
     "text": [
      "🧩 Batch 243: Main=26200 | Tail= 400 | Total=26600\n",
      "🧩 Batch 244: Main=26200 | Tail= 400 | Total=26600\n"
     ]
    },
    {
     "name": "stderr",
     "output_type": "stream",
     "text": [
      "📦 Merging main + tail batches:  80%|██████████████████████████████████████▌         | 245/305 [03:01<00:41,  1.45it/s]"
     ]
    },
    {
     "name": "stdout",
     "output_type": "stream",
     "text": [
      "🧩 Batch 245: Main=26200 | Tail= 400 | Total=26600\n"
     ]
    },
    {
     "name": "stderr",
     "output_type": "stream",
     "text": [
      "📦 Merging main + tail batches:  81%|██████████████████████████████████████▊         | 247/305 [03:02<00:41,  1.41it/s]"
     ]
    },
    {
     "name": "stdout",
     "output_type": "stream",
     "text": [
      "🧩 Batch 246: Main=26200 | Tail= 400 | Total=26600\n",
      "🧩 Batch 247: Main=26200 | Tail= 400 | Total=26600\n"
     ]
    },
    {
     "name": "stderr",
     "output_type": "stream",
     "text": [
      "📦 Merging main + tail batches:  81%|███████████████████████████████████████         | 248/305 [03:04<00:50,  1.12it/s]"
     ]
    },
    {
     "name": "stdout",
     "output_type": "stream",
     "text": [
      "🧩 Batch 248: Main=26200 | Tail= 400 | Total=26600\n"
     ]
    },
    {
     "name": "stderr",
     "output_type": "stream",
     "text": [
      "📦 Merging main + tail batches:  82%|███████████████████████████████████████▏        | 249/305 [03:04<00:46,  1.20it/s]"
     ]
    },
    {
     "name": "stdout",
     "output_type": "stream",
     "text": [
      "🧩 Batch 249: Main=26200 | Tail= 400 | Total=26600\n"
     ]
    },
    {
     "name": "stderr",
     "output_type": "stream",
     "text": [
      "📦 Merging main + tail batches:  82%|███████████████████████████████████████▎        | 250/305 [03:05<00:46,  1.19it/s]"
     ]
    },
    {
     "name": "stdout",
     "output_type": "stream",
     "text": [
      "🧩 Batch 250: Main=26200 | Tail= 400 | Total=26600\n"
     ]
    },
    {
     "name": "stderr",
     "output_type": "stream",
     "text": [
      "📦 Merging main + tail batches:  82%|███████████████████████████████████████▌        | 251/305 [03:06<00:43,  1.26it/s]"
     ]
    },
    {
     "name": "stdout",
     "output_type": "stream",
     "text": [
      "🧩 Batch 251: Main=26200 | Tail= 400 | Total=26600\n"
     ]
    },
    {
     "name": "stderr",
     "output_type": "stream",
     "text": [
      "📦 Merging main + tail batches:  83%|███████████████████████████████████████▊        | 253/305 [03:07<00:39,  1.30it/s]"
     ]
    },
    {
     "name": "stdout",
     "output_type": "stream",
     "text": [
      "🧩 Batch 252: Main=26200 | Tail= 400 | Total=26600\n",
      "🧩 Batch 253: Main=26200 | Tail= 400 | Total=26600\n"
     ]
    },
    {
     "name": "stderr",
     "output_type": "stream",
     "text": [
      "📦 Merging main + tail batches:  83%|███████████████████████████████████████▉        | 254/305 [03:08<00:40,  1.27it/s]"
     ]
    },
    {
     "name": "stdout",
     "output_type": "stream",
     "text": [
      "🧩 Batch 254: Main=26200 | Tail= 400 | Total=26600\n"
     ]
    },
    {
     "name": "stderr",
     "output_type": "stream",
     "text": [
      "📦 Merging main + tail batches:  84%|████████████████████████████████████████▏       | 255/305 [03:09<00:39,  1.28it/s]"
     ]
    },
    {
     "name": "stdout",
     "output_type": "stream",
     "text": [
      "🧩 Batch 255: Main=26200 | Tail= 400 | Total=26600\n"
     ]
    },
    {
     "name": "stderr",
     "output_type": "stream",
     "text": [
      "📦 Merging main + tail batches:  84%|████████████████████████████████████████▎       | 256/305 [03:10<00:41,  1.19it/s]"
     ]
    },
    {
     "name": "stdout",
     "output_type": "stream",
     "text": [
      "🧩 Batch 256: Main=26200 | Tail= 400 | Total=26600\n"
     ]
    },
    {
     "name": "stderr",
     "output_type": "stream",
     "text": [
      "📦 Merging main + tail batches:  85%|████████████████████████████████████████▌       | 258/305 [03:11<00:37,  1.27it/s]"
     ]
    },
    {
     "name": "stdout",
     "output_type": "stream",
     "text": [
      "🧩 Batch 257: Main=26200 | Tail= 400 | Total=26600\n"
     ]
    },
    {
     "name": "stderr",
     "output_type": "stream",
     "text": [
      "📦 Merging main + tail batches:  85%|████████████████████████████████████████▊       | 259/305 [03:12<00:34,  1.33it/s]"
     ]
    },
    {
     "name": "stdout",
     "output_type": "stream",
     "text": [
      "🧩 Batch 258: Main=26200 | Tail= 400 | Total=26600\n",
      "🧩 Batch 259: Main=26200 | Tail= 400 | Total=26600\n"
     ]
    },
    {
     "name": "stderr",
     "output_type": "stream",
     "text": [
      "📦 Merging main + tail batches:  85%|████████████████████████████████████████▉       | 260/305 [03:13<00:33,  1.33it/s]"
     ]
    },
    {
     "name": "stdout",
     "output_type": "stream",
     "text": [
      "🧩 Batch 260: Main=26200 | Tail= 400 | Total=26600\n"
     ]
    },
    {
     "name": "stderr",
     "output_type": "stream",
     "text": [
      "📦 Merging main + tail batches:  86%|█████████████████████████████████████████       | 261/305 [03:14<00:34,  1.27it/s]"
     ]
    },
    {
     "name": "stdout",
     "output_type": "stream",
     "text": [
      "🧩 Batch 261: Main=26200 | Tail= 400 | Total=26600\n"
     ]
    },
    {
     "name": "stderr",
     "output_type": "stream",
     "text": [
      "📦 Merging main + tail batches:  86%|█████████████████████████████████████████▏      | 262/305 [03:15<00:34,  1.26it/s]"
     ]
    },
    {
     "name": "stdout",
     "output_type": "stream",
     "text": [
      "🧩 Batch 262: Main=26200 | Tail= 400 | Total=26600\n"
     ]
    },
    {
     "name": "stderr",
     "output_type": "stream",
     "text": [
      "📦 Merging main + tail batches:  86%|█████████████████████████████████████████▍      | 263/305 [03:15<00:33,  1.24it/s]"
     ]
    },
    {
     "name": "stdout",
     "output_type": "stream",
     "text": [
      "🧩 Batch 263: Main=26200 | Tail= 400 | Total=26600\n"
     ]
    },
    {
     "name": "stderr",
     "output_type": "stream",
     "text": [
      "📦 Merging main + tail batches:  87%|█████████████████████████████████████████▋      | 265/305 [03:17<00:30,  1.30it/s]"
     ]
    },
    {
     "name": "stdout",
     "output_type": "stream",
     "text": [
      "🧩 Batch 264: Main=26200 | Tail= 400 | Total=26600\n",
      "🧩 Batch 265: Main=26200 | Tail= 400 | Total=26600\n"
     ]
    },
    {
     "name": "stderr",
     "output_type": "stream",
     "text": [
      "📦 Merging main + tail batches:  87%|█████████████████████████████████████████▊      | 266/305 [03:18<00:30,  1.29it/s]"
     ]
    },
    {
     "name": "stdout",
     "output_type": "stream",
     "text": [
      "🧩 Batch 266: Main=26200 | Tail= 400 | Total=26600\n"
     ]
    },
    {
     "name": "stderr",
     "output_type": "stream",
     "text": [
      "📦 Merging main + tail batches:  88%|██████████████████████████████████████████      | 267/305 [03:18<00:30,  1.25it/s]"
     ]
    },
    {
     "name": "stdout",
     "output_type": "stream",
     "text": [
      "🧩 Batch 267: Main=26200 | Tail= 400 | Total=26600\n"
     ]
    },
    {
     "name": "stderr",
     "output_type": "stream",
     "text": [
      "📦 Merging main + tail batches:  88%|██████████████████████████████████████████▏     | 268/305 [03:19<00:30,  1.22it/s]"
     ]
    },
    {
     "name": "stdout",
     "output_type": "stream",
     "text": [
      "🧩 Batch 268: Main=26200 | Tail= 400 | Total=26600\n"
     ]
    },
    {
     "name": "stderr",
     "output_type": "stream",
     "text": [
      "📦 Merging main + tail batches:  88%|██████████████████████████████████████████▎     | 269/305 [03:20<00:28,  1.27it/s]"
     ]
    },
    {
     "name": "stdout",
     "output_type": "stream",
     "text": [
      "🧩 Batch 269: Main=26200 | Tail= 400 | Total=26600\n"
     ]
    },
    {
     "name": "stderr",
     "output_type": "stream",
     "text": [
      "📦 Merging main + tail batches:  89%|██████████████████████████████████████████▍     | 270/305 [03:21<00:27,  1.29it/s]"
     ]
    },
    {
     "name": "stdout",
     "output_type": "stream",
     "text": [
      "🧩 Batch 270: Main=26200 | Tail= 400 | Total=26600\n"
     ]
    },
    {
     "name": "stderr",
     "output_type": "stream",
     "text": [
      "📦 Merging main + tail batches:  89%|██████████████████████████████████████████▋     | 271/305 [03:22<00:27,  1.25it/s]"
     ]
    },
    {
     "name": "stdout",
     "output_type": "stream",
     "text": [
      "🧩 Batch 271: Main=26200 | Tail= 400 | Total=26600\n"
     ]
    },
    {
     "name": "stderr",
     "output_type": "stream",
     "text": [
      "📦 Merging main + tail batches:  89%|██████████████████████████████████████████▊     | 272/305 [03:22<00:26,  1.27it/s]"
     ]
    },
    {
     "name": "stdout",
     "output_type": "stream",
     "text": [
      "🧩 Batch 272: Main=26200 | Tail= 400 | Total=26600\n"
     ]
    },
    {
     "name": "stderr",
     "output_type": "stream",
     "text": [
      "📦 Merging main + tail batches:  90%|██████████████████████████████████████████▉     | 273/305 [03:23<00:25,  1.24it/s]"
     ]
    },
    {
     "name": "stdout",
     "output_type": "stream",
     "text": [
      "🧩 Batch 273: Main=26200 | Tail= 400 | Total=26600\n"
     ]
    },
    {
     "name": "stderr",
     "output_type": "stream",
     "text": [
      "📦 Merging main + tail batches:  90%|███████████████████████████████████████████     | 274/305 [03:24<00:24,  1.29it/s]"
     ]
    },
    {
     "name": "stdout",
     "output_type": "stream",
     "text": [
      "🧩 Batch 274: Main=26200 | Tail= 400 | Total=26600\n"
     ]
    },
    {
     "name": "stderr",
     "output_type": "stream",
     "text": [
      "📦 Merging main + tail batches:  90%|███████████████████████████████████████████▎    | 275/305 [03:25<00:23,  1.29it/s]"
     ]
    },
    {
     "name": "stdout",
     "output_type": "stream",
     "text": [
      "🧩 Batch 275: Main=26200 | Tail= 400 | Total=26600\n"
     ]
    },
    {
     "name": "stderr",
     "output_type": "stream",
     "text": [
      "📦 Merging main + tail batches:  90%|███████████████████████████████████████████▍    | 276/305 [03:26<00:23,  1.26it/s]"
     ]
    },
    {
     "name": "stdout",
     "output_type": "stream",
     "text": [
      "🧩 Batch 276: Main=26200 | Tail= 400 | Total=26600\n"
     ]
    },
    {
     "name": "stderr",
     "output_type": "stream",
     "text": [
      "📦 Merging main + tail batches:  91%|███████████████████████████████████████████▊    | 278/305 [03:27<00:20,  1.31it/s]"
     ]
    },
    {
     "name": "stdout",
     "output_type": "stream",
     "text": [
      "🧩 Batch 277: Main=26200 | Tail= 400 | Total=26600\n",
      "🧩 Batch 278: Main=26200 | Tail= 400 | Total=26600\n"
     ]
    },
    {
     "name": "stderr",
     "output_type": "stream",
     "text": [
      "📦 Merging main + tail batches:  92%|████████████████████████████████████████████    | 280/305 [03:28<00:18,  1.38it/s]"
     ]
    },
    {
     "name": "stdout",
     "output_type": "stream",
     "text": [
      "🧩 Batch 279: Main=26200 | Tail= 400 | Total=26600\n",
      "🧩 Batch 280: Main=26200 | Tail= 400 | Total=26600\n"
     ]
    },
    {
     "name": "stderr",
     "output_type": "stream",
     "text": [
      "📦 Merging main + tail batches:  92%|████████████████████████████████████████████▏   | 281/305 [03:29<00:18,  1.33it/s]"
     ]
    },
    {
     "name": "stdout",
     "output_type": "stream",
     "text": [
      "🧩 Batch 281: Main=26200 | Tail= 400 | Total=26600\n"
     ]
    },
    {
     "name": "stderr",
     "output_type": "stream",
     "text": [
      "📦 Merging main + tail batches:  92%|████████████████████████████████████████████▍   | 282/305 [03:30<00:17,  1.35it/s]"
     ]
    },
    {
     "name": "stdout",
     "output_type": "stream",
     "text": [
      "🧩 Batch 282: Main=26200 | Tail= 400 | Total=26600\n"
     ]
    },
    {
     "name": "stderr",
     "output_type": "stream",
     "text": [
      "📦 Merging main + tail batches:  93%|████████████████████████████████████████████▌   | 283/305 [03:31<00:16,  1.34it/s]"
     ]
    },
    {
     "name": "stdout",
     "output_type": "stream",
     "text": [
      "🧩 Batch 283: Main=26200 | Tail= 400 | Total=26600\n"
     ]
    },
    {
     "name": "stderr",
     "output_type": "stream",
     "text": [
      "📦 Merging main + tail batches:  93%|████████████████████████████████████████████▋   | 284/305 [03:31<00:15,  1.36it/s]"
     ]
    },
    {
     "name": "stdout",
     "output_type": "stream",
     "text": [
      "🧩 Batch 284: Main=26200 | Tail= 400 | Total=26600\n"
     ]
    },
    {
     "name": "stderr",
     "output_type": "stream",
     "text": [
      "📦 Merging main + tail batches:  93%|████████████████████████████████████████████▊   | 285/305 [03:32<00:14,  1.34it/s]"
     ]
    },
    {
     "name": "stdout",
     "output_type": "stream",
     "text": [
      "🧩 Batch 285: Main=26200 | Tail= 400 | Total=26600\n"
     ]
    },
    {
     "name": "stderr",
     "output_type": "stream",
     "text": [
      "📦 Merging main + tail batches:  94%|█████████████████████████████████████████████   | 286/305 [03:34<00:18,  1.06it/s]"
     ]
    },
    {
     "name": "stdout",
     "output_type": "stream",
     "text": [
      "🧩 Batch 286: Main=26200 | Tail= 400 | Total=26600\n"
     ]
    },
    {
     "name": "stderr",
     "output_type": "stream",
     "text": [
      "📦 Merging main + tail batches:  94%|█████████████████████████████████████████████▎  | 288/305 [03:35<00:14,  1.19it/s]"
     ]
    },
    {
     "name": "stdout",
     "output_type": "stream",
     "text": [
      "🧩 Batch 287: Main=26200 | Tail= 400 | Total=26600\n",
      "🧩 Batch 288: Main=26200 | Tail= 400 | Total=26600\n"
     ]
    },
    {
     "name": "stderr",
     "output_type": "stream",
     "text": [
      "📦 Merging main + tail batches:  95%|█████████████████████████████████████████████▍  | 289/305 [03:36<00:13,  1.17it/s]"
     ]
    },
    {
     "name": "stdout",
     "output_type": "stream",
     "text": [
      "🧩 Batch 289: Main=26200 | Tail= 400 | Total=26600\n"
     ]
    },
    {
     "name": "stderr",
     "output_type": "stream",
     "text": [
      "📦 Merging main + tail batches:  95%|█████████████████████████████████████████████▋  | 290/305 [03:37<00:12,  1.24it/s]"
     ]
    },
    {
     "name": "stdout",
     "output_type": "stream",
     "text": [
      "🧩 Batch 290: Main=26200 | Tail= 400 | Total=26600\n"
     ]
    },
    {
     "name": "stderr",
     "output_type": "stream",
     "text": [
      "📦 Merging main + tail batches:  95%|█████████████████████████████████████████████▊  | 291/305 [03:38<00:11,  1.23it/s]"
     ]
    },
    {
     "name": "stdout",
     "output_type": "stream",
     "text": [
      "🧩 Batch 291: Main=26200 | Tail= 400 | Total=26600\n"
     ]
    },
    {
     "name": "stderr",
     "output_type": "stream",
     "text": [
      "📦 Merging main + tail batches:  96%|█████████████████████████████████████████████▉  | 292/305 [03:38<00:10,  1.30it/s]"
     ]
    },
    {
     "name": "stdout",
     "output_type": "stream",
     "text": [
      "🧩 Batch 292: Main=26200 | Tail= 400 | Total=26600\n"
     ]
    },
    {
     "name": "stderr",
     "output_type": "stream",
     "text": [
      "📦 Merging main + tail batches:  96%|██████████████████████████████████████████████  | 293/305 [03:39<00:08,  1.35it/s]"
     ]
    },
    {
     "name": "stdout",
     "output_type": "stream",
     "text": [
      "🧩 Batch 293: Main=26200 | Tail= 400 | Total=26600\n"
     ]
    },
    {
     "name": "stderr",
     "output_type": "stream",
     "text": [
      "📦 Merging main + tail batches:  96%|██████████████████████████████████████████████▎ | 294/305 [03:40<00:08,  1.35it/s]"
     ]
    },
    {
     "name": "stdout",
     "output_type": "stream",
     "text": [
      "🧩 Batch 294: Main=26200 | Tail= 400 | Total=26600\n"
     ]
    },
    {
     "name": "stderr",
     "output_type": "stream",
     "text": [
      "📦 Merging main + tail batches:  97%|██████████████████████████████████████████████▍ | 295/305 [03:40<00:07,  1.35it/s]"
     ]
    },
    {
     "name": "stdout",
     "output_type": "stream",
     "text": [
      "🧩 Batch 295: Main=26200 | Tail= 400 | Total=26600\n"
     ]
    },
    {
     "name": "stderr",
     "output_type": "stream",
     "text": [
      "📦 Merging main + tail batches:  97%|██████████████████████████████████████████████▌ | 296/305 [03:41<00:06,  1.35it/s]"
     ]
    },
    {
     "name": "stdout",
     "output_type": "stream",
     "text": [
      "🧩 Batch 296: Main=26200 | Tail= 400 | Total=26600\n"
     ]
    },
    {
     "name": "stderr",
     "output_type": "stream",
     "text": [
      "📦 Merging main + tail batches:  97%|██████████████████████████████████████████████▋ | 297/305 [03:42<00:06,  1.28it/s]"
     ]
    },
    {
     "name": "stdout",
     "output_type": "stream",
     "text": [
      "🧩 Batch 297: Main=26200 | Tail= 400 | Total=26600\n"
     ]
    },
    {
     "name": "stderr",
     "output_type": "stream",
     "text": [
      "📦 Merging main + tail batches:  98%|██████████████████████████████████████████████▉ | 298/305 [03:43<00:05,  1.28it/s]"
     ]
    },
    {
     "name": "stdout",
     "output_type": "stream",
     "text": [
      "🧩 Batch 298: Main=26200 | Tail= 400 | Total=26600\n"
     ]
    },
    {
     "name": "stderr",
     "output_type": "stream",
     "text": [
      "📦 Merging main + tail batches:  98%|███████████████████████████████████████████████▏| 300/305 [03:44<00:03,  1.31it/s]"
     ]
    },
    {
     "name": "stdout",
     "output_type": "stream",
     "text": [
      "🧩 Batch 299: Main=26200 | Tail= 400 | Total=26600\n"
     ]
    },
    {
     "name": "stderr",
     "output_type": "stream",
     "text": [
      "📦 Merging main + tail batches:  99%|███████████████████████████████████████████████▎| 301/305 [03:45<00:02,  1.34it/s]"
     ]
    },
    {
     "name": "stdout",
     "output_type": "stream",
     "text": [
      "🧩 Batch 300: Main=26200 | Tail= 400 | Total=26600\n",
      "🧩 Batch 301: Main=26200 | Tail= 400 | Total=26600\n"
     ]
    },
    {
     "name": "stderr",
     "output_type": "stream",
     "text": [
      "📦 Merging main + tail batches:  99%|███████████████████████████████████████████████▌| 302/305 [03:46<00:02,  1.34it/s]"
     ]
    },
    {
     "name": "stdout",
     "output_type": "stream",
     "text": [
      "🧩 Batch 302: Main=26200 | Tail= 400 | Total=26600\n"
     ]
    },
    {
     "name": "stderr",
     "output_type": "stream",
     "text": [
      "📦 Merging main + tail batches: 100%|███████████████████████████████████████████████▊| 304/305 [03:47<00:00,  1.33it/s]"
     ]
    },
    {
     "name": "stdout",
     "output_type": "stream",
     "text": [
      "🧩 Batch 303: Main=26200 | Tail= 400 | Total=26600\n",
      "🧩 Batch 304: Main=23580 | Tail= 360 | Total=23940\n"
     ]
    },
    {
     "name": "stderr",
     "output_type": "stream",
     "text": [
      "📦 Merging main + tail batches: 100%|████████████████████████████████████████████████| 305/305 [03:48<00:00,  1.33it/s]\n"
     ]
    }
   ],
   "source": [
    "for batch_num in tqdm(batch_numbers, desc=\"📦 Merging main + tail batches\"):\n",
    "    # Main paths\n",
    "    x_main = os.path.join(MAIN_DIR, f\"X_batch_{batch_num}.npy\")\n",
    "    y_main = os.path.join(MAIN_DIR, f\"y_batch_{batch_num}.npy\")\n",
    "\n",
    "    X = np.load(x_main)\n",
    "    y = np.load(y_main)\n",
    "\n",
    "    # Tail paths\n",
    "    x_tail = os.path.join(TAIL_DIR, f\"X_batch_{batch_num}_tail.npy\")\n",
    "    y_tail = os.path.join(TAIL_DIR, f\"y_batch_{batch_num}_tail.npy\")\n",
    "\n",
    "    if os.path.exists(x_tail) and os.path.exists(y_tail):\n",
    "        X_tail = np.load(x_tail)\n",
    "        y_tail = np.load(y_tail)\n",
    "\n",
    "        X = np.concatenate([X, X_tail], axis=0)\n",
    "        y = np.concatenate([y, y_tail], axis=0)\n",
    "\n",
    "        print(f\"🧩 Batch {batch_num:>3}: Main={X.shape[0] - X_tail.shape[0]:>4} | Tail={X_tail.shape[0]:>4} | Total={X.shape[0]:>4}\")\n",
    "    else:\n",
    "        print(f\"🧩 Batch {batch_num:>3}: Main={X.shape[0]:>4} | Tail=None | Total={X.shape[0]:>4}\")\n",
    "\n",
    "    np.save(os.path.join(OUTPUT_DIR, f\"X_batch_{batch_num}.npy\"), X)\n",
    "    np.save(os.path.join(OUTPUT_DIR, f\"y_batch_{batch_num}.npy\"), y)"
   ]
  },
  {
   "cell_type": "code",
   "execution_count": 65,
   "id": "7f700382-c604-44e5-942e-cadc8d3513ee",
   "metadata": {},
   "outputs": [
    {
     "name": "stdout",
     "output_type": "stream",
     "text": [
      "🧪 Batch final_train_data shapes:\n",
      "X shape: (26600, 56, 29)\n",
      "y shape: (26600, 28)\n"
     ]
    }
   ],
   "source": [
    "# === Load one batch\n",
    "BATCH_IDX = 0  # Try a few like 0, 100, 200, etc.\n",
    "\n",
    "X = np.load(os.path.join(OUTPUT_DIR, f\"X_batch_{BATCH_IDX}.npy\"))\n",
    "y = np.load(os.path.join(OUTPUT_DIR, f\"y_batch_{BATCH_IDX}.npy\"))\n",
    "\n",
    "print(f\"🧪 Batch {OUTPUT_DIR} shapes:\")\n",
    "print(\"X shape:\", X.shape)  # Expect: (num_sequences, 56, 29)\n",
    "print(\"y shape:\", y.shape)  # Expect: (num_sequences, 28)"
   ]
  },
  {
   "cell_type": "code",
   "execution_count": 66,
   "id": "a4891ca8-434c-463f-a325-354977230ffc",
   "metadata": {},
   "outputs": [
    {
     "name": "stdout",
     "output_type": "stream",
     "text": [
      "\n",
      "📈 Sample y values (last 3 rows):\n",
      "[[1. 1. 0. 3. 0. 3. 2. 0. 0. 0. 0. 3. 2. 0. 0. 2. 2. 0. 2. 0. 2. 1. 0. 0.\n",
      "  1. 0. 0. 1.]\n",
      " [0. 0. 0. 0. 3. 2. 0. 0. 2. 2. 0. 2. 0. 2. 1. 0. 0. 1. 0. 0. 1. 0. 0. 1.\n",
      "  3. 0. 0. 2.]\n",
      " [0. 2. 2. 0. 2. 0. 2. 1. 0. 0. 1. 0. 0. 1. 0. 0. 1. 3. 0. 0. 2. 0. 0. 1.\n",
      "  0. 0. 0. 1.]]\n"
     ]
    }
   ],
   "source": [
    "# Check last 3 y sequences — this is where tail sequences likely live\n",
    "print(\"\\n📈 Sample y values (last 3 rows):\")\n",
    "print(y[-3:])"
   ]
  },
  {
   "cell_type": "code",
   "execution_count": 71,
   "id": "3a1ce745-049f-4421-8af5-2009984811dd",
   "metadata": {},
   "outputs": [],
   "source": [
    "# === Settings\n",
    "BATCH_IDX = 0\n",
    "ID_TO_CHECK = \"FOODS_3_119_TX_3_evaluation\"  # Pick an ID known to be in batch 0\n",
    "GROUP_DIR = \"sequence_chunks_v3\\grouped_v3\"\n",
    "OUTPUT_DIR = \"final_train_data\""
   ]
  },
  {
   "cell_type": "code",
   "execution_count": 72,
   "id": "acf2f4c1-5af0-4fb7-aa87-db39753c0ddd",
   "metadata": {},
   "outputs": [
    {
     "name": "stdout",
     "output_type": "stream",
     "text": [
      "🎯 Input window d_nums (last 3): shape: (3,)\n",
      "Series: 'd_num' [i16]\n",
      "[\n",
      "\t1939\n",
      "\t1940\n",
      "\t1941\n",
      "]\n"
     ]
    }
   ],
   "source": [
    "# === Load original df for ID\n",
    "df = pl.read_parquet(os.path.join(GROUP_DIR, f\"{ID_TO_CHECK}.parquet\")).sort(\"d_num\")\n",
    "\n",
    "# === Extract most recent 56 days (input window)\n",
    "input_df = df.filter((pl.col(\"d_num\") >= 1886) & (pl.col(\"d_num\") <= 1941)).select(\"d_num\", \"sales\")\n",
    "print(\"🎯 Input window d_nums (last 3):\", input_df.select(\"d_num\").to_series()[-3:])"
   ]
  },
  {
   "cell_type": "code",
   "execution_count": 73,
   "id": "f4aee3e0-b72f-45d8-b494-1388da7dabe3",
   "metadata": {},
   "outputs": [
    {
     "name": "stdout",
     "output_type": "stream",
     "text": [
      "\n",
      "🧾 Final y_batch rows (last 3):\n",
      "[1. 1. 0. 3. 0. 3. 2. 0. 0. 0. 0. 3. 2. 0. 0. 2. 2. 0. 2. 0. 2. 1. 0. 0.\n",
      " 1. 0. 0. 1.]\n",
      "[0. 0. 0. 0. 3. 2. 0. 0. 2. 2. 0. 2. 0. 2. 1. 0. 0. 1. 0. 0. 1. 0. 0. 1.\n",
      " 3. 0. 0. 2.]\n",
      "[0. 2. 2. 0. 2. 0. 2. 1. 0. 0. 1. 0. 0. 1. 0. 0. 1. 3. 0. 0. 2. 0. 0. 1.\n",
      " 0. 0. 0. 1.]\n",
      "\n",
      "✅ X shape: (26600, 56, 29)\n",
      "✅ y shape: (26600, 28)\n"
     ]
    }
   ],
   "source": [
    "# === Load X/y arrays\n",
    "X_batch = np.load(os.path.join(OUTPUT_DIR, f\"X_batch_{BATCH_IDX}.npy\"))\n",
    "y_batch = np.load(os.path.join(OUTPUT_DIR, f\"y_batch_{BATCH_IDX}.npy\"))\n",
    "\n",
    "# === Print a few final y values\n",
    "print(\"\\n🧾 Final y_batch rows (last 3):\")\n",
    "for row in y_batch[-3:]:\n",
    "    print(row)\n",
    "\n",
    "# === Shape confirmation\n",
    "print(\"\\n✅ X shape:\", X_batch.shape)\n",
    "print(\"✅ y shape:\", y_batch.shape)"
   ]
  },
  {
   "cell_type": "code",
   "execution_count": null,
   "id": "0b1891ce-f4fe-4d82-a2be-3625caadce0e",
   "metadata": {},
   "outputs": [],
   "source": []
  }
 ],
 "metadata": {
  "kernelspec": {
   "display_name": "Python (tf-gpu)",
   "language": "python",
   "name": "tf-gpu"
  },
  "language_info": {
   "codemirror_mode": {
    "name": "ipython",
    "version": 3
   },
   "file_extension": ".py",
   "mimetype": "text/x-python",
   "name": "python",
   "nbconvert_exporter": "python",
   "pygments_lexer": "ipython3",
   "version": "3.10.16"
  }
 },
 "nbformat": 4,
 "nbformat_minor": 5
}
